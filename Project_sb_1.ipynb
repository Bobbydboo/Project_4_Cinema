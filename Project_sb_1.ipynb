{
 "cells": [
  {
   "cell_type": "markdown",
   "metadata": {
    "toc": true
   },
   "source": [
    "<h1>Содержание<span class=\"tocSkip\"></span></h1>\n",
    "<div class=\"toc\"><ul class=\"toc-item\"><li><span><a href=\"#Шаг-1.-Объединение-данных\" data-toc-modified-id=\"Шаг-1.-Объединение-данных-1\"><span class=\"toc-item-num\">1&nbsp;&nbsp;</span>Шаг 1. Объединение данных</a></span></li><li><span><a href=\"#Шаг-2.-Предобработка-данных\" data-toc-modified-id=\"Шаг-2.-Предобработка-данных-2\"><span class=\"toc-item-num\">2&nbsp;&nbsp;</span>Шаг 2. Предобработка данных</a></span></li><li><span><a href=\"#Шаг-3.-Исследовательский-анализ-данных\" data-toc-modified-id=\"Шаг-3.-Исследовательский-анализ-данных-3\"><span class=\"toc-item-num\">3&nbsp;&nbsp;</span>Шаг 3. Исследовательский анализ данных</a></span></li><li><span><a href=\"#Описание-данных\" data-toc-modified-id=\"Описание-данных-4\"><span class=\"toc-item-num\">4&nbsp;&nbsp;</span>Описание данных</a></span><ul class=\"toc-item\"><li><span><a href=\"#Таблица-mkrf_movies-содержит-информацию-из-реестра-прокатных-удостоверений.-У-одного-фильма-может-быть-несколько-прокатных-удостоверений.\" data-toc-modified-id=\"Таблица-mkrf_movies-содержит-информацию-из-реестра-прокатных-удостоверений.-У-одного-фильма-может-быть-несколько-прокатных-удостоверений.-4.1\"><span class=\"toc-item-num\">4.1&nbsp;&nbsp;</span>Таблица <code>mkrf_movies</code> содержит информацию из реестра прокатных удостоверений. У одного фильма может быть несколько прокатных удостоверений.</a></span></li><li><span><a href=\"#Таблица-mkrf_shows-содержит-сведения-о-показах-фильмов-в-российских-кинотеатрах.\" data-toc-modified-id=\"Таблица-mkrf_shows-содержит-сведения-о-показах-фильмов-в-российских-кинотеатрах.-4.2\"><span class=\"toc-item-num\">4.2&nbsp;&nbsp;</span>Таблица <code>mkrf_shows</code> содержит сведения о показах фильмов в российских кинотеатрах.</a></span></li></ul></li><li><span><a href=\"#Изучение-данных-из-файла\" data-toc-modified-id=\"Изучение-данных-из-файла-5\"><span class=\"toc-item-num\">5&nbsp;&nbsp;</span>Изучение данных из файла</a></span><ul class=\"toc-item\"><li><span><a href=\"#Шаг-1.-Откройте-файлы-с-данными-и-объедините-их-в-один-датафрейм.\" data-toc-modified-id=\"Шаг-1.-Откройте-файлы-с-данными-и-объедините-их-в-один-датафрейм.-5.1\"><span class=\"toc-item-num\">5.1&nbsp;&nbsp;</span>Шаг 1. Откройте файлы с данными и объедините их в один датафрейм.</a></span></li><li><span><a href=\"#Вывод-по-разделу-&quot;Изучение-данных-из-файла&quot;\" data-toc-modified-id=\"Вывод-по-разделу-&quot;Изучение-данных-из-файла&quot;-5.2\"><span class=\"toc-item-num\">5.2&nbsp;&nbsp;</span>Вывод по разделу \"Изучение данных из файла\"</a></span></li></ul></li><li><span><a href=\"#Предобработка-данных\" data-toc-modified-id=\"Предобработка-данных-6\"><span class=\"toc-item-num\">6&nbsp;&nbsp;</span>Предобработка данных</a></span><ul class=\"toc-item\"><li><span><a href=\"#Вывод-по-разделу-предобработка-данных\" data-toc-modified-id=\"Вывод-по-разделу-предобработка-данных-6.1\"><span class=\"toc-item-num\">6.1&nbsp;&nbsp;</span>Вывод по разделу предобработка данных</a></span></li></ul></li><li><span><a href=\"#Расчёты-и-добавление-результатов-в-таблицу\" data-toc-modified-id=\"Расчёты-и-добавление-результатов-в-таблицу-7\"><span class=\"toc-item-num\">7&nbsp;&nbsp;</span>Расчёты и добавление результатов в таблицу</a></span></li><li><span><a href=\"#Исследовательский-анализ-данных\" data-toc-modified-id=\"Исследовательский-анализ-данных-8\"><span class=\"toc-item-num\">8&nbsp;&nbsp;</span>Исследовательский анализ данных</a></span><ul class=\"toc-item\"><li><span><a href=\"#Вывод-по-разделу-Исследовательский-анализ-данных\" data-toc-modified-id=\"Вывод-по-разделу-Исследовательский-анализ-данных-8.1\"><span class=\"toc-item-num\">8.1&nbsp;&nbsp;</span>Вывод по разделу Исследовательский анализ данных</a></span></li></ul></li><li><span><a href=\"#Общий-вывод\" data-toc-modified-id=\"Общий-вывод-9\"><span class=\"toc-item-num\">9&nbsp;&nbsp;</span>Общий вывод</a></span></li><li><span><a href=\"#Итоговый-вывод\" data-toc-modified-id=\"Итоговый-вывод-10\"><span class=\"toc-item-num\">10&nbsp;&nbsp;</span>Итоговый вывод</a></span><ul class=\"toc-item\"><li><span><a href=\"#Шаг-5.-Напишите-общий-вывод\" data-toc-modified-id=\"Шаг-5.-Напишите-общий-вывод-10.1\"><span class=\"toc-item-num\">10.1&nbsp;&nbsp;</span>Шаг 5. Напишите общий вывод</a></span></li></ul></li><li><span><a href=\"#Чек-лист-готовности-проекта\" data-toc-modified-id=\"Чек-лист-готовности-проекта-11\"><span class=\"toc-item-num\">11&nbsp;&nbsp;</span>Чек-лист готовности проекта</a></span></li></ul></div>"
   ]
  },
  {
   "cell_type": "markdown",
   "metadata": {},
   "source": [
    "# Описание проекта\n",
    "\n",
    "**Заказчик:** Министерство культуры Российской Федерации.\n",
    "\n",
    "**Цель проекта:** Изучить рынок российского кинопроката и выявить текущие тренды. Уделить внимание фильмам, которые получили государственную поддержку, и оценить их интерес для зрителей.\n",
    "\n",
    "# Инструкция по выполнению\n",
    "\n",
    "## Шаг 1. Объединение данных\n",
    "\n",
    "1. Откройте файлы с данными: \n",
    "   - /datasets/mkrf_movies.csv — данные о прокатных удостоверениях.\n",
    "   - /datasets/mkrf_shows.csv — данные о прокате в российских кинотеатрах.\n",
    "\n",
    "2. Объедините данные таким образом, чтобы все объекты из датасета `mkrf_movies` обязательно вошли в получившийся датафрейм.\n",
    "\n",
    "## Шаг 2. Предобработка данных\n",
    "\n",
    "1. Проверьте типы данных в датафрейме и преобразуйте их, где это необходимо.\n",
    "\n",
    "2. Изучите пропуски в датафрейме. Объясните, почему заполнили пропуски определённым образом или почему не стали это делать.\n",
    "\n",
    "3. Проверьте, есть ли в данных дубликаты. Опишите причины, которые могли повлиять на появление дублей.\n",
    "\n",
    "4. Изучите столбцы, которые содержат категориальные значения:\n",
    "   - Посмотрите, какая общая проблема встречается почти во всех категориальных столбцах.\n",
    "   - Исправьте проблемные значения в поле `type`.\n",
    "\n",
    "5. Изучите столбцы, которые хранят количественные значения. Проверьте, обнаружились ли в таких столбцах подозрительные данные. Как с такими данными лучше поступить?\n",
    "\n",
    "6. Добавьте новые столбцы:\n",
    "   - Создайте столбец с информацией о годе проката.\n",
    "   - Выделите год из даты премьеры фильма.\n",
    "   - Создайте два столбца: с именем и фамилией главного режиссёра и основным жанром фильма. В столбцы войдут первые значения из списка режиссёров и жанров соответственно.\n",
    "   \n",
    "7. Посчитайте, какую долю от общего бюджета фильма составляет государственная поддержка.\n",
    "\n",
    "## Шаг 3. Исследовательский анализ данных\n",
    "\n",
    "1. Посмотрите, сколько фильмов выходило в прокат каждый год.\n",
    "\n",
    "2. Обратите внимание, что данные о прокате в кинотеатрах известны не для всех фильмов. Посчитайте, какую долю составляют фильмы с указанной информацией о прокате в кинотеатрах. Проанализируйте, как эта доля менялась по годам.\n",
    "\n",
    "3. Изучите, как менялась динамика проката по годам. В каком году сумма сборов была минимальной? А максимальной? \n",
    "\n",
    "4. С помощью сводной таблицы посчитайте среднюю и медианную сумму сборов для каждого года. Сравните значения и сделайте выводы.\n",
    "\n",
    "5. Определите, влияет ли возрастное ограничение аудитории (\"6+\", \"12+\", \"16+\", \"18+\" и т. д.) на сборы фильма в прокате в период с 2015 по 2019 год? Фильмы с каким возрастным ограничением собрали больше всего денег в прокате? Меняется ли картина в зависимости от года? Если да, предположите,"
   ]
  },
  {
   "cell_type": "markdown",
   "metadata": {},
   "source": [
    "## Описание данных\n",
    "\n",
    "### Таблица `mkrf_movies` содержит информацию из реестра прокатных удостоверений. У одного фильма может быть несколько прокатных удостоверений.\n",
    "\n",
    "1. `title` — название фильма;\n",
    "2. `puNumber` — номер прокатного удостоверения;\n",
    "3. `show_start_date` — дата премьеры фильма;\n",
    "4. `type` — тип фильма;\n",
    "5. `film_studio` — студия-производитель;\n",
    "6. `production_country` — страна-производитель;\n",
    "7. `director` — режиссёр;\n",
    "8. `producer` — продюсер;\n",
    "9. `age_restriction` — возрастная категория;\n",
    "10. `refundable_support` — объём возвратных средств государственной поддержки;\n",
    "11. `nonrefundable_support` — объём невозвратных средств государственной поддержки;\n",
    "12. `financing_source` — источник государственного финансирования;\n",
    "13. `budget` — общий бюджет фильма;\n",
    "14. `ratings` — рейтинг фильма на КиноПоиске;\n",
    "15. `genres` — жанр фильма.\n",
    "\n",
    "Обратите внимание, что столбец `budget` уже включает в себя полный объём государственной поддержки. Данные в этом столбце указаны только для тех фильмов, которые получили государственную поддержку.\n",
    "\n",
    "### Таблица `mkrf_shows` содержит сведения о показах фильмов в российских кинотеатрах.\n",
    "\n",
    "1. `puNumber` — номер прокатного удостоверения;\n",
    "2. `box_office` — сборы в рублях."
   ]
  },
  {
   "cell_type": "markdown",
   "metadata": {
    "id": "F5HAJRCruqj6"
   },
   "source": [
    "## Изучение данных из файла"
   ]
  },
  {
   "cell_type": "code",
   "execution_count": 1,
   "metadata": {},
   "outputs": [],
   "source": [
    "#Import ALL\n",
    "import pandas as pd\n",
    "import seaborn as sns\n",
    "import matplotlib.pyplot as plt\n",
    "import warnings\n",
    "warnings.filterwarnings('ignore')\n",
    "import phik\n",
    "from phik.report import plot_correlation_matrix\n",
    "from phik import report"
   ]
  },
  {
   "cell_type": "markdown",
   "metadata": {},
   "source": [
    "### Шаг 1. Откройте файлы с данными и объедините их в один датафрейм. \n",
    "\n",
    "Объедините данные таким образом, чтобы все объекты из датасета `mkrf_movies` обязательно вошли в получившийся датафрейм. \n",
    "\n",
    "<div id=\"accordion\">\n",
    "    <div class=\"card\">\n",
    "        <div class=\"card-header\" id=\"headingThree\">\n",
    "            <button class=\"btn btn-link collapsed\" data-toggle=\"collapse\" data-target=\"#collapseHint_0\" aria-expanded=\"false\" aria-controls=\"collapseHint_0\">Подсказка</button>\n",
    "        </div>\n",
    "        <div id=\"collapseHint_0\" class=\"collapse\" aria-labelledby=\"headingThree\" data-parent=\"#accordion\">\n",
    "            <div class=\"card-body\">\n",
    "Обратите внимание на тип данных столбца, по которому будете соединять датафреймы. Тип данных этих столбцов должен быть одинаковым в обоих датафреймах.\n",
    "            </div>\n",
    "        </div>\n",
    "    </div>\n",
    "</div>"
   ]
  },
  {
   "cell_type": "markdown",
   "metadata": {},
   "source": [
    "Производим чтение"
   ]
  },
  {
   "cell_type": "code",
   "execution_count": 2,
   "metadata": {},
   "outputs": [],
   "source": [
    "#Производим чтение файла с данными в переменную\n",
    "try:\n",
    "    df=pd.read_csv('/datasets/mkrf_movies.csv') # — данные о прокатных удостоверениях.\n",
    "    df1=pd.read_csv('/datasets/mkrf_shows.csv') #— данные о прокате в российских кинотеатрах.\n",
    "except:\n",
    "    df=pd.read_csv(r'C:\\Users\\Admin\\Desktop\\Яндек-проекты\\Кино\\mkrf_movies.csv')\n",
    "    df1=pd.read_csv(r'C:\\Users\\Admin\\Desktop\\Яндек-проекты\\Кино\\mkrf_shows.csv')"
   ]
  },
  {
   "cell_type": "markdown",
   "metadata": {},
   "source": [
    "Производим вывод данных из массива — данные о прокатных удостоверениях."
   ]
  },
  {
   "cell_type": "code",
   "execution_count": 3,
   "metadata": {},
   "outputs": [
    {
     "name": "stdout",
     "output_type": "stream",
     "text": [
      "<class 'pandas.core.frame.DataFrame'>\n",
      "RangeIndex: 7486 entries, 0 to 7485\n",
      "Data columns (total 15 columns):\n",
      " #   Column                 Non-Null Count  Dtype  \n",
      "---  ------                 --------------  -----  \n",
      " 0   title                  7486 non-null   object \n",
      " 1   puNumber               7486 non-null   object \n",
      " 2   show_start_date        7486 non-null   object \n",
      " 3   type                   7486 non-null   object \n",
      " 4   film_studio            7468 non-null   object \n",
      " 5   production_country     7484 non-null   object \n",
      " 6   director               7477 non-null   object \n",
      " 7   producer               6918 non-null   object \n",
      " 8   age_restriction        7486 non-null   object \n",
      " 9   refundable_support     332 non-null    float64\n",
      " 10  nonrefundable_support  332 non-null    float64\n",
      " 11  budget                 332 non-null    float64\n",
      " 12  financing_source       332 non-null    object \n",
      " 13  ratings                6519 non-null   object \n",
      " 14  genres                 6510 non-null   object \n",
      "dtypes: float64(3), object(12)\n",
      "memory usage: 877.4+ KB\n"
     ]
    },
    {
     "data": {
      "text/plain": [
       "None"
      ]
     },
     "metadata": {},
     "output_type": "display_data"
    },
    {
     "data": {
      "text/plain": [
       "'данные о прокатных удостоверениях Head 3'"
      ]
     },
     "metadata": {},
     "output_type": "display_data"
    },
    {
     "data": {
      "text/html": [
       "<div>\n",
       "<style scoped>\n",
       "    .dataframe tbody tr th:only-of-type {\n",
       "        vertical-align: middle;\n",
       "    }\n",
       "\n",
       "    .dataframe tbody tr th {\n",
       "        vertical-align: top;\n",
       "    }\n",
       "\n",
       "    .dataframe thead th {\n",
       "        text-align: right;\n",
       "    }\n",
       "</style>\n",
       "<table border=\"1\" class=\"dataframe\">\n",
       "  <thead>\n",
       "    <tr style=\"text-align: right;\">\n",
       "      <th></th>\n",
       "      <th>title</th>\n",
       "      <th>puNumber</th>\n",
       "      <th>show_start_date</th>\n",
       "      <th>type</th>\n",
       "      <th>film_studio</th>\n",
       "      <th>production_country</th>\n",
       "      <th>director</th>\n",
       "      <th>producer</th>\n",
       "      <th>age_restriction</th>\n",
       "      <th>refundable_support</th>\n",
       "      <th>nonrefundable_support</th>\n",
       "      <th>budget</th>\n",
       "      <th>financing_source</th>\n",
       "      <th>ratings</th>\n",
       "      <th>genres</th>\n",
       "    </tr>\n",
       "  </thead>\n",
       "  <tbody>\n",
       "    <tr>\n",
       "      <th>0</th>\n",
       "      <td>Открытый простор</td>\n",
       "      <td>221048915</td>\n",
       "      <td>2015-11-27T12:00:00.000Z</td>\n",
       "      <td>Художественный</td>\n",
       "      <td>Тачстоун Пикчерз, Кобальт Пикчерз, Бикон Пикче...</td>\n",
       "      <td>США</td>\n",
       "      <td>Кевин Костнер</td>\n",
       "      <td>Дэвид Валдес, Кевин Костнер, Джейк Эбертс</td>\n",
       "      <td>«18+» - запрещено для детей</td>\n",
       "      <td>NaN</td>\n",
       "      <td>NaN</td>\n",
       "      <td>NaN</td>\n",
       "      <td>NaN</td>\n",
       "      <td>7.2</td>\n",
       "      <td>боевик,драма,мелодрама</td>\n",
       "    </tr>\n",
       "    <tr>\n",
       "      <th>1</th>\n",
       "      <td>Особо важное задание</td>\n",
       "      <td>111013716</td>\n",
       "      <td>2016-09-13T12:00:00.000Z</td>\n",
       "      <td>Художественный</td>\n",
       "      <td>Киностудия \"Мосфильм\"</td>\n",
       "      <td>СССР</td>\n",
       "      <td>Е.Матвеев</td>\n",
       "      <td>NaN</td>\n",
       "      <td>«6+» - для детей старше 6 лет</td>\n",
       "      <td>NaN</td>\n",
       "      <td>NaN</td>\n",
       "      <td>NaN</td>\n",
       "      <td>NaN</td>\n",
       "      <td>6.6</td>\n",
       "      <td>драма,военный</td>\n",
       "    </tr>\n",
       "    <tr>\n",
       "      <th>2</th>\n",
       "      <td>Особо опасен</td>\n",
       "      <td>221038416</td>\n",
       "      <td>2016-10-10T12:00:00.000Z</td>\n",
       "      <td>Художественный</td>\n",
       "      <td>Юниверсал Пикчерз, Кикстарт Продакшнз, Марк Пл...</td>\n",
       "      <td>США</td>\n",
       "      <td>Тимур Бекмамбетов</td>\n",
       "      <td>Джим Лемли, Джейсон Нетер, Марк Е.Платт, Яйн Смит</td>\n",
       "      <td>«18+» - запрещено для детей</td>\n",
       "      <td>NaN</td>\n",
       "      <td>NaN</td>\n",
       "      <td>NaN</td>\n",
       "      <td>NaN</td>\n",
       "      <td>6.8</td>\n",
       "      <td>фантастика,боевик,триллер</td>\n",
       "    </tr>\n",
       "  </tbody>\n",
       "</table>\n",
       "</div>"
      ],
      "text/plain": [
       "                  title   puNumber           show_start_date            type  \\\n",
       "0      Открытый простор  221048915  2015-11-27T12:00:00.000Z  Художественный   \n",
       "1  Особо важное задание  111013716  2016-09-13T12:00:00.000Z  Художественный   \n",
       "2          Особо опасен  221038416  2016-10-10T12:00:00.000Z  Художественный   \n",
       "\n",
       "                                         film_studio production_country  \\\n",
       "0  Тачстоун Пикчерз, Кобальт Пикчерз, Бикон Пикче...                США   \n",
       "1                              Киностудия \"Мосфильм\"               СССР   \n",
       "2  Юниверсал Пикчерз, Кикстарт Продакшнз, Марк Пл...                США   \n",
       "\n",
       "            director                                           producer  \\\n",
       "0      Кевин Костнер          Дэвид Валдес, Кевин Костнер, Джейк Эбертс   \n",
       "1          Е.Матвеев                                                NaN   \n",
       "2  Тимур Бекмамбетов  Джим Лемли, Джейсон Нетер, Марк Е.Платт, Яйн Смит   \n",
       "\n",
       "                 age_restriction  refundable_support  nonrefundable_support  \\\n",
       "0    «18+» - запрещено для детей                 NaN                    NaN   \n",
       "1  «6+» - для детей старше 6 лет                 NaN                    NaN   \n",
       "2    «18+» - запрещено для детей                 NaN                    NaN   \n",
       "\n",
       "   budget financing_source ratings                     genres  \n",
       "0     NaN              NaN     7.2     боевик,драма,мелодрама  \n",
       "1     NaN              NaN     6.6              драма,военный  \n",
       "2     NaN              NaN     6.8  фантастика,боевик,триллер  "
      ]
     },
     "metadata": {},
     "output_type": "display_data"
    },
    {
     "data": {
      "text/plain": [
       "'данные о прокатных удостоверениях Tail 3'"
      ]
     },
     "metadata": {},
     "output_type": "display_data"
    },
    {
     "data": {
      "text/html": [
       "<div>\n",
       "<style scoped>\n",
       "    .dataframe tbody tr th:only-of-type {\n",
       "        vertical-align: middle;\n",
       "    }\n",
       "\n",
       "    .dataframe tbody tr th {\n",
       "        vertical-align: top;\n",
       "    }\n",
       "\n",
       "    .dataframe thead th {\n",
       "        text-align: right;\n",
       "    }\n",
       "</style>\n",
       "<table border=\"1\" class=\"dataframe\">\n",
       "  <thead>\n",
       "    <tr style=\"text-align: right;\">\n",
       "      <th></th>\n",
       "      <th>title</th>\n",
       "      <th>puNumber</th>\n",
       "      <th>show_start_date</th>\n",
       "      <th>type</th>\n",
       "      <th>film_studio</th>\n",
       "      <th>production_country</th>\n",
       "      <th>director</th>\n",
       "      <th>producer</th>\n",
       "      <th>age_restriction</th>\n",
       "      <th>refundable_support</th>\n",
       "      <th>nonrefundable_support</th>\n",
       "      <th>budget</th>\n",
       "      <th>financing_source</th>\n",
       "      <th>ratings</th>\n",
       "      <th>genres</th>\n",
       "    </tr>\n",
       "  </thead>\n",
       "  <tbody>\n",
       "    <tr>\n",
       "      <th>7483</th>\n",
       "      <td>Щенячий патруль: Скорей спешим на помощь!</td>\n",
       "      <td>124010819</td>\n",
       "      <td>2019-12-28T12:00:00.000Z</td>\n",
       "      <td>Художественный</td>\n",
       "      <td>Никелодеон Анимейшн Студиос, Спин Мастер</td>\n",
       "      <td>США - Канада</td>\n",
       "      <td>Чарльз Е.Бастьен</td>\n",
       "      <td>Дженнифер Додж</td>\n",
       "      <td>«0+» - для любой зрительской аудитории</td>\n",
       "      <td>NaN</td>\n",
       "      <td>NaN</td>\n",
       "      <td>NaN</td>\n",
       "      <td>NaN</td>\n",
       "      <td>NaN</td>\n",
       "      <td>NaN</td>\n",
       "    </tr>\n",
       "    <tr>\n",
       "      <th>7484</th>\n",
       "      <td>Машины песенки. Серия \"Испанские мотивы\"</td>\n",
       "      <td>124010619</td>\n",
       "      <td>2019-12-30T12:00:00.000Z</td>\n",
       "      <td>Анимационный</td>\n",
       "      <td>Анимаккорд Лтд., ООО Студия \"АНИМАККОРД\"</td>\n",
       "      <td>Республика Кипр, Россия</td>\n",
       "      <td>А.Беляев</td>\n",
       "      <td>Д.Ловейко</td>\n",
       "      <td>«0+» - для любой зрительской аудитории</td>\n",
       "      <td>NaN</td>\n",
       "      <td>NaN</td>\n",
       "      <td>NaN</td>\n",
       "      <td>NaN</td>\n",
       "      <td>NaN</td>\n",
       "      <td>NaN</td>\n",
       "    </tr>\n",
       "    <tr>\n",
       "      <th>7485</th>\n",
       "      <td>Машины песенки. Серия \"Когда цветут кактусы\"</td>\n",
       "      <td>124010719</td>\n",
       "      <td>2019-12-30T12:00:00.000Z</td>\n",
       "      <td>Анимационный</td>\n",
       "      <td>Анимаккорд Лтд., ООО Студия \"АНИМАККОРД\"</td>\n",
       "      <td>Республика Кипр, Россия</td>\n",
       "      <td>И.Трусов</td>\n",
       "      <td>Д.Ловейко</td>\n",
       "      <td>«0+» - для любой зрительской аудитории</td>\n",
       "      <td>NaN</td>\n",
       "      <td>NaN</td>\n",
       "      <td>NaN</td>\n",
       "      <td>NaN</td>\n",
       "      <td>6.3</td>\n",
       "      <td>комедия,вестерн</td>\n",
       "    </tr>\n",
       "  </tbody>\n",
       "</table>\n",
       "</div>"
      ],
      "text/plain": [
       "                                             title   puNumber  \\\n",
       "7483     Щенячий патруль: Скорей спешим на помощь!  124010819   \n",
       "7484      Машины песенки. Серия \"Испанские мотивы\"  124010619   \n",
       "7485  Машины песенки. Серия \"Когда цветут кактусы\"  124010719   \n",
       "\n",
       "               show_start_date             type  \\\n",
       "7483  2019-12-28T12:00:00.000Z   Художественный   \n",
       "7484  2019-12-30T12:00:00.000Z     Анимационный   \n",
       "7485  2019-12-30T12:00:00.000Z     Анимационный   \n",
       "\n",
       "                                   film_studio       production_country  \\\n",
       "7483  Никелодеон Анимейшн Студиос, Спин Мастер             США - Канада   \n",
       "7484  Анимаккорд Лтд., ООО Студия \"АНИМАККОРД\"  Республика Кипр, Россия   \n",
       "7485  Анимаккорд Лтд., ООО Студия \"АНИМАККОРД\"  Республика Кипр, Россия   \n",
       "\n",
       "              director        producer  \\\n",
       "7483  Чарльз Е.Бастьен  Дженнифер Додж   \n",
       "7484          А.Беляев       Д.Ловейко   \n",
       "7485          И.Трусов       Д.Ловейко   \n",
       "\n",
       "                             age_restriction  refundable_support  \\\n",
       "7483  «0+» - для любой зрительской аудитории                 NaN   \n",
       "7484  «0+» - для любой зрительской аудитории                 NaN   \n",
       "7485  «0+» - для любой зрительской аудитории                 NaN   \n",
       "\n",
       "      nonrefundable_support  budget financing_source ratings           genres  \n",
       "7483                    NaN     NaN              NaN     NaN              NaN  \n",
       "7484                    NaN     NaN              NaN     NaN              NaN  \n",
       "7485                    NaN     NaN              NaN     6.3  комедия,вестерн  "
      ]
     },
     "metadata": {},
     "output_type": "display_data"
    }
   ],
   "source": [
    "   #Вывод инфы о массиве на экран  \n",
    "display(df.info())\n",
    "# отображаем начало и конец данных (5 строк) в массиве\n",
    "display('данные о прокатных удостоверениях Head 3')\n",
    "display(df.head(3))\n",
    "display('данные о прокатных удостоверениях Tail 3')\n",
    "display(df.tail(3))"
   ]
  },
  {
   "cell_type": "markdown",
   "metadata": {},
   "source": [
    "Производим вывод данных из массива — данные о прокате в российских кинотеатрах.\n"
   ]
  },
  {
   "cell_type": "code",
   "execution_count": 4,
   "metadata": {},
   "outputs": [
    {
     "name": "stdout",
     "output_type": "stream",
     "text": [
      "<class 'pandas.core.frame.DataFrame'>\n",
      "RangeIndex: 3158 entries, 0 to 3157\n",
      "Data columns (total 2 columns):\n",
      " #   Column      Non-Null Count  Dtype  \n",
      "---  ------      --------------  -----  \n",
      " 0   puNumber    3158 non-null   int64  \n",
      " 1   box_office  3158 non-null   float64\n",
      "dtypes: float64(1), int64(1)\n",
      "memory usage: 49.5 KB\n"
     ]
    },
    {
     "data": {
      "text/plain": [
       "None"
      ]
     },
     "metadata": {},
     "output_type": "display_data"
    },
    {
     "data": {
      "text/plain": [
       "'данные о прокате в российских кинотеатрах Head 3'"
      ]
     },
     "metadata": {},
     "output_type": "display_data"
    },
    {
     "data": {
      "text/html": [
       "<div>\n",
       "<style scoped>\n",
       "    .dataframe tbody tr th:only-of-type {\n",
       "        vertical-align: middle;\n",
       "    }\n",
       "\n",
       "    .dataframe tbody tr th {\n",
       "        vertical-align: top;\n",
       "    }\n",
       "\n",
       "    .dataframe thead th {\n",
       "        text-align: right;\n",
       "    }\n",
       "</style>\n",
       "<table border=\"1\" class=\"dataframe\">\n",
       "  <thead>\n",
       "    <tr style=\"text-align: right;\">\n",
       "      <th></th>\n",
       "      <th>puNumber</th>\n",
       "      <th>box_office</th>\n",
       "    </tr>\n",
       "  </thead>\n",
       "  <tbody>\n",
       "    <tr>\n",
       "      <th>0</th>\n",
       "      <td>111000113</td>\n",
       "      <td>2450.0</td>\n",
       "    </tr>\n",
       "    <tr>\n",
       "      <th>1</th>\n",
       "      <td>111000115</td>\n",
       "      <td>61040.0</td>\n",
       "    </tr>\n",
       "    <tr>\n",
       "      <th>2</th>\n",
       "      <td>111000116</td>\n",
       "      <td>153030013.4</td>\n",
       "    </tr>\n",
       "  </tbody>\n",
       "</table>\n",
       "</div>"
      ],
      "text/plain": [
       "    puNumber   box_office\n",
       "0  111000113       2450.0\n",
       "1  111000115      61040.0\n",
       "2  111000116  153030013.4"
      ]
     },
     "metadata": {},
     "output_type": "display_data"
    },
    {
     "data": {
      "text/plain": [
       "'данные о прокате в российских кинотеатрах Tail 3'"
      ]
     },
     "metadata": {},
     "output_type": "display_data"
    },
    {
     "data": {
      "text/html": [
       "<div>\n",
       "<style scoped>\n",
       "    .dataframe tbody tr th:only-of-type {\n",
       "        vertical-align: middle;\n",
       "    }\n",
       "\n",
       "    .dataframe tbody tr th {\n",
       "        vertical-align: top;\n",
       "    }\n",
       "\n",
       "    .dataframe thead th {\n",
       "        text-align: right;\n",
       "    }\n",
       "</style>\n",
       "<table border=\"1\" class=\"dataframe\">\n",
       "  <thead>\n",
       "    <tr style=\"text-align: right;\">\n",
       "      <th></th>\n",
       "      <th>puNumber</th>\n",
       "      <th>box_office</th>\n",
       "    </tr>\n",
       "  </thead>\n",
       "  <tbody>\n",
       "    <tr>\n",
       "      <th>3155</th>\n",
       "      <td>224022410</td>\n",
       "      <td>400.0</td>\n",
       "    </tr>\n",
       "    <tr>\n",
       "      <th>3156</th>\n",
       "      <td>224023210</td>\n",
       "      <td>360.0</td>\n",
       "    </tr>\n",
       "    <tr>\n",
       "      <th>3157</th>\n",
       "      <td>224026410</td>\n",
       "      <td>400.0</td>\n",
       "    </tr>\n",
       "  </tbody>\n",
       "</table>\n",
       "</div>"
      ],
      "text/plain": [
       "       puNumber  box_office\n",
       "3155  224022410       400.0\n",
       "3156  224023210       360.0\n",
       "3157  224026410       400.0"
      ]
     },
     "metadata": {},
     "output_type": "display_data"
    }
   ],
   "source": [
    "  #Вывод инфы о массиве на экран  \n",
    "display(df1.info())\n",
    "# отображаем начало и конец данных (5 строк) в массиве\n",
    "display('данные о прокате в российских кинотеатрах Head 3')\n",
    "display(df1.head(3))\n",
    "display('данные о прокате в российских кинотеатрах Tail 3')\n",
    "display(df1.tail(3))"
   ]
  },
  {
   "cell_type": "markdown",
   "metadata": {},
   "source": [
    "Данные о прокатных удостоверениях:\n",
    "- В таблице \"mkrf_movies\" содержится информация о прокатных удостоверениях для фильмов. Данная таблица имеет 7486 записей и не имеет уникальных идентификаторов (id) для индексации.\n",
    "\n",
    "Данные о прокате в российских кинотеатрах:\n",
    "- В таблице \"mkrf_shows\" содержатся сведения о показах фильмов в российских кинотеатрах. Данная таблица имеет 3158 записей. Замечу, что часть фильмов из таблицы \"mkrf_movies\" не прокатывалась в российских кинотеатрах, что может быть обусловлено тем, что некоторые фильмы могли быть выпущены только на видеоносителях или в других форматах, а также возможными ошибками или неполными данными в отношении показов."
   ]
  },
  {
   "cell_type": "markdown",
   "metadata": {},
   "source": [
    "Пройдемся по типам критериев:\n"
   ]
  },
  {
   "cell_type": "code",
   "execution_count": 5,
   "metadata": {},
   "outputs": [
    {
     "data": {
      "text/plain": [
       "'df '"
      ]
     },
     "metadata": {},
     "output_type": "display_data"
    },
    {
     "data": {
      "text/plain": [
       "title                     object\n",
       "puNumber                  object\n",
       "show_start_date           object\n",
       "type                      object\n",
       "film_studio               object\n",
       "production_country        object\n",
       "director                  object\n",
       "producer                  object\n",
       "age_restriction           object\n",
       "refundable_support       float64\n",
       "nonrefundable_support    float64\n",
       "budget                   float64\n",
       "financing_source          object\n",
       "ratings                   object\n",
       "genres                    object\n",
       "dtype: object"
      ]
     },
     "metadata": {},
     "output_type": "display_data"
    },
    {
     "data": {
      "text/plain": [
       "'df1 '"
      ]
     },
     "metadata": {},
     "output_type": "display_data"
    },
    {
     "data": {
      "text/plain": [
       "puNumber        int64\n",
       "box_office    float64\n",
       "dtype: object"
      ]
     },
     "metadata": {},
     "output_type": "display_data"
    }
   ],
   "source": [
    "display('df ')\n",
    "display(df.dtypes)\n",
    "display('df1 ')\n",
    "display(df1.dtypes)"
   ]
  },
  {
   "cell_type": "markdown",
   "metadata": {},
   "source": [
    "Несоотвествие типов данных - результат выгрузки- исправим\n"
   ]
  },
  {
   "cell_type": "code",
   "execution_count": 6,
   "metadata": {},
   "outputs": [
    {
     "data": {
      "text/plain": [
       "221054410    2\n",
       "221154310    2\n",
       "221048915    1\n",
       "121004611    1\n",
       "121014411    1\n",
       "            ..\n",
       "121009015    1\n",
       "111004115    1\n",
       "211047015    1\n",
       "121011015    1\n",
       "124010719    1\n",
       "Name: puNumber, Length: 7484, dtype: int64"
      ]
     },
     "execution_count": 6,
     "metadata": {},
     "output_type": "execute_result"
    }
   ],
   "source": [
    "df['puNumber'].value_counts()\n"
   ]
  },
  {
   "cell_type": "code",
   "execution_count": 7,
   "metadata": {},
   "outputs": [
    {
     "data": {
      "text/plain": [
       "111000113    1\n",
       "121023316    1\n",
       "121023318    1\n",
       "121023411    1\n",
       "121023413    1\n",
       "            ..\n",
       "121003018    1\n",
       "121003019    1\n",
       "121003115    1\n",
       "121003116    1\n",
       "224026410    1\n",
       "Name: puNumber, Length: 3158, dtype: int64"
      ]
     },
     "execution_count": 7,
     "metadata": {},
     "output_type": "execute_result"
    }
   ],
   "source": [
    "df1['puNumber'].value_counts()"
   ]
  },
  {
   "cell_type": "markdown",
   "metadata": {},
   "source": [
    "План по обработке данных:\n",
    "\n",
    "Для таблицы \"mkrf_movies\":\n",
    "- Поле \"puNumber\" (номер прокатного удостоверения) будет безопасно преобразовано в числовой формат, так как оно представляет собой числовое значение.\n",
    "\n",
    "Для таблицы \"mkrf_shows\":\n",
    "- Поле \"puNumber\" останется без изменений, так как это связующее поле для объединения таблиц, и его тип данных необходимо сохранить.\n",
    "- Поле \"box_office\" (сборы в рублях) будет рассмотрено отдельно после объединения таблиц.\n",
    "\n",
    "После этого произведем объединение обоих массивов данных, используя поле \"puNumber\" для связи двух таблиц. Дополнительно проверим, что в данных \"mkrf_shows\" ошибок, чтобы избежать проблем при объединении данных."
   ]
  },
  {
   "cell_type": "code",
   "execution_count": 8,
   "metadata": {},
   "outputs": [
    {
     "data": {
      "text/plain": [
       "title                       0\n",
       "puNumber                    0\n",
       "show_start_date             0\n",
       "type                        0\n",
       "film_studio                18\n",
       "production_country          2\n",
       "director                    9\n",
       "producer                  568\n",
       "age_restriction             0\n",
       "refundable_support       7154\n",
       "nonrefundable_support    7154\n",
       "budget                   7154\n",
       "financing_source         7154\n",
       "ratings                   967\n",
       "genres                    976\n",
       "dtype: int64"
      ]
     },
     "metadata": {},
     "output_type": "display_data"
    },
    {
     "data": {
      "text/plain": [
       "puNumber      0\n",
       "box_office    0\n",
       "dtype: int64"
      ]
     },
     "metadata": {},
     "output_type": "display_data"
    }
   ],
   "source": [
    "display(df.isna().sum())\n",
    "display(df1.isna().sum())"
   ]
  },
  {
   "cell_type": "markdown",
   "metadata": {},
   "source": [
    "в массиве df в поле `puNumber` - одно нулевое значение, заменяем на -1"
   ]
  },
  {
   "cell_type": "markdown",
   "metadata": {},
   "source": [
    "Фиксим int64 для последующего сшивания"
   ]
  },
  {
   "cell_type": "code",
   "execution_count": 9,
   "metadata": {},
   "outputs": [],
   "source": [
    "#Фиксим int64\n",
    "df['puNumber'] = pd.to_numeric(df['puNumber'], errors='coerce')\n",
    "df['puNumber']=df['puNumber'].fillna(-1)"
   ]
  },
  {
   "cell_type": "code",
   "execution_count": 10,
   "metadata": {},
   "outputs": [],
   "source": [
    "#Соединяем df и df1 по 'puNumber'\n",
    "df=df.merge(df1, on='puNumber', how='outer')"
   ]
  },
  {
   "cell_type": "code",
   "execution_count": 11,
   "metadata": {},
   "outputs": [
    {
     "name": "stdout",
     "output_type": "stream",
     "text": [
      "<class 'pandas.core.frame.DataFrame'>\n",
      "Int64Index: 7486 entries, 0 to 7485\n",
      "Data columns (total 16 columns):\n",
      " #   Column                 Non-Null Count  Dtype  \n",
      "---  ------                 --------------  -----  \n",
      " 0   title                  7486 non-null   object \n",
      " 1   puNumber               7486 non-null   float64\n",
      " 2   show_start_date        7486 non-null   object \n",
      " 3   type                   7486 non-null   object \n",
      " 4   film_studio            7468 non-null   object \n",
      " 5   production_country     7484 non-null   object \n",
      " 6   director               7477 non-null   object \n",
      " 7   producer               6918 non-null   object \n",
      " 8   age_restriction        7486 non-null   object \n",
      " 9   refundable_support     332 non-null    float64\n",
      " 10  nonrefundable_support  332 non-null    float64\n",
      " 11  budget                 332 non-null    float64\n",
      " 12  financing_source       332 non-null    object \n",
      " 13  ratings                6519 non-null   object \n",
      " 14  genres                 6510 non-null   object \n",
      " 15  box_office             3158 non-null   float64\n",
      "dtypes: float64(5), object(11)\n",
      "memory usage: 994.2+ KB\n"
     ]
    },
    {
     "data": {
      "text/plain": [
       "None"
      ]
     },
     "metadata": {},
     "output_type": "display_data"
    }
   ],
   "source": [
    "display(df.info())"
   ]
  },
  {
   "cell_type": "code",
   "execution_count": 12,
   "metadata": {},
   "outputs": [
    {
     "name": "stdout",
     "output_type": "stream",
     "text": [
      "<class 'pandas.core.frame.DataFrame'>\n",
      "Int64Index: 7486 entries, 0 to 7485\n",
      "Data columns (total 16 columns):\n",
      " #   Column                 Non-Null Count  Dtype  \n",
      "---  ------                 --------------  -----  \n",
      " 0   title                  7486 non-null   object \n",
      " 1   puNumber               7486 non-null   int64  \n",
      " 2   show_start_date        7486 non-null   object \n",
      " 3   type                   7486 non-null   object \n",
      " 4   film_studio            7468 non-null   object \n",
      " 5   production_country     7484 non-null   object \n",
      " 6   director               7477 non-null   object \n",
      " 7   producer               6918 non-null   object \n",
      " 8   age_restriction        7486 non-null   object \n",
      " 9   refundable_support     332 non-null    float64\n",
      " 10  nonrefundable_support  332 non-null    float64\n",
      " 11  budget                 332 non-null    float64\n",
      " 12  financing_source       332 non-null    object \n",
      " 13  ratings                6519 non-null   object \n",
      " 14  genres                 6510 non-null   object \n",
      " 15  box_office             3158 non-null   float64\n",
      "dtypes: float64(4), int64(1), object(11)\n",
      "memory usage: 994.2+ KB\n"
     ]
    },
    {
     "data": {
      "text/plain": [
       "None"
      ]
     },
     "metadata": {},
     "output_type": "display_data"
    }
   ],
   "source": [
    "#Фиксим тип 'puNumber' на 'int64'\n",
    "df['puNumber']=df['puNumber'].astype('int64')\n",
    "display(df.info())"
   ]
  },
  {
   "cell_type": "markdown",
   "metadata": {},
   "source": [
    "При анализе данных выявлены следующие наблюдения:\n",
    "\n",
    "1. Отсутствие идентификатора для индексации в данных, что является обычным случаем в данной ситуации.\n",
    "\n",
    "2. В данных присутствуют пропуски, что ожидаемо, учитывая структуру данных с одним-ко-многим.\n",
    "\n",
    "3. В данных присутствуют как явные, так и неявные дубликаты, что также требует дальнейшей проверки.\n",
    "\n",
    "4. Необходимо рассмотреть типы данных для каждого столбца:\n",
    "   - Поле \"title\" (название фильма) имеет тип \"object\" (строка) и потребует проверки на наличие дубликатов.\n",
    "   - Поле \"show_start_date\" (дата премьеры фильма) необходимо изменить формат на \"datetime64\".\n",
    "   - Поле \"type\" (тип фильма) имеет тип \"string\" и потребует проверки на дубликаты.\n",
    "   - Поле \"film_studio\" (название производителя) также потребует проверки на дубликаты.\n",
    "   - Поле \"production_country\" (страна-производитель) требует проверки на дубликаты.\n",
    "   - Поле \"director\" (режиссёр) необходимо проверить на наличие дубликатов.\n",
    "   - Поле \"producer\" (продюсер) также потребует проверки на дубликаты.\n",
    "   - Поле \"age_restriction\" (возрастная категория) требует проверки на дубликаты.\n",
    "   - Поле \"refundable_support\" (объём возвратных средств государственной поддержки) является числовым, но может содержать аномалии.\n",
    "   - Поле \"nonrefundable_support\" (объём невозвратных средств государственной поддержки) также числовое, но может содержать аномалии.\n",
    "   - Поле \"financing_source\" (источник государственного финансирования) может содержать аномалии.\n",
    "   - Поле \"budget\" (общий бюджет фильма) является числовым, но данные в нем не полные и потребуют дополнительных расчетов.\n",
    "   - Поле \"ratings\" (рейтинг фильма на КиноПоиске) не является метрикой и может быть исключено из анализа.\n",
    "   - Поле \"genres\" (жанр фильма) может содержать аномалии и дубликаты.\n",
    "   - Поле \"box_office\" (сборы в рублях) также потребует проверки на аномалии.\n",
    "\n",
    "Дополнительно, необходимо учесть, что столбец \"budget\" уже включает в себя полный объём государственной поддержки и требует корректного расчета."
   ]
  },
  {
   "cell_type": "markdown",
   "metadata": {},
   "source": [
    "Проверка на наличие пропусков"
   ]
  },
  {
   "cell_type": "code",
   "execution_count": 13,
   "metadata": {},
   "outputs": [
    {
     "data": {
      "text/plain": [
       "'Пропусков по полям:'"
      ]
     },
     "metadata": {},
     "output_type": "display_data"
    },
    {
     "data": {
      "text/html": [
       "<div>\n",
       "<style scoped>\n",
       "    .dataframe tbody tr th:only-of-type {\n",
       "        vertical-align: middle;\n",
       "    }\n",
       "\n",
       "    .dataframe tbody tr th {\n",
       "        vertical-align: top;\n",
       "    }\n",
       "\n",
       "    .dataframe thead th {\n",
       "        text-align: right;\n",
       "    }\n",
       "</style>\n",
       "<table border=\"1\" class=\"dataframe\">\n",
       "  <thead>\n",
       "    <tr style=\"text-align: right;\">\n",
       "      <th></th>\n",
       "      <th>isna_count</th>\n",
       "      <th>isna_percentage</th>\n",
       "    </tr>\n",
       "  </thead>\n",
       "  <tbody>\n",
       "    <tr>\n",
       "      <th>refundable_support</th>\n",
       "      <td>7154</td>\n",
       "      <td>95.565055</td>\n",
       "    </tr>\n",
       "    <tr>\n",
       "      <th>nonrefundable_support</th>\n",
       "      <td>7154</td>\n",
       "      <td>95.565055</td>\n",
       "    </tr>\n",
       "    <tr>\n",
       "      <th>budget</th>\n",
       "      <td>7154</td>\n",
       "      <td>95.565055</td>\n",
       "    </tr>\n",
       "    <tr>\n",
       "      <th>financing_source</th>\n",
       "      <td>7154</td>\n",
       "      <td>95.565055</td>\n",
       "    </tr>\n",
       "    <tr>\n",
       "      <th>box_office</th>\n",
       "      <td>4328</td>\n",
       "      <td>57.814587</td>\n",
       "    </tr>\n",
       "    <tr>\n",
       "      <th>genres</th>\n",
       "      <td>976</td>\n",
       "      <td>13.037670</td>\n",
       "    </tr>\n",
       "    <tr>\n",
       "      <th>ratings</th>\n",
       "      <td>967</td>\n",
       "      <td>12.917446</td>\n",
       "    </tr>\n",
       "    <tr>\n",
       "      <th>producer</th>\n",
       "      <td>568</td>\n",
       "      <td>7.587497</td>\n",
       "    </tr>\n",
       "    <tr>\n",
       "      <th>film_studio</th>\n",
       "      <td>18</td>\n",
       "      <td>0.240449</td>\n",
       "    </tr>\n",
       "    <tr>\n",
       "      <th>director</th>\n",
       "      <td>9</td>\n",
       "      <td>0.120224</td>\n",
       "    </tr>\n",
       "    <tr>\n",
       "      <th>production_country</th>\n",
       "      <td>2</td>\n",
       "      <td>0.026717</td>\n",
       "    </tr>\n",
       "    <tr>\n",
       "      <th>title</th>\n",
       "      <td>0</td>\n",
       "      <td>0.000000</td>\n",
       "    </tr>\n",
       "    <tr>\n",
       "      <th>puNumber</th>\n",
       "      <td>0</td>\n",
       "      <td>0.000000</td>\n",
       "    </tr>\n",
       "    <tr>\n",
       "      <th>show_start_date</th>\n",
       "      <td>0</td>\n",
       "      <td>0.000000</td>\n",
       "    </tr>\n",
       "    <tr>\n",
       "      <th>type</th>\n",
       "      <td>0</td>\n",
       "      <td>0.000000</td>\n",
       "    </tr>\n",
       "    <tr>\n",
       "      <th>age_restriction</th>\n",
       "      <td>0</td>\n",
       "      <td>0.000000</td>\n",
       "    </tr>\n",
       "  </tbody>\n",
       "</table>\n",
       "</div>"
      ],
      "text/plain": [
       "                       isna_count  isna_percentage\n",
       "refundable_support           7154        95.565055\n",
       "nonrefundable_support        7154        95.565055\n",
       "budget                       7154        95.565055\n",
       "financing_source             7154        95.565055\n",
       "box_office                   4328        57.814587\n",
       "genres                        976        13.037670\n",
       "ratings                       967        12.917446\n",
       "producer                      568         7.587497\n",
       "film_studio                    18         0.240449\n",
       "director                        9         0.120224\n",
       "production_country              2         0.026717\n",
       "title                           0         0.000000\n",
       "puNumber                        0         0.000000\n",
       "show_start_date                 0         0.000000\n",
       "type                            0         0.000000\n",
       "age_restriction                 0         0.000000"
      ]
     },
     "metadata": {},
     "output_type": "display_data"
    }
   ],
   "source": [
    "#проверка на наличие пропусков\n",
    "display('Пропусков по полям:')\n",
    "propusk=pd.DataFrame(df.isna().sum())\n",
    "propusk.columns=['isna_count']\n",
    "propusk['isna_percentage']=propusk['isna_count']/((df['title']).count().sum())*100\n",
    "display(propusk.sort_values(by='isna_percentage',ascending=False))"
   ]
  },
  {
   "cell_type": "code",
   "execution_count": 14,
   "metadata": {},
   "outputs": [
    {
     "data": {
      "text/plain": [
       "'Пропущенных значений по полям, в %'"
      ]
     },
     "metadata": {},
     "output_type": "display_data"
    },
    {
     "data": {
      "image/png": "[encoded data removed]",
      "text/plain": [
       "<Figure size 432x288 with 1 Axes>"
      ]
     },
     "metadata": {
      "needs_background": "light"
     },
     "output_type": "display_data"
    }
   ],
   "source": [
    "display('Пропущенных значений по полям, в %')\n",
    "propusk['isna_percentage'].sort_values(ascending=False).plot(kind='bar',grid=True)\n",
    "plt.xticks(rotation=90)\n",
    "plt.show()"
   ]
  },
  {
   "cell_type": "markdown",
   "metadata": {},
   "source": [
    "1. Для полей `refundable_support` и `nonrefundable_support`, где пропущенные значения могут означать отсутствие государственной поддержки, заменяем их на нули.\n",
    "\n",
    "2. Поле `budget` также может быть равно нулю, если данные о бюджете отсутствуют, поэтому заменяем пропущенные значения на нули.\n",
    "\n",
    "3. Поле `financing_source` (источник государственного финансирования) может быть заменено на \"not_financed,\" чтобы обозначить отсутствие финансирования в случае пропущенных значений.\n",
    "\n",
    "4. Для поля `box_office` (сборы в рублях) необходимо рассмотреть дополнительные альтернативы для заполнения, так как большой процент пропусков.\n",
    "\n",
    "5. Поле `ratings` (рейтинг фильма на КиноПоиске) не требует заполнения пропущенных значений, так как оно не является метрикой и может быть исключено из анализа.\n",
    "\n",
    "6. Поле `producer` (продюсер) и `director` (режиссёр) можно рассмотреть и заменить на \"unknown\" в случае пропущенных значений, чтобы обозначить неизвестного продюсера или режиссёра.\n",
    "\n",
    "7. Поле `genres` (жанр фильма) может потребовать более детального анализа для заполнения пропусков, в зависимости от распределения жанров в данных.\n",
    "\n",
    "Важно учесть, что выбор метода заполнения пропущенных значений может повлиять на результаты анализа, поэтому необходимо внимательно подходить к этому этапу."
   ]
  },
  {
   "cell_type": "markdown",
   "metadata": {},
   "source": [
    "Проверка на наличие явных дубликатов:\n"
   ]
  },
  {
   "cell_type": "code",
   "execution_count": 15,
   "metadata": {},
   "outputs": [
    {
     "data": {
      "text/plain": [
       "'явных дубликатов'"
      ]
     },
     "metadata": {},
     "output_type": "display_data"
    },
    {
     "data": {
      "text/plain": [
       "0"
      ]
     },
     "metadata": {},
     "output_type": "display_data"
    }
   ],
   "source": [
    "display('явных дубликатов', df.duplicated().sum()) #посчет явных дубликатов"
   ]
  },
  {
   "cell_type": "markdown",
   "metadata": {
    "tags": []
   },
   "source": [
    "### Вывод по разделу \"Изучение данных из файла\"\n",
    "\n",
    "Из анализа данных можно сделать следующие выводы:\n",
    "\n",
    "1. Часть фильмов не прокатывалась в российских кинотеатрах. Это следует из длины массива данных о прокате в российских кинотеатрах. Связь между данными о фильмах и их прокате организована как связь \"один ко многим\" и осуществляется через номера прокатных удостоверений.\n",
    "\n",
    "2. Проведена проверка типов данных и выявлены следующие аспекты:\n",
    "   - Поле \"title\" (название фильма) имеет тип object и потребует проверки на наличие дубликатов.\n",
    "   - Поле \"show_start_date\" (дата премьеры фильма) будет преобразовано в формат datetime64.\n",
    "   - Поле \"type\" (тип фильма) имеет тип string и также потребует проверки на дубликаты.\n",
    "   - Поля, такие как \"film_studio,\" \"production_country,\" \"director,\" \"producer,\" \"age_restriction\" также подлежат проверке на дубликаты.\n",
    "   - Поля \"refundable_support,\" \"nonrefundable_support,\" \"financing_source,\" \"budget,\" и \"box_office\" содержат аномалии и пропущенные значения, которые требуют обработки.\n",
    "\n",
    "3. Пропущенные значения полей \"refundable_support\" и \"nonrefundable_support\" были заменены на нули, это может указывать на отсутствие государственной поддержки. Поле \"budget\" также было заменено на нули, так как отсутствие данных может означать отсутствие бюджета. Поле \"financing_source\" было заменено на \"not_financed,\" указывает на отсутствие финансирования. Поле \"box_office\" осталось без изменений, и требует дополнительного рассмотрение для выбора подходящей замены.\n",
    "\n",
    "4. Поле \"ratings\" (рейтинг фильма на КиноПоиске) не требует заполнения пропущенных значений, так как оно не является метрикой.\n",
    "\n",
    "5. Поля \"producer\" (продюсер) и \"director\" (режиссёр) могут быть заменены на \"unknown\" в случае пропущенных значений, чтобы обозначить неизвестных продюсеров или режиссёров.\n",
    "\n",
    "6. Поле \"genres\" (жанр фильма) может потребовать более детального анализа для заполнения пропусков, в зависимости от распределения жанров в данных.\n",
    "\n",
    "7. Поле \"budget\" уже включает в себя полный объём государственной поддержки, что требует дополнительной обработки и пересчёта.\n",
    "\n",
    "8. Поле \"box_office\" (сборы в рублях) также потребует дополнительного рассмотрения для выбора подходящей замены пропущенным значениям.\n",
    "\n",
    "Предварительно можно сказать, что данные достаточны для проведения анализа, но требуют дополнительной предобработки и обработки пропущенных значений."
   ]
  },
  {
   "cell_type": "markdown",
   "metadata": {
    "id": "r6n1CZDuuqj8"
   },
   "source": [
    "## Предобработка данных"
   ]
  },
  {
   "cell_type": "markdown",
   "metadata": {
    "id": "F9Pk0zxGuqj8"
   },
   "source": [
    "Создадим поле record_id \n"
   ]
  },
  {
   "cell_type": "code",
   "execution_count": 16,
   "metadata": {},
   "outputs": [],
   "source": [
    "#Создадим столбец с ID записи, идентичный индексу в таблице\n",
    "df['record_id']=df.index"
   ]
  },
  {
   "cell_type": "code",
   "execution_count": 17,
   "metadata": {},
   "outputs": [
    {
     "data": {
      "text/html": [
       "<div>\n",
       "<style scoped>\n",
       "    .dataframe tbody tr th:only-of-type {\n",
       "        vertical-align: middle;\n",
       "    }\n",
       "\n",
       "    .dataframe tbody tr th {\n",
       "        vertical-align: top;\n",
       "    }\n",
       "\n",
       "    .dataframe thead th {\n",
       "        text-align: right;\n",
       "    }\n",
       "</style>\n",
       "<table border=\"1\" class=\"dataframe\">\n",
       "  <thead>\n",
       "    <tr style=\"text-align: right;\">\n",
       "      <th></th>\n",
       "      <th>title</th>\n",
       "      <th>puNumber</th>\n",
       "      <th>show_start_date</th>\n",
       "      <th>type</th>\n",
       "      <th>film_studio</th>\n",
       "      <th>production_country</th>\n",
       "      <th>director</th>\n",
       "      <th>producer</th>\n",
       "      <th>age_restriction</th>\n",
       "      <th>refundable_support</th>\n",
       "      <th>nonrefundable_support</th>\n",
       "      <th>budget</th>\n",
       "      <th>financing_source</th>\n",
       "      <th>ratings</th>\n",
       "      <th>genres</th>\n",
       "      <th>box_office</th>\n",
       "      <th>record_id</th>\n",
       "    </tr>\n",
       "  </thead>\n",
       "  <tbody>\n",
       "    <tr>\n",
       "      <th>0</th>\n",
       "      <td>Открытый простор</td>\n",
       "      <td>221048915</td>\n",
       "      <td>2015-11-27T12:00:00.000Z</td>\n",
       "      <td>Художественный</td>\n",
       "      <td>Тачстоун Пикчерз, Кобальт Пикчерз, Бикон Пикче...</td>\n",
       "      <td>США</td>\n",
       "      <td>Кевин Костнер</td>\n",
       "      <td>Дэвид Валдес, Кевин Костнер, Джейк Эбертс</td>\n",
       "      <td>«18+» - запрещено для детей</td>\n",
       "      <td>NaN</td>\n",
       "      <td>NaN</td>\n",
       "      <td>NaN</td>\n",
       "      <td>NaN</td>\n",
       "      <td>7.2</td>\n",
       "      <td>боевик,драма,мелодрама</td>\n",
       "      <td>NaN</td>\n",
       "      <td>0</td>\n",
       "    </tr>\n",
       "    <tr>\n",
       "      <th>1</th>\n",
       "      <td>Особо важное задание</td>\n",
       "      <td>111013716</td>\n",
       "      <td>2016-09-13T12:00:00.000Z</td>\n",
       "      <td>Художественный</td>\n",
       "      <td>Киностудия \"Мосфильм\"</td>\n",
       "      <td>СССР</td>\n",
       "      <td>Е.Матвеев</td>\n",
       "      <td>NaN</td>\n",
       "      <td>«6+» - для детей старше 6 лет</td>\n",
       "      <td>NaN</td>\n",
       "      <td>NaN</td>\n",
       "      <td>NaN</td>\n",
       "      <td>NaN</td>\n",
       "      <td>6.6</td>\n",
       "      <td>драма,военный</td>\n",
       "      <td>NaN</td>\n",
       "      <td>1</td>\n",
       "    </tr>\n",
       "    <tr>\n",
       "      <th>2</th>\n",
       "      <td>Особо опасен</td>\n",
       "      <td>221038416</td>\n",
       "      <td>2016-10-10T12:00:00.000Z</td>\n",
       "      <td>Художественный</td>\n",
       "      <td>Юниверсал Пикчерз, Кикстарт Продакшнз, Марк Пл...</td>\n",
       "      <td>США</td>\n",
       "      <td>Тимур Бекмамбетов</td>\n",
       "      <td>Джим Лемли, Джейсон Нетер, Марк Е.Платт, Яйн Смит</td>\n",
       "      <td>«18+» - запрещено для детей</td>\n",
       "      <td>NaN</td>\n",
       "      <td>NaN</td>\n",
       "      <td>NaN</td>\n",
       "      <td>NaN</td>\n",
       "      <td>6.8</td>\n",
       "      <td>фантастика,боевик,триллер</td>\n",
       "      <td>NaN</td>\n",
       "      <td>2</td>\n",
       "    </tr>\n",
       "  </tbody>\n",
       "</table>\n",
       "</div>"
      ],
      "text/plain": [
       "                  title   puNumber           show_start_date            type  \\\n",
       "0      Открытый простор  221048915  2015-11-27T12:00:00.000Z  Художественный   \n",
       "1  Особо важное задание  111013716  2016-09-13T12:00:00.000Z  Художественный   \n",
       "2          Особо опасен  221038416  2016-10-10T12:00:00.000Z  Художественный   \n",
       "\n",
       "                                         film_studio production_country  \\\n",
       "0  Тачстоун Пикчерз, Кобальт Пикчерз, Бикон Пикче...                США   \n",
       "1                              Киностудия \"Мосфильм\"               СССР   \n",
       "2  Юниверсал Пикчерз, Кикстарт Продакшнз, Марк Пл...                США   \n",
       "\n",
       "            director                                           producer  \\\n",
       "0      Кевин Костнер          Дэвид Валдес, Кевин Костнер, Джейк Эбертс   \n",
       "1          Е.Матвеев                                                NaN   \n",
       "2  Тимур Бекмамбетов  Джим Лемли, Джейсон Нетер, Марк Е.Платт, Яйн Смит   \n",
       "\n",
       "                 age_restriction  refundable_support  nonrefundable_support  \\\n",
       "0    «18+» - запрещено для детей                 NaN                    NaN   \n",
       "1  «6+» - для детей старше 6 лет                 NaN                    NaN   \n",
       "2    «18+» - запрещено для детей                 NaN                    NaN   \n",
       "\n",
       "   budget financing_source ratings                     genres  box_office  \\\n",
       "0     NaN              NaN     7.2     боевик,драма,мелодрама         NaN   \n",
       "1     NaN              NaN     6.6              драма,военный         NaN   \n",
       "2     NaN              NaN     6.8  фантастика,боевик,триллер         NaN   \n",
       "\n",
       "   record_id  \n",
       "0          0  \n",
       "1          1  \n",
       "2          2  "
      ]
     },
     "execution_count": 17,
     "metadata": {},
     "output_type": "execute_result"
    }
   ],
   "source": [
    "df.dtypes\n",
    "df[df['budget']!=0].head(3)"
   ]
  },
  {
   "cell_type": "code",
   "execution_count": 18,
   "metadata": {
    "scrolled": true
   },
   "outputs": [
    {
     "name": "stdout",
     "output_type": "stream",
     "text": [
      "title\n",
      "День святого Валентина_                               5\n",
      "Кошки против собак: Месть Китти Галор                 4\n",
      "Знакомство с Факерами 2.                              4\n",
      "Рапунцель: Запутанная история                         4\n",
      "Секс в большом городе 2                               4\n",
      "                                                     ..\n",
      "МУЛЬТ в кино. Выпуск № 14                             1\n",
      "Стажёр                                                1\n",
      "Мэхэббэт - ул йорэк эше (Любовь - это дело сердца)    1\n",
      "Иван Грозный - 2 серия (восстановленная версия)       1\n",
      "Машины песенки. Серия \"Когда цветут кактусы\"          1\n",
      "Name: title, Length: 6772, dtype: int64\n",
      "puNumber\n",
      "221054410    2\n",
      "221154310    2\n",
      "221048915    1\n",
      "121004611    1\n",
      "121014411    1\n",
      "            ..\n",
      "121009015    1\n",
      "111004115    1\n",
      "211047015    1\n",
      "121011015    1\n",
      "124010719    1\n",
      "Name: puNumber, Length: 7484, dtype: int64\n",
      "show_start_date\n",
      "2010-12-17T12:00:00.000Z    96\n",
      "2014-12-01T12:00:00.000Z    71\n",
      "2014-12-24T12:00:00.000Z    61\n",
      "2016-06-07T12:00:00.000Z    41\n",
      "2013-12-19T12:00:00.000Z    39\n",
      "                            ..\n",
      "2017-05-25T12:00:00.000Z     1\n",
      "2018-03-05T12:00:00.000Z     1\n",
      "2015-03-13T12:00:00.000Z     1\n",
      "2018-03-17T12:00:00.000Z     1\n",
      "2010-05-24T12:00:00.000Z     1\n",
      "Name: show_start_date, Length: 1965, dtype: int64\n",
      "type\n",
      "Художественный                4520\n",
      " Художественный               1389\n",
      "Анимационный                   828\n",
      "Прочие                         406\n",
      "Документальный                 288\n",
      "Научно-популярный               53\n",
      " Анимационный                    1\n",
      "Музыкально-развлекательный       1\n",
      "Name: type, dtype: int64\n",
      "film_studio\n",
      "Киностудия \"Мосфильм\"                                                                                                      341\n",
      "ООО \"Мульт в кино\"                                                                                                          57\n",
      "Анимаккорд Лтд                                                                                                              23\n",
      "ООО \"Мульт в кино\"                                                                                                          18\n",
      "ФГУП \"ТПО \"Киностудия \"Союзмультфильм\"                                                                                      16\n",
      "                                                                                                                          ... \n",
      "МортуСкрин, Игл Рок Интертейнмент                                                                                            1\n",
      "Эден Рок Медиа, Филм Нэйшн Интертейнмент, Флинн Пикчерз Компани, Нью Лайн Синема, Силвер Рил, Суперсенсори, Вентюр Ворт      1\n",
      "Мажестик Филмпродуцион, Айрис Продакшнз, Рат Пак Филмпродуцион, Фред Фильм                                                   1\n",
      "Арт Франс, Артлайн Филмз, Коэн Медиа Групп                                                                                   1\n",
      "Эмблин Интертейнмент, ДримУоркс, Марк Платт Продакшнз, Релианс Интертейнмент, Юниверсал Пикчерз                              1\n",
      "Name: film_studio, Length: 5490, dtype: int64\n",
      "production_country\n",
      "США                                                                    2172\n",
      "Россия                                                                 1821\n",
      "СССР                                                                    347\n",
      "Франция                                                                 301\n",
      "Великобритания                                                          257\n",
      "                                                                       ... \n",
      "Франция-Китай                                                             1\n",
      "Россия, Германия, Великобритания                                          1\n",
      "Великобритания - Италия - Испания                                         1\n",
      "Россия-Ирландия                                                           1\n",
      "Дания - Канада - Швеция - Франция - Германия - Великобритания - США       1\n",
      "Name: production_country, Length: 950, dtype: int64\n",
      "director\n",
      "О.Семёнова                  47\n",
      "Д.Червяцов                  17\n",
      "Стивен Содерберг            17\n",
      "Ридли Скотт                 16\n",
      "Тиль Швайгер                14\n",
      "                            ..\n",
      "Том Коркоран                 1\n",
      "Е.Сергеев                    1\n",
      "Фернандо Гонзалез Молина     1\n",
      "Е.Перволовичи                1\n",
      "И.Трусов                     1\n",
      "Name: director, Length: 4811, dtype: int64\n",
      "producer\n",
      "П.Смирнов                                                                     67\n",
      "Олег Кузовков, Дмитрий Ловейко, Марина Ратина                                 28\n",
      "С.Сельянов                                                                    18\n",
      "Д.Ловейко, О.Кузовков                                                         17\n",
      "Тони Майерс                                                                   11\n",
      "                                                                              ..\n",
      "Б.Гуц, А.Гусенцова                                                             1\n",
      "Лоран Петен, Мишель Петен                                                      1\n",
      " ООО \"КиноФирма\"                                                               1\n",
      "Э.Илоян, В.Шляппо, А.Троцюк, Д.Жалинский, Д.Дьяченко, М.Ткаченко, А.Рубцов     1\n",
      "Дженнифер Додж                                                                 1\n",
      "Name: producer, Length: 5349, dtype: int64\n",
      "age_restriction\n",
      "«16+» - для детей старше 16 лет           2851\n",
      "«18+» - запрещено для детей               1605\n",
      "«12+» - для детей старше 12 лет           1593\n",
      "«0+» - для любой зрительской аудитории     811\n",
      "«6+» - для детей старше 6 лет              626\n",
      "Name: age_restriction, dtype: int64\n",
      "refundable_support\n",
      "0.0            221\n",
      "20000000.0      12\n",
      "10000000.0      10\n",
      "25000000.0      10\n",
      "5000000.0        9\n",
      "15000000.0       9\n",
      "40000000.0       8\n",
      "50000000.0       8\n",
      "30000000.0       7\n",
      "60000000.0       6\n",
      "100000000.0      5\n",
      "55000000.0       2\n",
      "75000000.0       2\n",
      "110000000.0      2\n",
      "19000000.0       2\n",
      "3500000.0        1\n",
      "26000000.0       1\n",
      "28000000.0       1\n",
      "180000000.0      1\n",
      "35000000.0       1\n",
      "115000000.0      1\n",
      "8000000.0        1\n",
      "7346881.0        1\n",
      "7000000.0        1\n",
      "7153119.0        1\n",
      "36000000.0       1\n",
      "38000000.0       1\n",
      "150000000.0      1\n",
      "44000000.0       1\n",
      "17000000.0       1\n",
      "29000000.0       1\n",
      "9000000.0        1\n",
      "41000000.0       1\n",
      "80000000.0       1\n",
      "Name: refundable_support, dtype: int64\n",
      "nonrefundable_support\n",
      "25000000.0    53\n",
      "30000000.0    48\n",
      "35000000.0    29\n",
      "40000000.0    26\n",
      "20000000.0    19\n",
      "              ..\n",
      "51000000.0     1\n",
      "4700000.0      1\n",
      "5300000.0      1\n",
      "21700000.0     1\n",
      "3000000.0      1\n",
      "Name: nonrefundable_support, Length: 75, dtype: int64\n",
      "budget\n",
      "0.0            17\n",
      "38000000.0      6\n",
      "50000000.0      4\n",
      "80000000.0      4\n",
      "37142857.0      3\n",
      "               ..\n",
      "109020947.0     1\n",
      "90276774.0      1\n",
      "78686500.0      1\n",
      "14462464.0      1\n",
      "150147502.0     1\n",
      "Name: budget, Length: 290, dtype: int64\n",
      "financing_source\n",
      "Министерство культуры               164\n",
      "Фонд кино                           146\n",
      "Министерство культуры, Фонд кино     22\n",
      "Name: financing_source, dtype: int64\n",
      "ratings\n",
      "6.6    312\n",
      "6.7    308\n",
      "6.8    261\n",
      "7.2    252\n",
      "6.2    243\n",
      "      ... \n",
      "19%      1\n",
      "90%      1\n",
      "62%      1\n",
      "64%      1\n",
      "9.1      1\n",
      "Name: ratings, Length: 94, dtype: int64\n",
      "genres\n",
      "драма                           476\n",
      "комедия                         352\n",
      "мелодрама,комедия               222\n",
      "драма,мелодрама,комедия         189\n",
      "драма,мелодрама                 183\n",
      "                               ... \n",
      "мюзикл,фэнтези,семейный           1\n",
      "мюзикл,мелодрама,фэнтези          1\n",
      "документальный,новости,драма      1\n",
      "семейный,детектив,детский         1\n",
      "мелодрама,история,драма           1\n",
      "Name: genres, Length: 742, dtype: int64\n",
      "box_office\n",
      "0.00           24\n",
      "200.00         13\n",
      "300.00         12\n",
      "360.00          9\n",
      "500.00          8\n",
      "               ..\n",
      "60531051.94     1\n",
      "2060823.00      1\n",
      "1544985.50      1\n",
      "322284.00       1\n",
      "219569.00       1\n",
      "Name: box_office, Length: 2938, dtype: int64\n",
      "record_id\n",
      "0       1\n",
      "4986    1\n",
      "4998    1\n",
      "4997    1\n",
      "4996    1\n",
      "       ..\n",
      "2491    1\n",
      "2490    1\n",
      "2489    1\n",
      "2488    1\n",
      "7485    1\n",
      "Name: record_id, Length: 7486, dtype: int64\n"
     ]
    }
   ],
   "source": [
    "for value in df.head(0):\n",
    "    print(value)\n",
    "    print(df[value].value_counts())    "
   ]
  },
  {
   "cell_type": "markdown",
   "metadata": {},
   "source": [
    "Фиксим нули"
   ]
  },
  {
   "cell_type": "code",
   "execution_count": 19,
   "metadata": {
    "scrolled": true,
    "tags": []
   },
   "outputs": [
    {
     "data": {
      "text/plain": [
       "title                       0\n",
       "puNumber                    0\n",
       "show_start_date             0\n",
       "type                        0\n",
       "film_studio                18\n",
       "production_country          2\n",
       "director                    9\n",
       "producer                  568\n",
       "age_restriction             0\n",
       "refundable_support       7154\n",
       "nonrefundable_support    7154\n",
       "budget                   7154\n",
       "financing_source         7154\n",
       "ratings                   967\n",
       "genres                    976\n",
       "box_office               4328\n",
       "record_id                   0\n",
       "dtype: int64"
      ]
     },
     "metadata": {},
     "output_type": "display_data"
    }
   ],
   "source": [
    "display(df.isna().sum()) #Отображаем поля с пропусками"
   ]
  },
  {
   "cell_type": "markdown",
   "metadata": {},
   "source": [
    "Изменения в обработке пропущенных значений в данных были проведены следующим образом:\n",
    "\n",
    "- Пропущенные значения полей \"refundable_support\" и \"nonrefundable_support\" были заменены на нули, предполагая, что это может указывать на отсутствие государственной поддержки.\n",
    "\n",
    "- Поле \"budget\" было также заменено на нули, так как отсутствие данных может означать отсутствие бюджета.\n",
    "\n",
    "- Поле \"financing_source\" было заменено на \"not_financed,\" указывая на отсутствие финансирования.\n",
    "\n",
    "- Поле \"box_office\" осталось без изменений, и потребуется дополнительное рассмотрение для выбора подходящей замены.\n",
    "\n",
    "- Поле \"ratings\" (рейтинг фильма на КиноПоиске) было заменено на 0 в случае пропущенных значений.\n",
    "\n",
    "- Поле \"producer\" (продюсер) было заменено на \"unknown\" в случае пропущенных значений, чтобы обозначить неизвестных продюсеров.\n",
    "\n",
    "- Поле \"director\" (режиссёр) также было заменено на \"unknown\" в случае пропущенных значений.\n",
    "\n",
    "- Поле \"genres\" (жанр фильма) было заменено на \"extra\" в случае пропущенных значений.\n",
    "\n",
    "- Поле \"film_studio\" (название производителя) было заменено на \"other\" в случае пропущенных значений.\n",
    "\n",
    "- Поле \"production_country\" (страна-производитель) было заменено на \"unknown\" в случае пропущенных значений.\n",
    "\n",
    "Такие замены позволили обработать пропущенные значения и подготовить данные для дальнейшего анализа."
   ]
  },
  {
   "cell_type": "code",
   "execution_count": 20,
   "metadata": {},
   "outputs": [
    {
     "data": {
      "text/plain": [
       "title                     object\n",
       "puNumber                   int64\n",
       "show_start_date           object\n",
       "type                      object\n",
       "film_studio               object\n",
       "production_country        object\n",
       "director                  object\n",
       "producer                  object\n",
       "age_restriction           object\n",
       "refundable_support       float64\n",
       "nonrefundable_support    float64\n",
       "budget                   float64\n",
       "financing_source          object\n",
       "ratings                   object\n",
       "genres                    object\n",
       "box_office               float64\n",
       "record_id                  int64\n",
       "dtype: object"
      ]
     },
     "execution_count": 20,
     "metadata": {},
     "output_type": "execute_result"
    }
   ],
   "source": [
    "df.dtypes"
   ]
  },
  {
   "cell_type": "code",
   "execution_count": 21,
   "metadata": {},
   "outputs": [],
   "source": [
    "df['refundable_support']=df['refundable_support'].fillna(0)\n",
    "df['nonrefundable_support']=df['nonrefundable_support'].fillna(0)\n",
    "df['budget']=df['budget'].fillna(0)\n",
    "df['box_office']=df['box_office'].fillna(0)\n",
    "df['ratings']=df['ratings'].fillna(0)\n",
    "df['producer']=df['producer'].fillna('unknown')\n",
    "df['financing_source']=df['financing_source'].fillna('not_financed')\n",
    "df['genres']=df['genres'].fillna('extra')\n",
    "df['production_country']=df['production_country'].fillna('unknown')\n",
    "df['film_studio']=df['film_studio'].fillna('unknown')\n",
    "df['director']=df['director'].fillna('unknown')"
   ]
  },
  {
   "cell_type": "code",
   "execution_count": 22,
   "metadata": {},
   "outputs": [
    {
     "data": {
      "text/plain": [
       "title                    0\n",
       "puNumber                 0\n",
       "show_start_date          0\n",
       "type                     0\n",
       "film_studio              0\n",
       "production_country       0\n",
       "director                 0\n",
       "producer                 0\n",
       "age_restriction          0\n",
       "refundable_support       0\n",
       "nonrefundable_support    0\n",
       "budget                   0\n",
       "financing_source         0\n",
       "ratings                  0\n",
       "genres                   0\n",
       "box_office               0\n",
       "record_id                0\n",
       "dtype: int64"
      ]
     },
     "execution_count": 22,
     "metadata": {},
     "output_type": "execute_result"
    }
   ],
   "source": [
    "df.isna().sum()"
   ]
  },
  {
   "cell_type": "markdown",
   "metadata": {},
   "source": [
    "Фиксим date-Time\n",
    "2015-11-27T12:00:00.000Z - формат даты \n",
    "\n"
   ]
  },
  {
   "cell_type": "code",
   "execution_count": 23,
   "metadata": {},
   "outputs": [],
   "source": [
    "#Фиксим date_time\n",
    "df['show_start_date']=pd.to_datetime(df['show_start_date'],format='%Y-%m-%d').dt.tz_localize(None).dt.date\n",
    "df['show_start_date']=pd.to_datetime(df['show_start_date'],format='%Y-%m-%d')"
   ]
  },
  {
   "cell_type": "markdown",
   "metadata": {},
   "source": [
    "Отдельно создадим критерии, в которых хранятся, год, месяц, неделя, день"
   ]
  },
  {
   "cell_type": "code",
   "execution_count": 24,
   "metadata": {},
   "outputs": [],
   "source": [
    "df['year']=df['show_start_date'].dt.year\n",
    "df['month']=df['show_start_date'].dt.month\n",
    "df['week']=df['show_start_date'].dt.week\n",
    "df['day']=df['show_start_date'].dt.day"
   ]
  },
  {
   "cell_type": "markdown",
   "metadata": {},
   "source": [
    "Фиксим типы значений"
   ]
  },
  {
   "cell_type": "code",
   "execution_count": 25,
   "metadata": {},
   "outputs": [
    {
     "data": {
      "text/plain": [
       "title                            object\n",
       "puNumber                          int64\n",
       "show_start_date          datetime64[ns]\n",
       "type                             object\n",
       "film_studio                      object\n",
       "production_country               object\n",
       "director                         object\n",
       "producer                         object\n",
       "age_restriction                  object\n",
       "refundable_support              float64\n",
       "nonrefundable_support           float64\n",
       "budget                          float64\n",
       "financing_source                 object\n",
       "ratings                          object\n",
       "genres                           object\n",
       "box_office                      float64\n",
       "record_id                         int64\n",
       "year                              int64\n",
       "month                             int64\n",
       "week                              int64\n",
       "day                               int64\n",
       "dtype: object"
      ]
     },
     "execution_count": 25,
     "metadata": {},
     "output_type": "execute_result"
    }
   ],
   "source": [
    "#повторно выводим инфу о типах\n",
    "df.dtypes"
   ]
  },
  {
   "cell_type": "markdown",
   "metadata": {},
   "source": []
  },
  {
   "cell_type": "code",
   "execution_count": 26,
   "metadata": {},
   "outputs": [
    {
     "name": "stdout",
     "output_type": "stream",
     "text": [
      "явных дубликатов в поле: title\n",
      "714\n",
      "явных дубликатов в поле: puNumber\n",
      "2\n",
      "явных дубликатов в поле: show_start_date\n",
      "5521\n",
      "явных дубликатов в поле: type\n",
      "7478\n",
      "явных дубликатов в поле: film_studio\n",
      "1995\n",
      "явных дубликатов в поле: production_country\n",
      "6535\n",
      "явных дубликатов в поле: director\n",
      "2674\n",
      "явных дубликатов в поле: producer\n",
      "2136\n",
      "явных дубликатов в поле: age_restriction\n",
      "7481\n",
      "явных дубликатов в поле: refundable_support\n",
      "7452\n",
      "явных дубликатов в поле: nonrefundable_support\n",
      "7411\n",
      "явных дубликатов в поле: budget\n",
      "7196\n",
      "явных дубликатов в поле: financing_source\n",
      "7482\n",
      "явных дубликатов в поле: ratings\n",
      "7391\n",
      "явных дубликатов в поле: genres\n",
      "6743\n",
      "явных дубликатов в поле: box_office\n",
      "4548\n",
      "явных дубликатов в поле: record_id\n",
      "0\n",
      "явных дубликатов в поле: year\n",
      "7476\n",
      "явных дубликатов в поле: month\n",
      "7474\n",
      "явных дубликатов в поле: week\n",
      "7433\n",
      "явных дубликатов в поле: day\n",
      "7455\n"
     ]
    }
   ],
   "source": [
    "#Поле title\n",
    "for value in df.head(0):\n",
    "    print('явных дубликатов в поле:',value)\n",
    "    print(df[value].duplicated().sum())"
   ]
  },
  {
   "cell_type": "markdown",
   "metadata": {},
   "source": [
    "Все категориальные переменные \"болеют\" явными и неявными дубликатами.\n",
    "На текущий момент известно два варианта фикса данной проблемы:\n",
    "1 - создание словарей, либо связка через ид, второй проверка  с введением частной функции на замену переменных,  воспользуемся вторым вариантом. \n",
    "Так как по условию, надо проверить только столбец с типами."
   ]
  },
  {
   "cell_type": "code",
   "execution_count": 27,
   "metadata": {},
   "outputs": [
    {
     "data": {
      "text/plain": [
       " Анимационный                    1\n",
       "Музыкально-развлекательный       1\n",
       "Научно-популярный               53\n",
       "Документальный                 288\n",
       "Прочие                         406\n",
       "Анимационный                   828\n",
       " Художественный               1389\n",
       "Художественный                4520\n",
       "Name: type, dtype: int64"
      ]
     },
     "metadata": {},
     "output_type": "display_data"
    }
   ],
   "source": [
    "def replace_wrong_types(wrong_types,correct_type):#функция стандартизации комментария по полю 'type'\n",
    "    for wrong_type in wrong_types:\n",
    "        df['type'] = df['type'].replace(wrong_type,correct_type)\n",
    "    return \n",
    "\n",
    "\n",
    "display(df['type'].value_counts().sort_values(ascending=True))"
   ]
  },
  {
   "cell_type": "markdown",
   "metadata": {},
   "source": [
    " Анимационный                    1\n",
    "Прочие                         406\n",
    "Анимационный                   828\n",
    " Художественный               1389\n",
    "Художественный                4520"
   ]
  },
  {
   "cell_type": "markdown",
   "metadata": {},
   "source": [
    "Суслик найден-  это пробел перед буквой в названиях, видимо в форме,\n",
    "которую заполняет юзер, что-то не так с отображением поля.\n",
    "Безжалостно фиксим с помощью функции выше"
   ]
  },
  {
   "cell_type": "code",
   "execution_count": 28,
   "metadata": {},
   "outputs": [],
   "source": [
    "#Фикс Анимационный\n",
    "correct_type='Анимационный'\n",
    "wrong_types=[' Анимационный']\n",
    "replace_wrong_types(wrong_types,correct_type)\n",
    "\n",
    "#Фикс Художественный\n",
    "correct_type='Художественный'\n",
    "wrong_types=[' Художественный']\n",
    "replace_wrong_types(wrong_types,correct_type)"
   ]
  },
  {
   "cell_type": "code",
   "execution_count": 29,
   "metadata": {},
   "outputs": [
    {
     "data": {
      "text/plain": [
       "Музыкально-развлекательный       1\n",
       "Научно-популярный               53\n",
       "Документальный                 288\n",
       "Прочие                         406\n",
       "Анимационный                   829\n",
       "Художественный                5909\n",
       "Name: type, dtype: int64"
      ]
     },
     "metadata": {},
     "output_type": "display_data"
    }
   ],
   "source": [
    "display(df['type'].value_counts().sort_values(ascending=True))"
   ]
  },
  {
   "cell_type": "code",
   "execution_count": 30,
   "metadata": {},
   "outputs": [
    {
     "data": {
      "text/html": [
       "<div>\n",
       "<style scoped>\n",
       "    .dataframe tbody tr th:only-of-type {\n",
       "        vertical-align: middle;\n",
       "    }\n",
       "\n",
       "    .dataframe tbody tr th {\n",
       "        vertical-align: top;\n",
       "    }\n",
       "\n",
       "    .dataframe thead th {\n",
       "        text-align: right;\n",
       "    }\n",
       "</style>\n",
       "<table border=\"1\" class=\"dataframe\">\n",
       "  <thead>\n",
       "    <tr style=\"text-align: right;\">\n",
       "      <th></th>\n",
       "      <th>title</th>\n",
       "      <th>puNumber</th>\n",
       "      <th>show_start_date</th>\n",
       "      <th>type</th>\n",
       "      <th>film_studio</th>\n",
       "      <th>production_country</th>\n",
       "      <th>director</th>\n",
       "      <th>producer</th>\n",
       "      <th>age_restriction</th>\n",
       "      <th>refundable_support</th>\n",
       "      <th>...</th>\n",
       "      <th>budget</th>\n",
       "      <th>financing_source</th>\n",
       "      <th>ratings</th>\n",
       "      <th>genres</th>\n",
       "      <th>box_office</th>\n",
       "      <th>record_id</th>\n",
       "      <th>year</th>\n",
       "      <th>month</th>\n",
       "      <th>week</th>\n",
       "      <th>day</th>\n",
       "    </tr>\n",
       "  </thead>\n",
       "  <tbody>\n",
       "    <tr>\n",
       "      <th>79</th>\n",
       "      <td>Букашки 3D</td>\n",
       "      <td>126003116</td>\n",
       "      <td>2016-07-01</td>\n",
       "      <td>Прочие</td>\n",
       "      <td>Принципал Лардж Формат, Си Кей Филмз, Филм Коу...</td>\n",
       "      <td>Великобритания</td>\n",
       "      <td>Майк Слии</td>\n",
       "      <td>Фил Срэйзер, Александра Фергюсон</td>\n",
       "      <td>«0+» - для любой зрительской аудитории</td>\n",
       "      <td>0.0</td>\n",
       "      <td>...</td>\n",
       "      <td>0.0</td>\n",
       "      <td>not_financed</td>\n",
       "      <td>7.1</td>\n",
       "      <td>мультфильм,приключения,семейный</td>\n",
       "      <td>0.00</td>\n",
       "      <td>79</td>\n",
       "      <td>2016</td>\n",
       "      <td>7</td>\n",
       "      <td>26</td>\n",
       "      <td>1</td>\n",
       "    </tr>\n",
       "    <tr>\n",
       "      <th>274</th>\n",
       "      <td>Пять препятствий</td>\n",
       "      <td>226008615</td>\n",
       "      <td>2015-09-15</td>\n",
       "      <td>Прочие</td>\n",
       "      <td>Алмаз Филм Продакшн, Паник Продюксьон, Уанброс...</td>\n",
       "      <td>Дания - Швейцария - Бельгия - Франция</td>\n",
       "      <td>Йорген Лет, Ларс Фон Триер</td>\n",
       "      <td>Карстен Холст</td>\n",
       "      <td>«16+» - для детей старше 16 лет</td>\n",
       "      <td>0.0</td>\n",
       "      <td>...</td>\n",
       "      <td>0.0</td>\n",
       "      <td>not_financed</td>\n",
       "      <td>7.1</td>\n",
       "      <td>документальный</td>\n",
       "      <td>0.00</td>\n",
       "      <td>274</td>\n",
       "      <td>2015</td>\n",
       "      <td>9</td>\n",
       "      <td>38</td>\n",
       "      <td>15</td>\n",
       "    </tr>\n",
       "    <tr>\n",
       "      <th>403</th>\n",
       "      <td>Рожденные на воле 3D</td>\n",
       "      <td>126003416</td>\n",
       "      <td>2016-07-01</td>\n",
       "      <td>Прочие</td>\n",
       "      <td>Энимал Орфанз 3D, Аймакс Филмд Интертейнмент</td>\n",
       "      <td>США</td>\n",
       "      <td>Дэвид Ликли</td>\n",
       "      <td>Дрю Феллман</td>\n",
       "      <td>«0+» - для любой зрительской аудитории</td>\n",
       "      <td>0.0</td>\n",
       "      <td>...</td>\n",
       "      <td>0.0</td>\n",
       "      <td>not_financed</td>\n",
       "      <td>7.9</td>\n",
       "      <td>документальный,приключения</td>\n",
       "      <td>0.00</td>\n",
       "      <td>403</td>\n",
       "      <td>2016</td>\n",
       "      <td>7</td>\n",
       "      <td>26</td>\n",
       "      <td>1</td>\n",
       "    </tr>\n",
       "    <tr>\n",
       "      <th>411</th>\n",
       "      <td>Пьетро Масканьи. Сельская честь /По одноименно...</td>\n",
       "      <td>126001812</td>\n",
       "      <td>2012-05-29</td>\n",
       "      <td>Прочие</td>\n",
       "      <td>Эр А И Синема</td>\n",
       "      <td>Италия</td>\n",
       "      <td>Марио Мартоне</td>\n",
       "      <td>Ла Скала</td>\n",
       "      <td>«0+» - для любой зрительской аудитории</td>\n",
       "      <td>0.0</td>\n",
       "      <td>...</td>\n",
       "      <td>0.0</td>\n",
       "      <td>not_financed</td>\n",
       "      <td>0</td>\n",
       "      <td>extra</td>\n",
       "      <td>0.00</td>\n",
       "      <td>411</td>\n",
       "      <td>2012</td>\n",
       "      <td>5</td>\n",
       "      <td>22</td>\n",
       "      <td>29</td>\n",
       "    </tr>\n",
       "    <tr>\n",
       "      <th>412</th>\n",
       "      <td>Опера на льду</td>\n",
       "      <td>126001712</td>\n",
       "      <td>2012-05-29</td>\n",
       "      <td>Прочие</td>\n",
       "      <td>Нексо Диджитал</td>\n",
       "      <td>Италия</td>\n",
       "      <td>Кристиан Биодани</td>\n",
       "      <td>Джиглиола Барбьери, Паоло де Биаси</td>\n",
       "      <td>«0+» - для любой зрительской аудитории</td>\n",
       "      <td>0.0</td>\n",
       "      <td>...</td>\n",
       "      <td>0.0</td>\n",
       "      <td>not_financed</td>\n",
       "      <td>0</td>\n",
       "      <td>extra</td>\n",
       "      <td>0.00</td>\n",
       "      <td>412</td>\n",
       "      <td>2012</td>\n",
       "      <td>5</td>\n",
       "      <td>22</td>\n",
       "      <td>29</td>\n",
       "    </tr>\n",
       "    <tr>\n",
       "      <th>...</th>\n",
       "      <td>...</td>\n",
       "      <td>...</td>\n",
       "      <td>...</td>\n",
       "      <td>...</td>\n",
       "      <td>...</td>\n",
       "      <td>...</td>\n",
       "      <td>...</td>\n",
       "      <td>...</td>\n",
       "      <td>...</td>\n",
       "      <td>...</td>\n",
       "      <td>...</td>\n",
       "      <td>...</td>\n",
       "      <td>...</td>\n",
       "      <td>...</td>\n",
       "      <td>...</td>\n",
       "      <td>...</td>\n",
       "      <td>...</td>\n",
       "      <td>...</td>\n",
       "      <td>...</td>\n",
       "      <td>...</td>\n",
       "      <td>...</td>\n",
       "    </tr>\n",
       "    <tr>\n",
       "      <th>7443</th>\n",
       "      <td>Импрессионисты</td>\n",
       "      <td>126007519</td>\n",
       "      <td>2019-12-05</td>\n",
       "      <td>Прочие</td>\n",
       "      <td>Севенс Арт Продакшнс</td>\n",
       "      <td>Великобритания</td>\n",
       "      <td>Фил Грабски</td>\n",
       "      <td>Фил Грабски</td>\n",
       "      <td>«12+» - для детей старше 12 лет</td>\n",
       "      <td>0.0</td>\n",
       "      <td>...</td>\n",
       "      <td>0.0</td>\n",
       "      <td>not_financed</td>\n",
       "      <td>8.2</td>\n",
       "      <td>драма</td>\n",
       "      <td>0.00</td>\n",
       "      <td>7443</td>\n",
       "      <td>2019</td>\n",
       "      <td>12</td>\n",
       "      <td>49</td>\n",
       "      <td>5</td>\n",
       "    </tr>\n",
       "    <tr>\n",
       "      <th>7444</th>\n",
       "      <td>Микеланджело: Любовь и смерть</td>\n",
       "      <td>126007619</td>\n",
       "      <td>2019-12-05</td>\n",
       "      <td>Прочие</td>\n",
       "      <td>Севенс Арт Продакшнс</td>\n",
       "      <td>Великобритания</td>\n",
       "      <td>Дэвид Бикерстафф</td>\n",
       "      <td>Фил Грабски</td>\n",
       "      <td>«12+» - для детей старше 12 лет</td>\n",
       "      <td>0.0</td>\n",
       "      <td>...</td>\n",
       "      <td>0.0</td>\n",
       "      <td>not_financed</td>\n",
       "      <td>0</td>\n",
       "      <td>extra</td>\n",
       "      <td>0.00</td>\n",
       "      <td>7444</td>\n",
       "      <td>2019</td>\n",
       "      <td>12</td>\n",
       "      <td>49</td>\n",
       "      <td>5</td>\n",
       "    </tr>\n",
       "    <tr>\n",
       "      <th>7459</th>\n",
       "      <td>Эрмитаж. Сила искусства</td>\n",
       "      <td>126007819</td>\n",
       "      <td>2019-12-11</td>\n",
       "      <td>Прочие</td>\n",
       "      <td>3D Продуциони, Нексо Диджитал</td>\n",
       "      <td>Италия</td>\n",
       "      <td>Микеле Малли</td>\n",
       "      <td>Диди Ньокки, Франко Ди Сарро</td>\n",
       "      <td>«16+» - для детей старше 16 лет</td>\n",
       "      <td>0.0</td>\n",
       "      <td>...</td>\n",
       "      <td>0.0</td>\n",
       "      <td>not_financed</td>\n",
       "      <td>0</td>\n",
       "      <td>extra</td>\n",
       "      <td>1032821.51</td>\n",
       "      <td>7459</td>\n",
       "      <td>2019</td>\n",
       "      <td>12</td>\n",
       "      <td>50</td>\n",
       "      <td>11</td>\n",
       "    </tr>\n",
       "    <tr>\n",
       "      <th>7480</th>\n",
       "      <td>Акрам Хан: Родом из Карри Хауса</td>\n",
       "      <td>126007919</td>\n",
       "      <td>2019-12-23</td>\n",
       "      <td>Прочие</td>\n",
       "      <td>Свон Филмз</td>\n",
       "      <td>Великобритания</td>\n",
       "      <td>Ник Пойнц</td>\n",
       "      <td>Поппи Бегум, Ник Пойнц</td>\n",
       "      <td>«12+» - для детей старше 12 лет</td>\n",
       "      <td>0.0</td>\n",
       "      <td>...</td>\n",
       "      <td>0.0</td>\n",
       "      <td>not_financed</td>\n",
       "      <td>0</td>\n",
       "      <td>extra</td>\n",
       "      <td>219569.00</td>\n",
       "      <td>7480</td>\n",
       "      <td>2019</td>\n",
       "      <td>12</td>\n",
       "      <td>52</td>\n",
       "      <td>23</td>\n",
       "    </tr>\n",
       "    <tr>\n",
       "      <th>7481</th>\n",
       "      <td>Сад художника: Американский импрессионизм</td>\n",
       "      <td>126008019</td>\n",
       "      <td>2019-12-23</td>\n",
       "      <td>Прочие</td>\n",
       "      <td>Севен Артс Продакшнз</td>\n",
       "      <td>Великобритания</td>\n",
       "      <td>Фил Грабски</td>\n",
       "      <td>Фил Грабски</td>\n",
       "      <td>«12+» - для детей старше 12 лет</td>\n",
       "      <td>0.0</td>\n",
       "      <td>...</td>\n",
       "      <td>0.0</td>\n",
       "      <td>not_financed</td>\n",
       "      <td>0</td>\n",
       "      <td>extra</td>\n",
       "      <td>0.00</td>\n",
       "      <td>7481</td>\n",
       "      <td>2019</td>\n",
       "      <td>12</td>\n",
       "      <td>52</td>\n",
       "      <td>23</td>\n",
       "    </tr>\n",
       "  </tbody>\n",
       "</table>\n",
       "<p>406 rows × 21 columns</p>\n",
       "</div>"
      ],
      "text/plain": [
       "                                                  title   puNumber  \\\n",
       "79                                           Букашки 3D  126003116   \n",
       "274                                    Пять препятствий  226008615   \n",
       "403                                Рожденные на воле 3D  126003416   \n",
       "411   Пьетро Масканьи. Сельская честь /По одноименно...  126001812   \n",
       "412                                       Опера на льду  126001712   \n",
       "...                                                 ...        ...   \n",
       "7443                                     Импрессионисты  126007519   \n",
       "7444                      Микеланджело: Любовь и смерть  126007619   \n",
       "7459                            Эрмитаж. Сила искусства  126007819   \n",
       "7480                    Акрам Хан: Родом из Карри Хауса  126007919   \n",
       "7481          Сад художника: Американский импрессионизм  126008019   \n",
       "\n",
       "     show_start_date    type  \\\n",
       "79        2016-07-01  Прочие   \n",
       "274       2015-09-15  Прочие   \n",
       "403       2016-07-01  Прочие   \n",
       "411       2012-05-29  Прочие   \n",
       "412       2012-05-29  Прочие   \n",
       "...              ...     ...   \n",
       "7443      2019-12-05  Прочие   \n",
       "7444      2019-12-05  Прочие   \n",
       "7459      2019-12-11  Прочие   \n",
       "7480      2019-12-23  Прочие   \n",
       "7481      2019-12-23  Прочие   \n",
       "\n",
       "                                            film_studio  \\\n",
       "79    Принципал Лардж Формат, Си Кей Филмз, Филм Коу...   \n",
       "274   Алмаз Филм Продакшн, Паник Продюксьон, Уанброс...   \n",
       "403        Энимал Орфанз 3D, Аймакс Филмд Интертейнмент   \n",
       "411                                      Эр А И Синема    \n",
       "412                                      Нексо Диджитал   \n",
       "...                                                 ...   \n",
       "7443                               Севенс Арт Продакшнс   \n",
       "7444                               Севенс Арт Продакшнс   \n",
       "7459                      3D Продуциони, Нексо Диджитал   \n",
       "7480                                         Свон Филмз   \n",
       "7481                               Севен Артс Продакшнз   \n",
       "\n",
       "                         production_country                    director  \\\n",
       "79                           Великобритания                   Майк Слии   \n",
       "274   Дания - Швейцария - Бельгия - Франция  Йорген Лет, Ларс Фон Триер   \n",
       "403                                     США                 Дэвид Ликли   \n",
       "411                                  Италия               Марио Мартоне   \n",
       "412                                  Италия            Кристиан Биодани   \n",
       "...                                     ...                         ...   \n",
       "7443                         Великобритания                 Фил Грабски   \n",
       "7444                         Великобритания            Дэвид Бикерстафф   \n",
       "7459                                 Италия                Микеле Малли   \n",
       "7480                         Великобритания                   Ник Пойнц   \n",
       "7481                         Великобритания                 Фил Грабски   \n",
       "\n",
       "                                producer  \\\n",
       "79      Фил Срэйзер, Александра Фергюсон   \n",
       "274                        Карстен Холст   \n",
       "403                          Дрю Феллман   \n",
       "411                             Ла Скала   \n",
       "412   Джиглиола Барбьери, Паоло де Биаси   \n",
       "...                                  ...   \n",
       "7443                         Фил Грабски   \n",
       "7444                         Фил Грабски   \n",
       "7459        Диди Ньокки, Франко Ди Сарро   \n",
       "7480              Поппи Бегум, Ник Пойнц   \n",
       "7481                         Фил Грабски   \n",
       "\n",
       "                             age_restriction  refundable_support  ...  budget  \\\n",
       "79    «0+» - для любой зрительской аудитории                 0.0  ...     0.0   \n",
       "274          «16+» - для детей старше 16 лет                 0.0  ...     0.0   \n",
       "403   «0+» - для любой зрительской аудитории                 0.0  ...     0.0   \n",
       "411   «0+» - для любой зрительской аудитории                 0.0  ...     0.0   \n",
       "412   «0+» - для любой зрительской аудитории                 0.0  ...     0.0   \n",
       "...                                      ...                 ...  ...     ...   \n",
       "7443         «12+» - для детей старше 12 лет                 0.0  ...     0.0   \n",
       "7444         «12+» - для детей старше 12 лет                 0.0  ...     0.0   \n",
       "7459         «16+» - для детей старше 16 лет                 0.0  ...     0.0   \n",
       "7480         «12+» - для детей старше 12 лет                 0.0  ...     0.0   \n",
       "7481         «12+» - для детей старше 12 лет                 0.0  ...     0.0   \n",
       "\n",
       "      financing_source ratings                           genres  box_office  \\\n",
       "79        not_financed     7.1  мультфильм,приключения,семейный        0.00   \n",
       "274       not_financed     7.1                   документальный        0.00   \n",
       "403       not_financed     7.9       документальный,приключения        0.00   \n",
       "411       not_financed       0                            extra        0.00   \n",
       "412       not_financed       0                            extra        0.00   \n",
       "...                ...     ...                              ...         ...   \n",
       "7443      not_financed     8.2                            драма        0.00   \n",
       "7444      not_financed       0                            extra        0.00   \n",
       "7459      not_financed       0                            extra  1032821.51   \n",
       "7480      not_financed       0                            extra   219569.00   \n",
       "7481      not_financed       0                            extra        0.00   \n",
       "\n",
       "      record_id  year  month  week  day  \n",
       "79           79  2016      7    26    1  \n",
       "274         274  2015      9    38   15  \n",
       "403         403  2016      7    26    1  \n",
       "411         411  2012      5    22   29  \n",
       "412         412  2012      5    22   29  \n",
       "...         ...   ...    ...   ...  ...  \n",
       "7443       7443  2019     12    49    5  \n",
       "7444       7444  2019     12    49    5  \n",
       "7459       7459  2019     12    50   11  \n",
       "7480       7480  2019     12    52   23  \n",
       "7481       7481  2019     12    52   23  \n",
       "\n",
       "[406 rows x 21 columns]"
      ]
     },
     "metadata": {},
     "output_type": "display_data"
    }
   ],
   "source": [
    "display(df[df['type']=='Прочие'])"
   ]
  },
  {
   "cell_type": "code",
   "execution_count": 31,
   "metadata": {},
   "outputs": [
    {
     "name": "stdout",
     "output_type": "stream",
     "text": [
      "<class 'pandas.core.frame.DataFrame'>\n",
      "Int64Index: 7486 entries, 0 to 7485\n",
      "Data columns (total 21 columns):\n",
      " #   Column                 Non-Null Count  Dtype         \n",
      "---  ------                 --------------  -----         \n",
      " 0   title                  7486 non-null   object        \n",
      " 1   puNumber               7486 non-null   int64         \n",
      " 2   show_start_date        7486 non-null   datetime64[ns]\n",
      " 3   type                   7486 non-null   object        \n",
      " 4   film_studio            7486 non-null   object        \n",
      " 5   production_country     7486 non-null   object        \n",
      " 6   director               7486 non-null   object        \n",
      " 7   producer               7486 non-null   object        \n",
      " 8   age_restriction        7486 non-null   object        \n",
      " 9   refundable_support     7486 non-null   float64       \n",
      " 10  nonrefundable_support  7486 non-null   float64       \n",
      " 11  budget                 7486 non-null   float64       \n",
      " 12  financing_source       7486 non-null   object        \n",
      " 13  ratings                7486 non-null   object        \n",
      " 14  genres                 7486 non-null   object        \n",
      " 15  box_office             7486 non-null   float64       \n",
      " 16  record_id              7486 non-null   int64         \n",
      " 17  year                   7486 non-null   int64         \n",
      " 18  month                  7486 non-null   int64         \n",
      " 19  week                   7486 non-null   int64         \n",
      " 20  day                    7486 non-null   int64         \n",
      "dtypes: datetime64[ns](1), float64(4), int64(6), object(10)\n",
      "memory usage: 1.3+ MB\n"
     ]
    }
   ],
   "source": [
    "df.info()"
   ]
  },
  {
   "cell_type": "markdown",
   "metadata": {},
   "source": [
    "`director` — режиссёр;\n"
   ]
  },
  {
   "cell_type": "code",
   "execution_count": 32,
   "metadata": {},
   "outputs": [
    {
     "name": "stdout",
     "output_type": "stream",
     "text": [
      "О.Семёнова                  47\n",
      "Стивен Содерберг            17\n",
      "Д.Червяцов                  17\n",
      "Ридли Скотт                 16\n",
      "Тиль Швайгер                14\n",
      "                            ..\n",
      "Том Коркоран                 1\n",
      "Е.Сергеев                    1\n",
      "Фернандо Гонзалез Молина     1\n",
      "Е.Перволовичи                1\n",
      "И.Трусов                     1\n",
      "Name: director, Length: 4812, dtype: int64\n"
     ]
    }
   ],
   "source": [
    "print(df['director'].value_counts())"
   ]
  },
  {
   "cell_type": "markdown",
   "metadata": {},
   "source": [
    "Рабвивать данное путем разделения точкой и попыток угадать количество букв в фамилии режиссера - это довольно сложная и непредсказуемая задача. \n",
    "\n",
    "Базы данных с нечеткими описаниями такого рода могут вызвать массу затруднений. \n",
    "\n",
    "Например, если у нас есть \"Е. Перволовичи\", то это может быть Евгений, Елена или кто-то еще с именем, начинающимся на \"Е\". В таких случаях приходится перебирать все возможные варианты и угадывать, что может быть правильным именем."
   ]
  },
  {
   "cell_type": "code",
   "execution_count": 33,
   "metadata": {},
   "outputs": [
    {
     "data": {
      "text/html": [
       "<div>\n",
       "<style scoped>\n",
       "    .dataframe tbody tr th:only-of-type {\n",
       "        vertical-align: middle;\n",
       "    }\n",
       "\n",
       "    .dataframe tbody tr th {\n",
       "        vertical-align: top;\n",
       "    }\n",
       "\n",
       "    .dataframe thead th {\n",
       "        text-align: right;\n",
       "    }\n",
       "</style>\n",
       "<table border=\"1\" class=\"dataframe\">\n",
       "  <thead>\n",
       "    <tr style=\"text-align: right;\">\n",
       "      <th></th>\n",
       "      <th>name_surname</th>\n",
       "      <th>record_id</th>\n",
       "    </tr>\n",
       "  </thead>\n",
       "  <tbody>\n",
       "    <tr>\n",
       "      <th>0</th>\n",
       "      <td>Кевин Костнер</td>\n",
       "      <td>0</td>\n",
       "    </tr>\n",
       "    <tr>\n",
       "      <th>1</th>\n",
       "      <td>Е.Матвеев</td>\n",
       "      <td>1</td>\n",
       "    </tr>\n",
       "    <tr>\n",
       "      <th>2</th>\n",
       "      <td>Тимур Бекмамбетов</td>\n",
       "      <td>2</td>\n",
       "    </tr>\n",
       "    <tr>\n",
       "      <th>3</th>\n",
       "      <td>Тимур Бекмамбетов</td>\n",
       "      <td>3</td>\n",
       "    </tr>\n",
       "    <tr>\n",
       "      <th>4</th>\n",
       "      <td>Тимур Бекмамбетов</td>\n",
       "      <td>4</td>\n",
       "    </tr>\n",
       "    <tr>\n",
       "      <th>...</th>\n",
       "      <td>...</td>\n",
       "      <td>...</td>\n",
       "    </tr>\n",
       "    <tr>\n",
       "      <th>7481</th>\n",
       "      <td>Фил Грабски</td>\n",
       "      <td>7481</td>\n",
       "    </tr>\n",
       "    <tr>\n",
       "      <th>7482</th>\n",
       "      <td>Ник Пауэлл</td>\n",
       "      <td>7482</td>\n",
       "    </tr>\n",
       "    <tr>\n",
       "      <th>7483</th>\n",
       "      <td>Чарльз Е.Бастьен</td>\n",
       "      <td>7483</td>\n",
       "    </tr>\n",
       "    <tr>\n",
       "      <th>7484</th>\n",
       "      <td>А.Беляев</td>\n",
       "      <td>7484</td>\n",
       "    </tr>\n",
       "    <tr>\n",
       "      <th>7485</th>\n",
       "      <td>И.Трусов</td>\n",
       "      <td>7485</td>\n",
       "    </tr>\n",
       "  </tbody>\n",
       "</table>\n",
       "<p>7486 rows × 2 columns</p>\n",
       "</div>"
      ],
      "text/plain": [
       "           name_surname  record_id\n",
       "0         Кевин Костнер          0\n",
       "1             Е.Матвеев          1\n",
       "2     Тимур Бекмамбетов          2\n",
       "3     Тимур Бекмамбетов          3\n",
       "4     Тимур Бекмамбетов          4\n",
       "...                 ...        ...\n",
       "7481        Фил Грабски       7481\n",
       "7482         Ник Пауэлл       7482\n",
       "7483   Чарльз Е.Бастьен       7483\n",
       "7484           А.Беляев       7484\n",
       "7485           И.Трусов       7485\n",
       "\n",
       "[7486 rows x 2 columns]"
      ]
     },
     "metadata": {},
     "output_type": "display_data"
    }
   ],
   "source": [
    "split=df['director'].str.split(',',expand=True)\n",
    "#display(split.head(10))\n",
    "split['record_id']=df['record_id']\n",
    "split=split.drop(columns=range(1,18,1),axis=1)\n",
    "split.columns=['name_surname','record_id']\n",
    "display(split)"
   ]
  },
  {
   "cell_type": "markdown",
   "metadata": {},
   "source": [
    "Сшиваем колонки как по заданию"
   ]
  },
  {
   "cell_type": "code",
   "execution_count": 34,
   "metadata": {},
   "outputs": [],
   "source": [
    "df=df.merge(split, on='record_id', how='outer')"
   ]
  },
  {
   "cell_type": "markdown",
   "metadata": {},
   "source": [
    "С режиссерами все, переходим к жанрам, действуем аналогично"
   ]
  },
  {
   "cell_type": "code",
   "execution_count": 35,
   "metadata": {},
   "outputs": [],
   "source": [
    "genres=df[['record_id','genres']]"
   ]
  },
  {
   "cell_type": "markdown",
   "metadata": {},
   "source": [
    "Тут проще"
   ]
  },
  {
   "cell_type": "code",
   "execution_count": 36,
   "metadata": {},
   "outputs": [],
   "source": [
    "genres_split=genres['genres'].str.split(',',expand=True)"
   ]
  },
  {
   "cell_type": "code",
   "execution_count": 37,
   "metadata": {},
   "outputs": [
    {
     "data": {
      "text/html": [
       "<div>\n",
       "<style scoped>\n",
       "    .dataframe tbody tr th:only-of-type {\n",
       "        vertical-align: middle;\n",
       "    }\n",
       "\n",
       "    .dataframe tbody tr th {\n",
       "        vertical-align: top;\n",
       "    }\n",
       "\n",
       "    .dataframe thead th {\n",
       "        text-align: right;\n",
       "    }\n",
       "</style>\n",
       "<table border=\"1\" class=\"dataframe\">\n",
       "  <thead>\n",
       "    <tr style=\"text-align: right;\">\n",
       "      <th></th>\n",
       "      <th>0</th>\n",
       "      <th>1</th>\n",
       "      <th>2</th>\n",
       "    </tr>\n",
       "  </thead>\n",
       "  <tbody>\n",
       "    <tr>\n",
       "      <th>0</th>\n",
       "      <td>боевик</td>\n",
       "      <td>драма</td>\n",
       "      <td>мелодрама</td>\n",
       "    </tr>\n",
       "    <tr>\n",
       "      <th>1</th>\n",
       "      <td>драма</td>\n",
       "      <td>военный</td>\n",
       "      <td>None</td>\n",
       "    </tr>\n",
       "    <tr>\n",
       "      <th>2</th>\n",
       "      <td>фантастика</td>\n",
       "      <td>боевик</td>\n",
       "      <td>триллер</td>\n",
       "    </tr>\n",
       "    <tr>\n",
       "      <th>3</th>\n",
       "      <td>фантастика</td>\n",
       "      <td>боевик</td>\n",
       "      <td>триллер</td>\n",
       "    </tr>\n",
       "    <tr>\n",
       "      <th>4</th>\n",
       "      <td>фантастика</td>\n",
       "      <td>боевик</td>\n",
       "      <td>триллер</td>\n",
       "    </tr>\n",
       "    <tr>\n",
       "      <th>...</th>\n",
       "      <td>...</td>\n",
       "      <td>...</td>\n",
       "      <td>...</td>\n",
       "    </tr>\n",
       "    <tr>\n",
       "      <th>7481</th>\n",
       "      <td>extra</td>\n",
       "      <td>None</td>\n",
       "      <td>None</td>\n",
       "    </tr>\n",
       "    <tr>\n",
       "      <th>7482</th>\n",
       "      <td>боевик</td>\n",
       "      <td>триллер</td>\n",
       "      <td>None</td>\n",
       "    </tr>\n",
       "    <tr>\n",
       "      <th>7483</th>\n",
       "      <td>extra</td>\n",
       "      <td>None</td>\n",
       "      <td>None</td>\n",
       "    </tr>\n",
       "    <tr>\n",
       "      <th>7484</th>\n",
       "      <td>extra</td>\n",
       "      <td>None</td>\n",
       "      <td>None</td>\n",
       "    </tr>\n",
       "    <tr>\n",
       "      <th>7485</th>\n",
       "      <td>комедия</td>\n",
       "      <td>вестерн</td>\n",
       "      <td>None</td>\n",
       "    </tr>\n",
       "  </tbody>\n",
       "</table>\n",
       "<p>7486 rows × 3 columns</p>\n",
       "</div>"
      ],
      "text/plain": [
       "               0        1          2\n",
       "0         боевик    драма  мелодрама\n",
       "1          драма  военный       None\n",
       "2     фантастика   боевик    триллер\n",
       "3     фантастика   боевик    триллер\n",
       "4     фантастика   боевик    триллер\n",
       "...          ...      ...        ...\n",
       "7481       extra     None       None\n",
       "7482      боевик  триллер       None\n",
       "7483       extra     None       None\n",
       "7484       extra     None       None\n",
       "7485     комедия  вестерн       None\n",
       "\n",
       "[7486 rows x 3 columns]"
      ]
     },
     "metadata": {},
     "output_type": "display_data"
    }
   ],
   "source": [
    "display(genres_split)"
   ]
  },
  {
   "cell_type": "markdown",
   "metadata": {},
   "source": [
    "Ага, значит еще что-то есть. Выводим аномалии с индексами из предыдущего шага"
   ]
  },
  {
   "cell_type": "code",
   "execution_count": 38,
   "metadata": {},
   "outputs": [],
   "source": [
    "genres_split['record_id']=genres['record_id']\n",
    "genres_split=genres_split.drop(columns=range(1,3,1),axis=1)\n",
    "genres_split.columns=['genre_first','record_id']"
   ]
  },
  {
   "cell_type": "code",
   "execution_count": 39,
   "metadata": {},
   "outputs": [
    {
     "data": {
      "text/html": [
       "<div>\n",
       "<style scoped>\n",
       "    .dataframe tbody tr th:only-of-type {\n",
       "        vertical-align: middle;\n",
       "    }\n",
       "\n",
       "    .dataframe tbody tr th {\n",
       "        vertical-align: top;\n",
       "    }\n",
       "\n",
       "    .dataframe thead th {\n",
       "        text-align: right;\n",
       "    }\n",
       "</style>\n",
       "<table border=\"1\" class=\"dataframe\">\n",
       "  <thead>\n",
       "    <tr style=\"text-align: right;\">\n",
       "      <th></th>\n",
       "      <th>genre_first</th>\n",
       "      <th>record_id</th>\n",
       "    </tr>\n",
       "  </thead>\n",
       "  <tbody>\n",
       "    <tr>\n",
       "      <th>0</th>\n",
       "      <td>боевик</td>\n",
       "      <td>0</td>\n",
       "    </tr>\n",
       "    <tr>\n",
       "      <th>1</th>\n",
       "      <td>драма</td>\n",
       "      <td>1</td>\n",
       "    </tr>\n",
       "    <tr>\n",
       "      <th>2</th>\n",
       "      <td>фантастика</td>\n",
       "      <td>2</td>\n",
       "    </tr>\n",
       "    <tr>\n",
       "      <th>3</th>\n",
       "      <td>фантастика</td>\n",
       "      <td>3</td>\n",
       "    </tr>\n",
       "    <tr>\n",
       "      <th>4</th>\n",
       "      <td>фантастика</td>\n",
       "      <td>4</td>\n",
       "    </tr>\n",
       "    <tr>\n",
       "      <th>...</th>\n",
       "      <td>...</td>\n",
       "      <td>...</td>\n",
       "    </tr>\n",
       "    <tr>\n",
       "      <th>7481</th>\n",
       "      <td>extra</td>\n",
       "      <td>7481</td>\n",
       "    </tr>\n",
       "    <tr>\n",
       "      <th>7482</th>\n",
       "      <td>боевик</td>\n",
       "      <td>7482</td>\n",
       "    </tr>\n",
       "    <tr>\n",
       "      <th>7483</th>\n",
       "      <td>extra</td>\n",
       "      <td>7483</td>\n",
       "    </tr>\n",
       "    <tr>\n",
       "      <th>7484</th>\n",
       "      <td>extra</td>\n",
       "      <td>7484</td>\n",
       "    </tr>\n",
       "    <tr>\n",
       "      <th>7485</th>\n",
       "      <td>комедия</td>\n",
       "      <td>7485</td>\n",
       "    </tr>\n",
       "  </tbody>\n",
       "</table>\n",
       "<p>7486 rows × 2 columns</p>\n",
       "</div>"
      ],
      "text/plain": [
       "     genre_first  record_id\n",
       "0         боевик          0\n",
       "1          драма          1\n",
       "2     фантастика          2\n",
       "3     фантастика          3\n",
       "4     фантастика          4\n",
       "...          ...        ...\n",
       "7481       extra       7481\n",
       "7482      боевик       7482\n",
       "7483       extra       7483\n",
       "7484       extra       7484\n",
       "7485     комедия       7485\n",
       "\n",
       "[7486 rows x 2 columns]"
      ]
     },
     "metadata": {},
     "output_type": "display_data"
    }
   ],
   "source": [
    "display(genres_split)"
   ]
  },
  {
   "cell_type": "code",
   "execution_count": 40,
   "metadata": {},
   "outputs": [],
   "source": [
    "df=df.merge(genres_split, on='record_id', how='outer')"
   ]
  },
  {
   "cell_type": "code",
   "execution_count": 41,
   "metadata": {},
   "outputs": [
    {
     "name": "stdout",
     "output_type": "stream",
     "text": [
      "<class 'pandas.core.frame.DataFrame'>\n",
      "Int64Index: 7486 entries, 0 to 7485\n",
      "Data columns (total 23 columns):\n",
      " #   Column                 Non-Null Count  Dtype         \n",
      "---  ------                 --------------  -----         \n",
      " 0   title                  7486 non-null   object        \n",
      " 1   puNumber               7486 non-null   int64         \n",
      " 2   show_start_date        7486 non-null   datetime64[ns]\n",
      " 3   type                   7486 non-null   object        \n",
      " 4   film_studio            7486 non-null   object        \n",
      " 5   production_country     7486 non-null   object        \n",
      " 6   director               7486 non-null   object        \n",
      " 7   producer               7486 non-null   object        \n",
      " 8   age_restriction        7486 non-null   object        \n",
      " 9   refundable_support     7486 non-null   float64       \n",
      " 10  nonrefundable_support  7486 non-null   float64       \n",
      " 11  budget                 7486 non-null   float64       \n",
      " 12  financing_source       7486 non-null   object        \n",
      " 13  ratings                7486 non-null   object        \n",
      " 14  genres                 7486 non-null   object        \n",
      " 15  box_office             7486 non-null   float64       \n",
      " 16  record_id              7486 non-null   int64         \n",
      " 17  year                   7486 non-null   int64         \n",
      " 18  month                  7486 non-null   int64         \n",
      " 19  week                   7486 non-null   int64         \n",
      " 20  day                    7486 non-null   int64         \n",
      " 21  name_surname           7486 non-null   object        \n",
      " 22  genre_first            7486 non-null   object        \n",
      "dtypes: datetime64[ns](1), float64(4), int64(6), object(12)\n",
      "memory usage: 1.4+ MB\n"
     ]
    }
   ],
   "source": [
    "df.info()"
   ]
  },
  {
   "cell_type": "markdown",
   "metadata": {},
   "source": [
    "Большинство категориальных переменных включают в себя несколько категорий в одной ячейке, а не только одну. То же самое относится и к именам режиссеров, которые могут содержать несколько имен, а также к киностудиям, которые могут включать несколько студий и так далее. Кроме того, в данных присутствуют лишние пробелы, которые мы удаляем с помощью функции strip, а также различные разделители, такие как точка с запятой, и отдельные слова.\n",
    "\n",
    "Все эти категориальные переменные не имеют жестких ограничений на поля. Под жесткими ограничениями на поля я подразумеваю, что данные поля не представляют собой выпадающий список с ограниченным набором вариантов выбора для пользователя. Из-за отсутствия таких ограничений страдает стандартизация данных, наполняемость базы и качество данных в целом."
   ]
  },
  {
   "cell_type": "markdown",
   "metadata": {},
   "source": [
    "Переходим к анализу количественных показателей:\n",
    "\n",
    "1. `refundable_support` — это объем возвратных средств государственной поддержки. Мы проанализируем этот показатель, чтобы выявить аномалии или выбросы в данных.\n",
    "\n",
    "2. `nonrefundable_support` — это объем невозвратных средств государственной поддержки. Также проведем анализ этого показателя для выявления аномалий.\n",
    "\n",
    "3. `financing_source` — это источник государственного финансирования. Мы оценим разнообразие источников финансирования и их распределение.\n",
    "\n",
    "4. `budget` — это общий бюджет фильма. Мы проанализируем данные о бюджете, чтобы выявить аномалии и определить, какой процент бюджета составляют государственные средства.\n",
    "\n",
    "5. `ratings`— это рейтинг фильма на КиноПоиске. Мы также проведем анализ этого рейтинга для понимания его распределения и значимости.\n",
    "\n",
    "Для каждого из этих показателей мы будем рассматривать основные статистические характеристики, строить графики распределения, искать выбросы и аномалии, а также проводить корреляционный анализ с другими переменными, если это целесообразно. Эти шаги помогут нам лучше понять данные и подготовить их для дальнейшего анализа."
   ]
  },
  {
   "cell_type": "code",
   "execution_count": 42,
   "metadata": {},
   "outputs": [
    {
     "data": {
      "text/html": [
       "<div>\n",
       "<style scoped>\n",
       "    .dataframe tbody tr th:only-of-type {\n",
       "        vertical-align: middle;\n",
       "    }\n",
       "\n",
       "    .dataframe tbody tr th {\n",
       "        vertical-align: top;\n",
       "    }\n",
       "\n",
       "    .dataframe thead th {\n",
       "        text-align: right;\n",
       "    }\n",
       "</style>\n",
       "<table border=\"1\" class=\"dataframe\">\n",
       "  <thead>\n",
       "    <tr style=\"text-align: right;\">\n",
       "      <th></th>\n",
       "      <th>refundable_support</th>\n",
       "      <th>nonrefundable_support</th>\n",
       "      <th>budget</th>\n",
       "      <th>box_office</th>\n",
       "    </tr>\n",
       "  </thead>\n",
       "  <tbody>\n",
       "    <tr>\n",
       "      <th>count</th>\n",
       "      <td>7.486000e+03</td>\n",
       "      <td>7.486000e+03</td>\n",
       "      <td>7.486000e+03</td>\n",
       "      <td>7.486000e+03</td>\n",
       "    </tr>\n",
       "    <tr>\n",
       "      <th>mean</th>\n",
       "      <td>5.261822e+05</td>\n",
       "      <td>2.172280e+06</td>\n",
       "      <td>5.642568e+06</td>\n",
       "      <td>3.226285e+07</td>\n",
       "    </tr>\n",
       "    <tr>\n",
       "      <th>std</th>\n",
       "      <td>5.781108e+06</td>\n",
       "      <td>1.614894e+07</td>\n",
       "      <td>4.752818e+07</td>\n",
       "      <td>1.606008e+08</td>\n",
       "    </tr>\n",
       "    <tr>\n",
       "      <th>min</th>\n",
       "      <td>0.000000e+00</td>\n",
       "      <td>0.000000e+00</td>\n",
       "      <td>0.000000e+00</td>\n",
       "      <td>0.000000e+00</td>\n",
       "    </tr>\n",
       "    <tr>\n",
       "      <th>25%</th>\n",
       "      <td>0.000000e+00</td>\n",
       "      <td>0.000000e+00</td>\n",
       "      <td>0.000000e+00</td>\n",
       "      <td>0.000000e+00</td>\n",
       "    </tr>\n",
       "    <tr>\n",
       "      <th>50%</th>\n",
       "      <td>0.000000e+00</td>\n",
       "      <td>0.000000e+00</td>\n",
       "      <td>0.000000e+00</td>\n",
       "      <td>0.000000e+00</td>\n",
       "    </tr>\n",
       "    <tr>\n",
       "      <th>75%</th>\n",
       "      <td>0.000000e+00</td>\n",
       "      <td>0.000000e+00</td>\n",
       "      <td>0.000000e+00</td>\n",
       "      <td>1.080468e+06</td>\n",
       "    </tr>\n",
       "    <tr>\n",
       "      <th>max</th>\n",
       "      <td>1.800000e+08</td>\n",
       "      <td>4.000000e+08</td>\n",
       "      <td>2.305074e+09</td>\n",
       "      <td>3.073569e+09</td>\n",
       "    </tr>\n",
       "  </tbody>\n",
       "</table>\n",
       "</div>"
      ],
      "text/plain": [
       "       refundable_support  nonrefundable_support        budget    box_office\n",
       "count        7.486000e+03           7.486000e+03  7.486000e+03  7.486000e+03\n",
       "mean         5.261822e+05           2.172280e+06  5.642568e+06  3.226285e+07\n",
       "std          5.781108e+06           1.614894e+07  4.752818e+07  1.606008e+08\n",
       "min          0.000000e+00           0.000000e+00  0.000000e+00  0.000000e+00\n",
       "25%          0.000000e+00           0.000000e+00  0.000000e+00  0.000000e+00\n",
       "50%          0.000000e+00           0.000000e+00  0.000000e+00  0.000000e+00\n",
       "75%          0.000000e+00           0.000000e+00  0.000000e+00  1.080468e+06\n",
       "max          1.800000e+08           4.000000e+08  2.305074e+09  3.073569e+09"
      ]
     },
     "metadata": {},
     "output_type": "display_data"
    },
    {
     "data": {
      "text/plain": [
       "refundable_support       float64\n",
       "nonrefundable_support    float64\n",
       "budget                   float64\n",
       "ratings                   object\n",
       "box_office               float64\n",
       "dtype: object"
      ]
     },
     "metadata": {},
     "output_type": "display_data"
    }
   ],
   "source": [
    "#display(df[['refundable_support','nonrefundable_support','financing_source','budget','ratings','record_id']])\n",
    "\n",
    "numeric_df=df[['refundable_support','nonrefundable_support','budget','ratings','box_office'\n",
    "               ]]\n",
    "\n",
    "display(numeric_df.describe())\n",
    "display(numeric_df.dtypes)\n",
    "\n",
    " "
   ]
  },
  {
   "cell_type": "markdown",
   "metadata": {},
   "source": [
    "Проблема количественных критериев - формат, типы данных, и вероятно, выбросы. \n",
    "\n",
    "\n",
    "Судя по формату, в  поле raitings также есть ошибки в данных."
   ]
  },
  {
   "cell_type": "code",
   "execution_count": 43,
   "metadata": {},
   "outputs": [],
   "source": [
    "#Меняем форматы в данных\n",
    "df['refundable_support']=df['refundable_support'].astype('int64')\n",
    "df['nonrefundable_support']=df['nonrefundable_support'].astype('int64')\n",
    "df['budget']=df['budget'].astype('int64')\n",
    "df['box_office']=df['box_office'].astype('int64')"
   ]
  },
  {
   "cell_type": "code",
   "execution_count": 44,
   "metadata": {},
   "outputs": [],
   "source": [
    "#df['financing_source']=pd.to_numeric(df['financing_source'], errors='coerce')"
   ]
  },
  {
   "cell_type": "code",
   "execution_count": 45,
   "metadata": {},
   "outputs": [
    {
     "data": {
      "text/html": [
       "<div>\n",
       "<style scoped>\n",
       "    .dataframe tbody tr th:only-of-type {\n",
       "        vertical-align: middle;\n",
       "    }\n",
       "\n",
       "    .dataframe tbody tr th {\n",
       "        vertical-align: top;\n",
       "    }\n",
       "\n",
       "    .dataframe thead th {\n",
       "        text-align: right;\n",
       "    }\n",
       "</style>\n",
       "<table border=\"1\" class=\"dataframe\">\n",
       "  <thead>\n",
       "    <tr style=\"text-align: right;\">\n",
       "      <th></th>\n",
       "      <th>puNumber</th>\n",
       "      <th>refundable_support</th>\n",
       "      <th>nonrefundable_support</th>\n",
       "      <th>budget</th>\n",
       "      <th>box_office</th>\n",
       "      <th>record_id</th>\n",
       "      <th>year</th>\n",
       "      <th>month</th>\n",
       "      <th>week</th>\n",
       "      <th>day</th>\n",
       "    </tr>\n",
       "  </thead>\n",
       "  <tbody>\n",
       "    <tr>\n",
       "      <th>count</th>\n",
       "      <td>7486</td>\n",
       "      <td>7486</td>\n",
       "      <td>7486</td>\n",
       "      <td>7486</td>\n",
       "      <td>7486</td>\n",
       "      <td>7486</td>\n",
       "      <td>7486</td>\n",
       "      <td>7486</td>\n",
       "      <td>7486</td>\n",
       "      <td>7486</td>\n",
       "    </tr>\n",
       "    <tr>\n",
       "      <th>mean</th>\n",
       "      <td>135178528</td>\n",
       "      <td>526182</td>\n",
       "      <td>2172280</td>\n",
       "      <td>5642568</td>\n",
       "      <td>32262854</td>\n",
       "      <td>3742</td>\n",
       "      <td>2015</td>\n",
       "      <td>7</td>\n",
       "      <td>29</td>\n",
       "      <td>16</td>\n",
       "    </tr>\n",
       "    <tr>\n",
       "      <th>std</th>\n",
       "      <td>38382177</td>\n",
       "      <td>5781108</td>\n",
       "      <td>16148935</td>\n",
       "      <td>47528178</td>\n",
       "      <td>160600784</td>\n",
       "      <td>2161</td>\n",
       "      <td>3</td>\n",
       "      <td>4</td>\n",
       "      <td>15</td>\n",
       "      <td>9</td>\n",
       "    </tr>\n",
       "    <tr>\n",
       "      <th>min</th>\n",
       "      <td>-1</td>\n",
       "      <td>0</td>\n",
       "      <td>0</td>\n",
       "      <td>0</td>\n",
       "      <td>0</td>\n",
       "      <td>0</td>\n",
       "      <td>2010</td>\n",
       "      <td>1</td>\n",
       "      <td>1</td>\n",
       "      <td>1</td>\n",
       "    </tr>\n",
       "    <tr>\n",
       "      <th>25%</th>\n",
       "      <td>112025043</td>\n",
       "      <td>0</td>\n",
       "      <td>0</td>\n",
       "      <td>0</td>\n",
       "      <td>0</td>\n",
       "      <td>1871</td>\n",
       "      <td>2012</td>\n",
       "      <td>4</td>\n",
       "      <td>15</td>\n",
       "      <td>9</td>\n",
       "    </tr>\n",
       "    <tr>\n",
       "      <th>50%</th>\n",
       "      <td>121015464</td>\n",
       "      <td>0</td>\n",
       "      <td>0</td>\n",
       "      <td>0</td>\n",
       "      <td>0</td>\n",
       "      <td>3742</td>\n",
       "      <td>2015</td>\n",
       "      <td>7</td>\n",
       "      <td>30</td>\n",
       "      <td>17</td>\n",
       "    </tr>\n",
       "    <tr>\n",
       "      <th>75%</th>\n",
       "      <td>124003314</td>\n",
       "      <td>0</td>\n",
       "      <td>0</td>\n",
       "      <td>0</td>\n",
       "      <td>1080468</td>\n",
       "      <td>5614</td>\n",
       "      <td>2017</td>\n",
       "      <td>10</td>\n",
       "      <td>43</td>\n",
       "      <td>24</td>\n",
       "    </tr>\n",
       "    <tr>\n",
       "      <th>max</th>\n",
       "      <td>231001111</td>\n",
       "      <td>180000000</td>\n",
       "      <td>400000000</td>\n",
       "      <td>2305074303</td>\n",
       "      <td>3073568690</td>\n",
       "      <td>7485</td>\n",
       "      <td>2019</td>\n",
       "      <td>12</td>\n",
       "      <td>53</td>\n",
       "      <td>31</td>\n",
       "    </tr>\n",
       "  </tbody>\n",
       "</table>\n",
       "</div>"
      ],
      "text/plain": [
       "       puNumber  refundable_support  nonrefundable_support     budget  \\\n",
       "count      7486                7486                   7486       7486   \n",
       "mean  135178528              526182                2172280    5642568   \n",
       "std    38382177             5781108               16148935   47528178   \n",
       "min          -1                   0                      0          0   \n",
       "25%   112025043                   0                      0          0   \n",
       "50%   121015464                   0                      0          0   \n",
       "75%   124003314                   0                      0          0   \n",
       "max   231001111           180000000              400000000 2305074303   \n",
       "\n",
       "       box_office  record_id  year  month  week  day  \n",
       "count        7486       7486  7486   7486  7486 7486  \n",
       "mean     32262854       3742  2015      7    29   16  \n",
       "std     160600784       2161     3      4    15    9  \n",
       "min             0          0  2010      1     1    1  \n",
       "25%             0       1871  2012      4    15    9  \n",
       "50%             0       3742  2015      7    30   17  \n",
       "75%       1080468       5614  2017     10    43   24  \n",
       "max    3073568690       7485  2019     12    53   31  "
      ]
     },
     "execution_count": 45,
     "metadata": {},
     "output_type": "execute_result"
    }
   ],
   "source": [
    "pd.options.display.float_format = '{:.0f}'.format # Точнее \n",
    "df.describe()"
   ]
  },
  {
   "cell_type": "code",
   "execution_count": 46,
   "metadata": {},
   "outputs": [
    {
     "data": {
      "text/plain": [
       "array(['7.2', '6.6', '6.8', '7.7', '8.3', '8.0', '7.8', '8.1', '7.1',\n",
       "       '6.0', '7.4', '5.8', '8.7', '6.3', '6.9', '5.0', '4.3', '7.3',\n",
       "       '7.0', '6.4', 0, '8.2', '7.5', '6.7', '7.9', '5.9', '6.2', '5.6',\n",
       "       '6.5', '2.4', '7.6', '6.1', '8.6', '8.5', '8.8', '5.5', '5.1',\n",
       "       '5.7', '5.4', '99%', '4.4', '4.5', '5.3', '4.1', '8.4', '2.6',\n",
       "       '3.8', '4.6', '4.8', '4.0', '3.0', '1.6', '4.2', '5.2', '4.7',\n",
       "       '4.9', '3.9', '2.7', '3.3', '2.9', '28%', '3.7', '1.4', '3.1',\n",
       "       '97%', '3.5', '3.2', '2.8', '1.5', '2.1', '2.5', '9.2', '3.4',\n",
       "       '1.1', '3.6', '83%', '64%', '91%', '94%', '62%', '79%', '90%',\n",
       "       '19%', '88%', '1.0', '89%', '1.3', '1.9', '1.8', '1.2', '1.7',\n",
       "       '9.0', '98%', '8.9', '9.1'], dtype=object)"
      ]
     },
     "metadata": {},
     "output_type": "display_data"
    }
   ],
   "source": [
    "display(df['ratings'].unique())"
   ]
  },
  {
   "cell_type": "markdown",
   "metadata": {},
   "source": [
    "Ha,ha, classic. Безопасно переводим в numeric "
   ]
  },
  {
   "cell_type": "code",
   "execution_count": 47,
   "metadata": {},
   "outputs": [
    {
     "data": {
      "text/plain": [
       "array([7.2, 6.6, 6.8, 7.7, 8.3, 8. , 7.8, 8.1, 7.1, 6. , 7.4, 5.8, 8.7,\n",
       "       6.3, 6.9, 5. , 4.3, 7.3, 7. , 6.4, 0. , 8.2, 7.5, 6.7, 7.9, 5.9,\n",
       "       6.2, 5.6, 6.5, 2.4, 7.6, 6.1, 8.6, 8.5, 8.8, 5.5, 5.1, 5.7, 5.4,\n",
       "       nan, 4.4, 4.5, 5.3, 4.1, 8.4, 2.6, 3.8, 4.6, 4.8, 4. , 3. , 1.6,\n",
       "       4.2, 5.2, 4.7, 4.9, 3.9, 2.7, 3.3, 2.9, 3.7, 1.4, 3.1, 3.5, 3.2,\n",
       "       2.8, 1.5, 2.1, 2.5, 9.2, 3.4, 1.1, 3.6, 1. , 1.3, 1.9, 1.8, 1.2,\n",
       "       1.7, 9. , 8.9, 9.1])"
      ]
     },
     "metadata": {},
     "output_type": "display_data"
    },
    {
     "data": {
      "text/plain": [
       "'битых значений'"
      ]
     },
     "metadata": {},
     "output_type": "display_data"
    },
    {
     "data": {
      "text/plain": [
       "29"
      ]
     },
     "metadata": {},
     "output_type": "display_data"
    }
   ],
   "source": [
    "df['ratings']=pd.to_numeric(df['ratings'], errors='coerce')\n",
    "rait_fix=df[['ratings','record_id']]\n",
    "display(rait_fix['ratings'].unique())\n",
    "display('битых значений',rait_fix['ratings'].isna().sum())"
   ]
  },
  {
   "cell_type": "markdown",
   "metadata": {},
   "source": [
    "Заполняем битые значения по полю raitings -1, так как их мало, установить, что там было в оригинале сложно"
   ]
  },
  {
   "cell_type": "code",
   "execution_count": 48,
   "metadata": {},
   "outputs": [],
   "source": [
    "df['ratings']=df['ratings'].fillna(-1)"
   ]
  },
  {
   "cell_type": "code",
   "execution_count": 49,
   "metadata": {},
   "outputs": [
    {
     "data": {
      "text/plain": [
       "array([ 7.2,  6.6,  6.8,  7.7,  8.3,  8. ,  7.8,  8.1,  7.1,  6. ,  7.4,\n",
       "        5.8,  8.7,  6.3,  6.9,  5. ,  4.3,  7.3,  7. ,  6.4,  0. ,  8.2,\n",
       "        7.5,  6.7,  7.9,  5.9,  6.2,  5.6,  6.5,  2.4,  7.6,  6.1,  8.6,\n",
       "        8.5,  8.8,  5.5,  5.1,  5.7,  5.4, -1. ,  4.4,  4.5,  5.3,  4.1,\n",
       "        8.4,  2.6,  3.8,  4.6,  4.8,  4. ,  3. ,  1.6,  4.2,  5.2,  4.7,\n",
       "        4.9,  3.9,  2.7,  3.3,  2.9,  3.7,  1.4,  3.1,  3.5,  3.2,  2.8,\n",
       "        1.5,  2.1,  2.5,  9.2,  3.4,  1.1,  3.6,  1. ,  1.3,  1.9,  1.8,\n",
       "        1.2,  1.7,  9. ,  8.9,  9.1])"
      ]
     },
     "metadata": {},
     "output_type": "display_data"
    },
    {
     "data": {
      "text/plain": [
       "'значений >-1'"
      ]
     },
     "metadata": {},
     "output_type": "display_data"
    },
    {
     "data": {
      "text/plain": [
       "7486"
      ]
     },
     "metadata": {},
     "output_type": "display_data"
    }
   ],
   "source": [
    "rait_fix=df[['ratings','record_id']]\n",
    "display(rait_fix['ratings'].unique())\n",
    "display('значений >-1',(rait_fix['ratings']>-1).count().sum())"
   ]
  },
  {
   "cell_type": "markdown",
   "metadata": {},
   "source": [
    "Пофиксили типы и форматы"
   ]
  },
  {
   "cell_type": "markdown",
   "metadata": {},
   "source": [
    "### Вывод по разделу предобработка данных\n",
    "\n",
    "Оъем достаточен для выполнения поставленной задачи. Но мы столкнулись с несколькими проблемами и аномалиями в данных.\n",
    "\n",
    "В некоторых признаках обнаружено смешение качественных и количественных показателей, что усложняет анализ. Также отсутствует единая классификация для некоторых признаков, и данные иногда имеют одну-ко-многим связь без уникальных идентификаторов записей.\n",
    "\n",
    "Отсутствие уникальных идентификаторов для записей и отсутствие даты окончания прокатного удостоверения затрудняют дальнейший анализ данных.\n",
    "\n",
    "Также выявили неявные дубликаты и пропуски в данных. Возможно, исходная база данных не имеет строгих ограничений на поля для пользователей и не обеспечивает жестких взаимосвязей между данными.\n",
    "\n",
    "Еще одной проблемой является низкое качество данных, включая ошибки в заполнении и возможные выбросы в количественных критериях.\n",
    "\n",
    "В рамках Шага 2 мы будем работать над устранением этих проблем и подготовкой данных для дальнейшего анализа."
   ]
  },
  {
   "cell_type": "markdown",
   "metadata": {
    "id": "NDkb4wRMuqj9"
   },
   "source": [
    "## Расчёты и добавление результатов в таблицу"
   ]
  },
  {
   "cell_type": "markdown",
   "metadata": {},
   "source": [
    "`refundable_support`\n",
    "- объём возвратных средств государственной поддержки;\n",
    "\n",
    "`nonrefundable_support` \n",
    "- объём невозвратных средств государственной поддержки;\n",
    "\n",
    "`financing_source`\n",
    "-  источник государственного финансирования;\n",
    "\n",
    "`budget`\n",
    "- общий бюджет фильма;\n",
    "\n",
    "`ratings`\n",
    "- рейтинг фильма на КиноПоиске;\n",
    "\n",
    "\n",
    "**сведения о показах фильмов в российских кинотеатрах**\n",
    "\n",
    "`puNumber` \n",
    "- номер прокатного удостоверения;\n",
    "\n",
    "\n",
    "`box_office` \n",
    "- сборы в рублях."
   ]
  },
  {
   "cell_type": "code",
   "execution_count": 50,
   "metadata": {},
   "outputs": [],
   "source": [
    "#Посчитайте, какую долю от общего бюджета фильма составляет государственная поддержка.\n",
    "df['support_per_buget']=(df['refundable_support']+df['nonrefundable_support'])/df['budget']"
   ]
  },
  {
   "cell_type": "markdown",
   "metadata": {
    "id": "bbkJiMpRuqj9"
   },
   "source": [
    "## Исследовательский анализ данных"
   ]
  },
  {
   "cell_type": "code",
   "execution_count": 51,
   "metadata": {},
   "outputs": [
    {
     "data": {
      "text/plain": [
       "Index(['title', 'puNumber', 'show_start_date', 'type', 'film_studio',\n",
       "       'production_country', 'director', 'producer', 'age_restriction',\n",
       "       'refundable_support', 'nonrefundable_support', 'budget',\n",
       "       'financing_source', 'ratings', 'genres', 'box_office', 'record_id',\n",
       "       'year', 'month', 'week', 'day', 'name_surname', 'genre_first',\n",
       "       'support_per_buget'],\n",
       "      dtype='object')"
      ]
     },
     "metadata": {},
     "output_type": "display_data"
    }
   ],
   "source": [
    "display(df.columns)"
   ]
  },
  {
   "cell_type": "code",
   "execution_count": 52,
   "metadata": {},
   "outputs": [],
   "source": [
    "criteria=pd.DataFrame(df.dtypes)\n",
    "criteria.columns=['dtype']"
   ]
  },
  {
   "cell_type": "code",
   "execution_count": 53,
   "metadata": {},
   "outputs": [
    {
     "data": {
      "text/html": [
       "<div>\n",
       "<style scoped>\n",
       "    .dataframe tbody tr th:only-of-type {\n",
       "        vertical-align: middle;\n",
       "    }\n",
       "\n",
       "    .dataframe tbody tr th {\n",
       "        vertical-align: top;\n",
       "    }\n",
       "\n",
       "    .dataframe thead th {\n",
       "        text-align: right;\n",
       "    }\n",
       "</style>\n",
       "<table border=\"1\" class=\"dataframe\">\n",
       "  <thead>\n",
       "    <tr style=\"text-align: right;\">\n",
       "      <th></th>\n",
       "      <th>dtype</th>\n",
       "    </tr>\n",
       "  </thead>\n",
       "  <tbody>\n",
       "    <tr>\n",
       "      <th>title</th>\n",
       "      <td>object</td>\n",
       "    </tr>\n",
       "    <tr>\n",
       "      <th>producer</th>\n",
       "      <td>object</td>\n",
       "    </tr>\n",
       "    <tr>\n",
       "      <th>genre_first</th>\n",
       "      <td>object</td>\n",
       "    </tr>\n",
       "    <tr>\n",
       "      <th>name_surname</th>\n",
       "      <td>object</td>\n",
       "    </tr>\n",
       "    <tr>\n",
       "      <th>genres</th>\n",
       "      <td>object</td>\n",
       "    </tr>\n",
       "    <tr>\n",
       "      <th>age_restriction</th>\n",
       "      <td>object</td>\n",
       "    </tr>\n",
       "    <tr>\n",
       "      <th>financing_source</th>\n",
       "      <td>object</td>\n",
       "    </tr>\n",
       "    <tr>\n",
       "      <th>director</th>\n",
       "      <td>object</td>\n",
       "    </tr>\n",
       "    <tr>\n",
       "      <th>type</th>\n",
       "      <td>object</td>\n",
       "    </tr>\n",
       "    <tr>\n",
       "      <th>production_country</th>\n",
       "      <td>object</td>\n",
       "    </tr>\n",
       "    <tr>\n",
       "      <th>film_studio</th>\n",
       "      <td>object</td>\n",
       "    </tr>\n",
       "    <tr>\n",
       "      <th>ratings</th>\n",
       "      <td>float64</td>\n",
       "    </tr>\n",
       "    <tr>\n",
       "      <th>show_start_date</th>\n",
       "      <td>datetime64[ns]</td>\n",
       "    </tr>\n",
       "    <tr>\n",
       "      <th>support_per_buget</th>\n",
       "      <td>float64</td>\n",
       "    </tr>\n",
       "    <tr>\n",
       "      <th>puNumber</th>\n",
       "      <td>int64</td>\n",
       "    </tr>\n",
       "    <tr>\n",
       "      <th>budget</th>\n",
       "      <td>int64</td>\n",
       "    </tr>\n",
       "    <tr>\n",
       "      <th>record_id</th>\n",
       "      <td>int64</td>\n",
       "    </tr>\n",
       "    <tr>\n",
       "      <th>year</th>\n",
       "      <td>int64</td>\n",
       "    </tr>\n",
       "    <tr>\n",
       "      <th>month</th>\n",
       "      <td>int64</td>\n",
       "    </tr>\n",
       "    <tr>\n",
       "      <th>week</th>\n",
       "      <td>int64</td>\n",
       "    </tr>\n",
       "    <tr>\n",
       "      <th>day</th>\n",
       "      <td>int64</td>\n",
       "    </tr>\n",
       "    <tr>\n",
       "      <th>nonrefundable_support</th>\n",
       "      <td>int64</td>\n",
       "    </tr>\n",
       "    <tr>\n",
       "      <th>refundable_support</th>\n",
       "      <td>int64</td>\n",
       "    </tr>\n",
       "    <tr>\n",
       "      <th>box_office</th>\n",
       "      <td>int64</td>\n",
       "    </tr>\n",
       "  </tbody>\n",
       "</table>\n",
       "</div>"
      ],
      "text/plain": [
       "                                dtype\n",
       "title                          object\n",
       "producer                       object\n",
       "genre_first                    object\n",
       "name_surname                   object\n",
       "genres                         object\n",
       "age_restriction                object\n",
       "financing_source               object\n",
       "director                       object\n",
       "type                           object\n",
       "production_country             object\n",
       "film_studio                    object\n",
       "ratings                       float64\n",
       "show_start_date        datetime64[ns]\n",
       "support_per_buget             float64\n",
       "puNumber                        int64\n",
       "budget                          int64\n",
       "record_id                       int64\n",
       "year                            int64\n",
       "month                           int64\n",
       "week                            int64\n",
       "day                             int64\n",
       "nonrefundable_support           int64\n",
       "refundable_support              int64\n",
       "box_office                      int64"
      ]
     },
     "metadata": {},
     "output_type": "display_data"
    }
   ],
   "source": [
    "display(criteria.sort_values(by='dtype',ascending=False))"
   ]
  },
  {
   "cell_type": "code",
   "execution_count": 54,
   "metadata": {},
   "outputs": [],
   "source": [
    "nominal_criteria=criteria[criteria['dtype']=='object'] # Категориальные критерии под лог.анализ\n",
    "variable_criteria=criteria[criteria['dtype']!='object'] # Численные критерии под стат.анализ."
   ]
  },
  {
   "cell_type": "code",
   "execution_count": 55,
   "metadata": {},
   "outputs": [],
   "source": [
    "#Посмотрите, сколько фильмов выходило в прокат каждый год.. #Инфа по прокатным удостоверениям\n",
    "films_per_year=df.groupby('year').agg({'record_id':'count'}) #фильмов в год\n",
    "films_per_year.columns=['count']"
   ]
  },
  {
   "cell_type": "markdown",
   "metadata": {},
   "source": [
    "Сколько фильмов выходило в прокат каждый год. Графическое отображение"
   ]
  },
  {
   "cell_type": "code",
   "execution_count": 56,
   "metadata": {},
   "outputs": [
    {
     "data": {
      "image/png": "[encoded data removed]",
      "text/plain": [
       "<Figure size 432x288 with 1 Axes>"
      ]
     },
     "metadata": {
      "needs_background": "light"
     },
     "output_type": "display_data"
    }
   ],
   "source": [
    "sns_plot1 = sns.barplot(data=films_per_year,x=films_per_year.index,y=films_per_year['count']).set_title(\n",
    "    'Количество фильмов, которое выходило в прокат в год (дата из массива прокатных удостоверений)')"
   ]
  },
  {
   "cell_type": "markdown",
   "metadata": {},
   "source": [
    "c 2010 по 2012 число фильмов выходящих в прокат снижалось,\n",
    "Потом с 2012 по 2014 росло, потом, наблюдалось незначительное уменьшение в 2015, а в 2015 - 2016 рост,\n",
    "2016-2017 снижение до минимума.\n",
    "Потом снова рост."
   ]
  },
  {
   "cell_type": "code",
   "execution_count": 57,
   "metadata": {},
   "outputs": [
    {
     "data": {
      "text/html": [
       "<div>\n",
       "<style scoped>\n",
       "    .dataframe tbody tr th:only-of-type {\n",
       "        vertical-align: middle;\n",
       "    }\n",
       "\n",
       "    .dataframe tbody tr th {\n",
       "        vertical-align: top;\n",
       "    }\n",
       "\n",
       "    .dataframe thead th {\n",
       "        text-align: right;\n",
       "    }\n",
       "</style>\n",
       "<table border=\"1\" class=\"dataframe\">\n",
       "  <thead>\n",
       "    <tr style=\"text-align: right;\">\n",
       "      <th></th>\n",
       "      <th>count</th>\n",
       "    </tr>\n",
       "  </thead>\n",
       "  <tbody>\n",
       "    <tr>\n",
       "      <th>count</th>\n",
       "      <td>10</td>\n",
       "    </tr>\n",
       "    <tr>\n",
       "      <th>mean</th>\n",
       "      <td>749</td>\n",
       "    </tr>\n",
       "    <tr>\n",
       "      <th>std</th>\n",
       "      <td>161</td>\n",
       "    </tr>\n",
       "    <tr>\n",
       "      <th>min</th>\n",
       "      <td>505</td>\n",
       "    </tr>\n",
       "    <tr>\n",
       "      <th>25%</th>\n",
       "      <td>624</td>\n",
       "    </tr>\n",
       "    <tr>\n",
       "      <th>50%</th>\n",
       "      <td>756</td>\n",
       "    </tr>\n",
       "    <tr>\n",
       "      <th>75%</th>\n",
       "      <td>873</td>\n",
       "    </tr>\n",
       "    <tr>\n",
       "      <th>max</th>\n",
       "      <td>985</td>\n",
       "    </tr>\n",
       "  </tbody>\n",
       "</table>\n",
       "</div>"
      ],
      "text/plain": [
       "       count\n",
       "count     10\n",
       "mean     749\n",
       "std      161\n",
       "min      505\n",
       "25%      624\n",
       "50%      756\n",
       "75%      873\n",
       "max      985"
      ]
     },
     "execution_count": 57,
     "metadata": {},
     "output_type": "execute_result"
    }
   ],
   "source": [
    "films_per_year.describe()"
   ]
  },
  {
   "cell_type": "markdown",
   "metadata": {},
   "source": [
    "**Величина размаха** \n",
    "985-505 =480\n"
   ]
  },
  {
   "cell_type": "markdown",
   "metadata": {},
   "source": [
    "Так как у нас в распоряжении качественные и количественные переменные, начнем с количественных"
   ]
  },
  {
   "cell_type": "code",
   "execution_count": 58,
   "metadata": {},
   "outputs": [
    {
     "data": {
      "text/html": [
       "<div>\n",
       "<style scoped>\n",
       "    .dataframe tbody tr th:only-of-type {\n",
       "        vertical-align: middle;\n",
       "    }\n",
       "\n",
       "    .dataframe tbody tr th {\n",
       "        vertical-align: top;\n",
       "    }\n",
       "\n",
       "    .dataframe thead th {\n",
       "        text-align: right;\n",
       "    }\n",
       "</style>\n",
       "<table border=\"1\" class=\"dataframe\">\n",
       "  <thead>\n",
       "    <tr style=\"text-align: right;\">\n",
       "      <th></th>\n",
       "      <th>puNumber</th>\n",
       "      <th>refundable_support</th>\n",
       "      <th>nonrefundable_support</th>\n",
       "      <th>budget</th>\n",
       "      <th>ratings</th>\n",
       "      <th>box_office</th>\n",
       "      <th>record_id</th>\n",
       "      <th>year</th>\n",
       "      <th>month</th>\n",
       "      <th>week</th>\n",
       "      <th>day</th>\n",
       "      <th>support_per_buget</th>\n",
       "    </tr>\n",
       "  </thead>\n",
       "  <tbody>\n",
       "    <tr>\n",
       "      <th>count</th>\n",
       "      <td>7486</td>\n",
       "      <td>7486</td>\n",
       "      <td>7486</td>\n",
       "      <td>7486</td>\n",
       "      <td>7486</td>\n",
       "      <td>7486</td>\n",
       "      <td>7486</td>\n",
       "      <td>7486</td>\n",
       "      <td>7486</td>\n",
       "      <td>7486</td>\n",
       "      <td>7486</td>\n",
       "      <td>332</td>\n",
       "    </tr>\n",
       "    <tr>\n",
       "      <th>mean</th>\n",
       "      <td>135178528</td>\n",
       "      <td>526182</td>\n",
       "      <td>2172280</td>\n",
       "      <td>5642568</td>\n",
       "      <td>6</td>\n",
       "      <td>32262854</td>\n",
       "      <td>3742</td>\n",
       "      <td>2015</td>\n",
       "      <td>7</td>\n",
       "      <td>29</td>\n",
       "      <td>16</td>\n",
       "      <td>inf</td>\n",
       "    </tr>\n",
       "    <tr>\n",
       "      <th>std</th>\n",
       "      <td>38382177</td>\n",
       "      <td>5781108</td>\n",
       "      <td>16148935</td>\n",
       "      <td>47528178</td>\n",
       "      <td>2</td>\n",
       "      <td>160600784</td>\n",
       "      <td>2161</td>\n",
       "      <td>3</td>\n",
       "      <td>4</td>\n",
       "      <td>15</td>\n",
       "      <td>9</td>\n",
       "      <td>NaN</td>\n",
       "    </tr>\n",
       "    <tr>\n",
       "      <th>min</th>\n",
       "      <td>-1</td>\n",
       "      <td>0</td>\n",
       "      <td>0</td>\n",
       "      <td>0</td>\n",
       "      <td>-1</td>\n",
       "      <td>0</td>\n",
       "      <td>0</td>\n",
       "      <td>2010</td>\n",
       "      <td>1</td>\n",
       "      <td>1</td>\n",
       "      <td>1</td>\n",
       "      <td>0</td>\n",
       "    </tr>\n",
       "    <tr>\n",
       "      <th>25%</th>\n",
       "      <td>112025043</td>\n",
       "      <td>0</td>\n",
       "      <td>0</td>\n",
       "      <td>0</td>\n",
       "      <td>5</td>\n",
       "      <td>0</td>\n",
       "      <td>1871</td>\n",
       "      <td>2012</td>\n",
       "      <td>4</td>\n",
       "      <td>15</td>\n",
       "      <td>9</td>\n",
       "      <td>0</td>\n",
       "    </tr>\n",
       "    <tr>\n",
       "      <th>50%</th>\n",
       "      <td>121015464</td>\n",
       "      <td>0</td>\n",
       "      <td>0</td>\n",
       "      <td>0</td>\n",
       "      <td>6</td>\n",
       "      <td>0</td>\n",
       "      <td>3742</td>\n",
       "      <td>2015</td>\n",
       "      <td>7</td>\n",
       "      <td>30</td>\n",
       "      <td>17</td>\n",
       "      <td>1</td>\n",
       "    </tr>\n",
       "    <tr>\n",
       "      <th>75%</th>\n",
       "      <td>124003314</td>\n",
       "      <td>0</td>\n",
       "      <td>0</td>\n",
       "      <td>0</td>\n",
       "      <td>7</td>\n",
       "      <td>1080468</td>\n",
       "      <td>5614</td>\n",
       "      <td>2017</td>\n",
       "      <td>10</td>\n",
       "      <td>43</td>\n",
       "      <td>24</td>\n",
       "      <td>1</td>\n",
       "    </tr>\n",
       "    <tr>\n",
       "      <th>max</th>\n",
       "      <td>231001111</td>\n",
       "      <td>180000000</td>\n",
       "      <td>400000000</td>\n",
       "      <td>2305074303</td>\n",
       "      <td>9</td>\n",
       "      <td>3073568690</td>\n",
       "      <td>7485</td>\n",
       "      <td>2019</td>\n",
       "      <td>12</td>\n",
       "      <td>53</td>\n",
       "      <td>31</td>\n",
       "      <td>inf</td>\n",
       "    </tr>\n",
       "  </tbody>\n",
       "</table>\n",
       "</div>"
      ],
      "text/plain": [
       "       puNumber  refundable_support  nonrefundable_support     budget  \\\n",
       "count      7486                7486                   7486       7486   \n",
       "mean  135178528              526182                2172280    5642568   \n",
       "std    38382177             5781108               16148935   47528178   \n",
       "min          -1                   0                      0          0   \n",
       "25%   112025043                   0                      0          0   \n",
       "50%   121015464                   0                      0          0   \n",
       "75%   124003314                   0                      0          0   \n",
       "max   231001111           180000000              400000000 2305074303   \n",
       "\n",
       "       ratings  box_office  record_id  year  month  week  day  \\\n",
       "count     7486        7486       7486  7486   7486  7486 7486   \n",
       "mean         6    32262854       3742  2015      7    29   16   \n",
       "std          2   160600784       2161     3      4    15    9   \n",
       "min         -1           0          0  2010      1     1    1   \n",
       "25%          5           0       1871  2012      4    15    9   \n",
       "50%          6           0       3742  2015      7    30   17   \n",
       "75%          7     1080468       5614  2017     10    43   24   \n",
       "max          9  3073568690       7485  2019     12    53   31   \n",
       "\n",
       "       support_per_buget  \n",
       "count                332  \n",
       "mean                 inf  \n",
       "std                  NaN  \n",
       "min                    0  \n",
       "25%                    0  \n",
       "50%                    1  \n",
       "75%                    1  \n",
       "max                  inf  "
      ]
     },
     "execution_count": 58,
     "metadata": {},
     "output_type": "execute_result"
    }
   ],
   "source": [
    "df.describe()\n"
   ]
  },
  {
   "cell_type": "markdown",
   "metadata": {},
   "source": [
    "Рассматриваем количественные критерии по отдельности"
   ]
  },
  {
   "cell_type": "markdown",
   "metadata": {},
   "source": [
    "Начнем с `refundable_support`"
   ]
  },
  {
   "cell_type": "code",
   "execution_count": 59,
   "metadata": {},
   "outputs": [
    {
     "data": {
      "text/plain": [
       "count        7486\n",
       "mean       526182\n",
       "std       5781108\n",
       "min             0\n",
       "25%             0\n",
       "50%             0\n",
       "75%             0\n",
       "max     180000000\n",
       "Name: refundable_support, dtype: float64"
      ]
     },
     "metadata": {},
     "output_type": "display_data"
    },
    {
     "data": {
      "text/plain": [
       "'refundable_support, boxplot без фильтрации нулевых значений'"
      ]
     },
     "metadata": {},
     "output_type": "display_data"
    },
    {
     "data": {
      "image/png": "[encoded data removed]",
      "text/plain": [
       "<Figure size 432x288 with 1 Axes>"
      ]
     },
     "metadata": {
      "needs_background": "light"
     },
     "output_type": "display_data"
    }
   ],
   "source": [
    "#рассматриваем критерий 'refundable_support'\n",
    "display(df['refundable_support'].describe())\n",
    "display('refundable_support, boxplot без фильтрации нулевых значений')\n",
    "sns_plot1 = sns.boxplot(x=df['refundable_support'])\n",
    "plt.show()"
   ]
  },
  {
   "cell_type": "markdown",
   "metadata": {},
   "source": [
    "большое количество выбросов в массиве, исключаем значения равные 0 для критерия refundable support"
   ]
  },
  {
   "cell_type": "code",
   "execution_count": 60,
   "metadata": {},
   "outputs": [
    {
     "data": {
      "text/plain": [
       "count         111\n",
       "mean     35486486\n",
       "std      31972875\n",
       "min       3500000\n",
       "25%      15000000\n",
       "50%      25000000\n",
       "75%      50000000\n",
       "max     180000000\n",
       "Name: refundable_support, dtype: float64"
      ]
     },
     "metadata": {},
     "output_type": "display_data"
    },
    {
     "data": {
      "text/plain": [
       "'refundable_support после фильтрации нулевых значений, виден верхний предел, исключены нулевые значения'"
      ]
     },
     "metadata": {},
     "output_type": "display_data"
    },
    {
     "data": {
      "image/png": "[encoded data removed]",
      "text/plain": [
       "<Figure size 432x288 with 1 Axes>"
      ]
     },
     "metadata": {
      "needs_background": "light"
     },
     "output_type": "display_data"
    }
   ],
   "source": [
    "display(((df['refundable_support'][df['refundable_support']!=0])).describe())\n",
    "display('refundable_support после фильтрации нулевых значений, виден верхний предел, исключены нулевые значения')\n",
    "sns_plot1 = sns.boxplot(x=(df['refundable_support'][df['refundable_support']!=0]))\n",
    "plt.show()"
   ]
  },
  {
   "cell_type": "code",
   "execution_count": 61,
   "metadata": {},
   "outputs": [
    {
     "data": {
      "text/plain": [
       "'нижнее ограничение'"
      ]
     },
     "metadata": {},
     "output_type": "display_data"
    },
    {
     "data": {
      "text/plain": [
       "0"
      ]
     },
     "metadata": {},
     "output_type": "display_data"
    },
    {
     "data": {
      "text/plain": [
       "'верхнее ограничение 75%+ 1.5 размаха 75%-25%'"
      ]
     },
     "metadata": {},
     "output_type": "display_data"
    },
    {
     "data": {
      "text/plain": [
       "102500000.0"
      ]
     },
     "metadata": {},
     "output_type": "display_data"
    },
    {
     "data": {
      "text/plain": [
       "'refundable_support после фильтрации нулевых значений, нормальные значения в пределах'"
      ]
     },
     "metadata": {},
     "output_type": "display_data"
    },
    {
     "data": {
      "image/png": "[encoded data removed]",
      "text/plain": [
       "<Figure size 432x288 with 1 Axes>"
      ]
     },
     "metadata": {
      "needs_background": "light"
     },
     "output_type": "display_data"
    }
   ],
   "source": [
    "display('нижнее ограничение',0)\n",
    "display('верхнее ограничение 75%+ 1.5 размаха 75%-25%',50000000+(50000000-15000000)*1.5)\n",
    "sns_plot1 = sns.boxplot(x=(df['refundable_support'][df['refundable_support']!=0]))\n",
    "sns_plot1.set(xlim=(0,102500000)) #- верхнее ограничение 1.5 размаха 25%-75%\n",
    "display('refundable_support после фильтрации нулевых значений, нормальные значения в пределах')\n",
    "plt.show()\n"
   ]
  },
  {
   "cell_type": "markdown",
   "metadata": {},
   "source": [
    "Нормальные значения по полю refundable_support в диапазоне 0 - 102500000 . \n",
    "\n",
    "Выбросы выше 102500000 \n"
   ]
  },
  {
   "cell_type": "markdown",
   "metadata": {},
   "source": [
    "\n",
    "\n",
    "\n",
    "\n",
    "Рассмотрим поле 'nonrefundable_support'"
   ]
  },
  {
   "cell_type": "code",
   "execution_count": 62,
   "metadata": {},
   "outputs": [
    {
     "data": {
      "text/plain": [
       "count        7486\n",
       "mean      2172280\n",
       "std      16148935\n",
       "min             0\n",
       "25%             0\n",
       "50%             0\n",
       "75%             0\n",
       "max     400000000\n",
       "Name: nonrefundable_support, dtype: float64"
      ]
     },
     "metadata": {},
     "output_type": "display_data"
    },
    {
     "name": "stdout",
     "output_type": "stream",
     "text": [
      "         \n"
     ]
    },
    {
     "data": {
      "text/plain": [
       "'nonrefundable_support, boxplot без фильтрации нулевых значений'"
      ]
     },
     "metadata": {},
     "output_type": "display_data"
    },
    {
     "data": {
      "image/png": "[encoded data removed]",
      "text/plain": [
       "<Figure size 432x288 with 1 Axes>"
      ]
     },
     "metadata": {
      "needs_background": "light"
     },
     "output_type": "display_data"
    }
   ],
   "source": [
    "display(df['nonrefundable_support'].describe())\n",
    "print('         ')\n",
    "display('nonrefundable_support, boxplot без фильтрации нулевых значений')\n",
    "sns_plot2 = sns.boxplot(x=df['nonrefundable_support'])\n",
    "plt.show()"
   ]
  },
  {
   "cell_type": "code",
   "execution_count": 63,
   "metadata": {},
   "outputs": [
    {
     "data": {
      "text/plain": [
       "count         323\n",
       "mean     50345784\n",
       "std      60243206\n",
       "min       3000000\n",
       "25%      25000000\n",
       "50%      30000000\n",
       "75%      45000000\n",
       "max     400000000\n",
       "Name: nonrefundable_support, dtype: float64"
      ]
     },
     "metadata": {},
     "output_type": "display_data"
    },
    {
     "data": {
      "text/plain": [
       "'nonrefundable_support после фильтрации нулевых значений, виден верхний предел, исключены нулевые значения'"
      ]
     },
     "metadata": {},
     "output_type": "display_data"
    },
    {
     "data": {
      "image/png": "[encoded data removed]",
      "text/plain": [
       "<Figure size 432x288 with 1 Axes>"
      ]
     },
     "metadata": {
      "needs_background": "light"
     },
     "output_type": "display_data"
    }
   ],
   "source": [
    "display(((df['nonrefundable_support'][df['nonrefundable_support']!=0])).describe())\n",
    "display('nonrefundable_support после фильтрации нулевых значений, виден верхний предел, исключены нулевые значения')\n",
    "sns_plot1 = sns.boxplot(x=(df['nonrefundable_support'][df['nonrefundable_support']!=0]))\n",
    "plt.show()"
   ]
  },
  {
   "cell_type": "code",
   "execution_count": 64,
   "metadata": {},
   "outputs": [
    {
     "data": {
      "text/plain": [
       "'нижнее ограничение'"
      ]
     },
     "metadata": {},
     "output_type": "display_data"
    },
    {
     "data": {
      "text/plain": [
       "0"
      ]
     },
     "metadata": {},
     "output_type": "display_data"
    },
    {
     "data": {
      "text/plain": [
       "'верхнее ограничение 75%+ 1.5 размаха 75%-25%'"
      ]
     },
     "metadata": {},
     "output_type": "display_data"
    },
    {
     "data": {
      "text/plain": [
       "75000000.0"
      ]
     },
     "metadata": {},
     "output_type": "display_data"
    },
    {
     "data": {
      "text/plain": [
       "'nonrefundable_support после фильтрации нулевых значений, нормальные значения в пределах'"
      ]
     },
     "metadata": {},
     "output_type": "display_data"
    },
    {
     "data": {
      "image/png": "[encoded data removed]",
      "text/plain": [
       "<Figure size 432x288 with 1 Axes>"
      ]
     },
     "metadata": {
      "needs_background": "light"
     },
     "output_type": "display_data"
    }
   ],
   "source": [
    "display('нижнее ограничение',0)\n",
    "display('верхнее ограничение 75%+ 1.5 размаха 75%-25%',45000000+(45000000-25000000)*1.5)\n",
    "sns_plot1 = sns.boxplot(x=(df['nonrefundable_support'][df['nonrefundable_support']!=0]))\n",
    "sns_plot1.set(xlim=(0,75000000)) #- верхнее ограничение 1.5 размаха 25%-75%\n",
    "display('nonrefundable_support после фильтрации нулевых значений, нормальные значения в пределах')\n",
    "plt.show()"
   ]
  },
  {
   "cell_type": "markdown",
   "metadata": {},
   "source": [
    "Нормальные значения по полю nonrefundable_support в диапазоне 0 - 75000000 . \n",
    "\n",
    "Выбросы выше 75000000 \n"
   ]
  },
  {
   "cell_type": "markdown",
   "metadata": {},
   "source": [
    "Рассмотрим поле 'budget'"
   ]
  },
  {
   "cell_type": "code",
   "execution_count": 65,
   "metadata": {},
   "outputs": [
    {
     "data": {
      "text/plain": [
       "count         7486\n",
       "mean       5642568\n",
       "std       47528178\n",
       "min              0\n",
       "25%              0\n",
       "50%              0\n",
       "75%              0\n",
       "max     2305074303\n",
       "Name: budget, dtype: float64"
      ]
     },
     "metadata": {},
     "output_type": "display_data"
    },
    {
     "name": "stdout",
     "output_type": "stream",
     "text": [
      "         \n"
     ]
    },
    {
     "data": {
      "text/plain": [
       "'budget, boxplot без фильтрации нулевых значений'"
      ]
     },
     "metadata": {},
     "output_type": "display_data"
    },
    {
     "data": {
      "image/png": "[encoded data removed]",
      "text/plain": [
       "<Figure size 432x288 with 1 Axes>"
      ]
     },
     "metadata": {
      "needs_background": "light"
     },
     "output_type": "display_data"
    }
   ],
   "source": [
    "display(df['budget'].describe())\n",
    "print('         ')\n",
    "display('budget, boxplot без фильтрации нулевых значений')\n",
    "sns_plot2 = sns.boxplot(x=df['budget'])\n",
    "plt.show()"
   ]
  },
  {
   "cell_type": "code",
   "execution_count": 66,
   "metadata": {},
   "outputs": [
    {
     "data": {
      "text/plain": [
       "count          315\n",
       "mean     134096082\n",
       "std      191226040\n",
       "min       14462464\n",
       "25%       46153866\n",
       "50%       73379554\n",
       "75%      150004286\n",
       "max     2305074303\n",
       "Name: budget, dtype: float64"
      ]
     },
     "metadata": {},
     "output_type": "display_data"
    },
    {
     "data": {
      "text/plain": [
       "'budget после фильтрации нулевых значений, виден верхний предел, исключены нулевые значения'"
      ]
     },
     "metadata": {},
     "output_type": "display_data"
    },
    {
     "data": {
      "image/png": "[encoded data removed]",
      "text/plain": [
       "<Figure size 432x288 with 1 Axes>"
      ]
     },
     "metadata": {
      "needs_background": "light"
     },
     "output_type": "display_data"
    }
   ],
   "source": [
    "display(((df['budget'][df['budget']!=0])).describe())\n",
    "display('budget после фильтрации нулевых значений, виден верхний предел, исключены нулевые значения')\n",
    "sns_plot1 = sns.boxplot(x=(df['budget'][df['budget']!=0]))\n",
    "plt.show()"
   ]
  },
  {
   "cell_type": "code",
   "execution_count": 67,
   "metadata": {},
   "outputs": [
    {
     "data": {
      "text/plain": [
       "'нижнее ограничение'"
      ]
     },
     "metadata": {},
     "output_type": "display_data"
    },
    {
     "data": {
      "text/plain": [
       "0"
      ]
     },
     "metadata": {},
     "output_type": "display_data"
    },
    {
     "data": {
      "text/plain": [
       "'верхнее ограничение 75%+ 1.5 размаха 75%-25%'"
      ]
     },
     "metadata": {},
     "output_type": "display_data"
    },
    {
     "data": {
      "text/plain": [
       "305779916.0"
      ]
     },
     "metadata": {},
     "output_type": "display_data"
    },
    {
     "data": {
      "text/plain": [
       "'budget после фильтрации нулевых значений, нормальные значения в пределах'"
      ]
     },
     "metadata": {},
     "output_type": "display_data"
    },
    {
     "data": {
      "image/png": "[encoded data removed]",
      "text/plain": [
       "<Figure size 432x288 with 1 Axes>"
      ]
     },
     "metadata": {
      "needs_background": "light"
     },
     "output_type": "display_data"
    }
   ],
   "source": [
    "display('нижнее ограничение',0)\n",
    "display('верхнее ограничение 75%+ 1.5 размаха 75%-25%',150004286+(150004286-46153866)*1.5)\n",
    "sns_plot1 = sns.boxplot(x=(df['budget'][df['budget']!=0]))\n",
    "sns_plot1.set(xlim=(0,305779916)) #- верхнее ограничение 1.5 размаха 25%-75%\n",
    "display('budget после фильтрации нулевых значений, нормальные значения в пределах')\n",
    "plt.show()"
   ]
  },
  {
   "cell_type": "markdown",
   "metadata": {},
   "source": [
    "Нормальные значения по полю budget в диапазоне 0 - 305779916 . \n",
    "\n",
    "Выбросы выше 305779916"
   ]
  },
  {
   "cell_type": "markdown",
   "metadata": {},
   "source": [
    "Рассмотрим поле 'ratings'"
   ]
  },
  {
   "cell_type": "code",
   "execution_count": 68,
   "metadata": {},
   "outputs": [
    {
     "data": {
      "text/plain": [
       "count   7486\n",
       "mean       6\n",
       "std        2\n",
       "min       -1\n",
       "25%        5\n",
       "50%        6\n",
       "75%        7\n",
       "max        9\n",
       "Name: ratings, dtype: float64"
      ]
     },
     "metadata": {},
     "output_type": "display_data"
    },
    {
     "name": "stdout",
     "output_type": "stream",
     "text": [
      "         \n"
     ]
    },
    {
     "data": {
      "text/plain": [
       "'ratings, boxplot без фильтрации нулевых значений, отрицательных значений'"
      ]
     },
     "metadata": {},
     "output_type": "display_data"
    },
    {
     "data": {
      "image/png": "[encoded data removed]",
      "text/plain": [
       "<Figure size 432x288 with 1 Axes>"
      ]
     },
     "metadata": {
      "needs_background": "light"
     },
     "output_type": "display_data"
    }
   ],
   "source": [
    "display(df['ratings'].describe())\n",
    "print('         ')\n",
    "display('ratings, boxplot без фильтрации нулевых значений, отрицательных значений')\n",
    "sns_plot2 = sns.boxplot(x=df['ratings'])\n",
    "plt.show()"
   ]
  },
  {
   "cell_type": "code",
   "execution_count": 69,
   "metadata": {},
   "outputs": [
    {
     "data": {
      "text/plain": [
       "count   6490\n",
       "mean       6\n",
       "std        1\n",
       "min        1\n",
       "25%        6\n",
       "50%        7\n",
       "75%        7\n",
       "max        9\n",
       "Name: ratings, dtype: float64"
      ]
     },
     "metadata": {},
     "output_type": "display_data"
    },
    {
     "data": {
      "text/plain": [
       "'ratings после фильтрации нулевых значений, виден верхний предел, исключены нулевые значения, отрицательные значения'"
      ]
     },
     "metadata": {},
     "output_type": "display_data"
    },
    {
     "data": {
      "image/png": "[encoded data removed]",
      "text/plain": [
       "<Figure size 432x288 with 1 Axes>"
      ]
     },
     "metadata": {
      "needs_background": "light"
     },
     "output_type": "display_data"
    }
   ],
   "source": [
    "display(((df['ratings'][df['ratings']>0])).describe())\n",
    "display('ratings после фильтрации нулевых значений, виден верхний предел, исключены нулевые значения, отрицательные значения')\n",
    "sns_plot1 = sns.boxplot(x=(df['ratings'][df['ratings']>0]))\n",
    "plt.show()"
   ]
  },
  {
   "cell_type": "code",
   "execution_count": 70,
   "metadata": {},
   "outputs": [
    {
     "data": {
      "text/plain": [
       "'нижнее ограничение'"
      ]
     },
     "metadata": {},
     "output_type": "display_data"
    },
    {
     "data": {
      "text/plain": [
       "4.5"
      ]
     },
     "metadata": {},
     "output_type": "display_data"
    },
    {
     "data": {
      "text/plain": [
       "'верхнее ограничение 75%+ 1.5 размаха 75%-25%'"
      ]
     },
     "metadata": {},
     "output_type": "display_data"
    },
    {
     "data": {
      "text/plain": [
       "8.5"
      ]
     },
     "metadata": {},
     "output_type": "display_data"
    },
    {
     "data": {
      "text/plain": [
       "'ratings после фильтрации нулевых значений, нормальные значения в пределах'"
      ]
     },
     "metadata": {},
     "output_type": "display_data"
    },
    {
     "data": {
      "image/png": "[encoded data removed]",
      "text/plain": [
       "<Figure size 432x288 with 1 Axes>"
      ]
     },
     "metadata": {
      "needs_background": "light"
     },
     "output_type": "display_data"
    }
   ],
   "source": [
    "display('нижнее ограничение',6-(7-6)*1.5)\n",
    "display('верхнее ограничение 75%+ 1.5 размаха 75%-25%',7+(7-6)*1.5)\n",
    "sns_plot1 = sns.boxplot(x=(df['ratings'][df['ratings']!=0]))\n",
    "sns_plot1.set(xlim=(4.5,8.5)) #- верхнее ограничение 1.5 размаха 25%-75%\n",
    "display('ratings после фильтрации нулевых значений, нормальные значения в пределах')\n",
    "plt.show()"
   ]
  },
  {
   "cell_type": "markdown",
   "metadata": {},
   "source": [
    "Как я писал выше рейтинг на кинопоиске так себе критерий, например для этого диапазона мы взяли нижнее ограничение в 4.5,\n",
    "но нам ничего не мешает использовать 0. Типичный пример Фильм \"Каха\" или \"Зоя два: Булочка и Трамвайчик ищут Дудей\"\n",
    "\n",
    "\n",
    "Нормальные значения по полю raitings в диапазоне 4.5 - 8.5  Выбросы 0-4.5, 8.5+"
   ]
  },
  {
   "cell_type": "markdown",
   "metadata": {},
   "source": [
    "Рассмотрим поле box_office"
   ]
  },
  {
   "cell_type": "code",
   "execution_count": 71,
   "metadata": {},
   "outputs": [
    {
     "data": {
      "text/plain": [
       "count         7486\n",
       "mean      32262854\n",
       "std      160600784\n",
       "min              0\n",
       "25%              0\n",
       "50%              0\n",
       "75%        1080468\n",
       "max     3073568690\n",
       "Name: box_office, dtype: float64"
      ]
     },
     "metadata": {},
     "output_type": "display_data"
    },
    {
     "name": "stdout",
     "output_type": "stream",
     "text": [
      "         \n"
     ]
    },
    {
     "data": {
      "text/plain": [
       "'box_office, boxplot без фильтрации нулевых значений'"
      ]
     },
     "metadata": {},
     "output_type": "display_data"
    },
    {
     "data": {
      "image/png": "[encoded data removed]",
      "text/plain": [
       "<Figure size 432x288 with 1 Axes>"
      ]
     },
     "metadata": {
      "needs_background": "light"
     },
     "output_type": "display_data"
    }
   ],
   "source": [
    "display(df['box_office'].describe())\n",
    "print('         ')\n",
    "display('box_office, boxplot без фильтрации нулевых значений')\n",
    "sns_plot2 = sns.boxplot(x=df['box_office'])\n",
    "plt.show()"
   ]
  },
  {
   "cell_type": "code",
   "execution_count": 72,
   "metadata": {},
   "outputs": [
    {
     "data": {
      "text/plain": [
       "count         3134\n",
       "mean      77064366\n",
       "std      241178384\n",
       "min             40\n",
       "25%         101029\n",
       "50%        2409099\n",
       "75%       24569795\n",
       "max     3073568690\n",
       "Name: box_office, dtype: float64"
      ]
     },
     "metadata": {},
     "output_type": "display_data"
    },
    {
     "data": {
      "text/plain": [
       "'budget после фильтрации нулевых значений, виден верхний предел, исключены нулевые значения'"
      ]
     },
     "metadata": {},
     "output_type": "display_data"
    },
    {
     "data": {
      "image/png": "[encoded data removed]",
      "text/plain": [
       "<Figure size 432x288 with 1 Axes>"
      ]
     },
     "metadata": {
      "needs_background": "light"
     },
     "output_type": "display_data"
    }
   ],
   "source": [
    "display(((df['box_office'][df['box_office']!=0])).describe())\n",
    "display('budget после фильтрации нулевых значений, виден верхний предел, исключены нулевые значения')\n",
    "sns_plot1 = sns.boxplot(x=(df['box_office'][df['box_office']!=0]))\n",
    "plt.show()"
   ]
  },
  {
   "cell_type": "code",
   "execution_count": 73,
   "metadata": {},
   "outputs": [
    {
     "data": {
      "text/plain": [
       "'нижнее ограничение'"
      ]
     },
     "metadata": {},
     "output_type": "display_data"
    },
    {
     "data": {
      "text/plain": [
       "0"
      ]
     },
     "metadata": {},
     "output_type": "display_data"
    },
    {
     "data": {
      "text/plain": [
       "'верхнее ограничение 75%+ 1.5 размаха 75%-25%'"
      ]
     },
     "metadata": {},
     "output_type": "display_data"
    },
    {
     "data": {
      "text/plain": [
       "61272944.0"
      ]
     },
     "metadata": {},
     "output_type": "display_data"
    },
    {
     "data": {
      "text/plain": [
       "'box_office после фильтрации нулевых значений, нормальные значения в пределах'"
      ]
     },
     "metadata": {},
     "output_type": "display_data"
    },
    {
     "data": {
      "image/png": "[encoded data removed]",
      "text/plain": [
       "<Figure size 432x288 with 1 Axes>"
      ]
     },
     "metadata": {
      "needs_background": "light"
     },
     "output_type": "display_data"
    }
   ],
   "source": [
    "display('нижнее ограничение',0)\n",
    "display('верхнее ограничение 75%+ 1.5 размаха 75%-25%',24569795+(24569795-101029)*1.5)\n",
    "sns_plot1 = sns.boxplot(x=(df['box_office'][df['box_office']!=0]))\n",
    "sns_plot1.set(xlim=(0,61272944)) #- верхнее ограничение 1.5 размаха 25%-75%\n",
    "display('box_office после фильтрации нулевых значений, нормальные значения в пределах')\n",
    "plt.show()"
   ]
  },
  {
   "cell_type": "markdown",
   "metadata": {},
   "source": [
    "По полю box_office верхнее ограничение 61272944. Выбросы >61272944"
   ]
  },
  {
   "cell_type": "code",
   "execution_count": 74,
   "metadata": {},
   "outputs": [
    {
     "data": {
      "text/html": [
       "<div>\n",
       "<style scoped>\n",
       "    .dataframe tbody tr th:only-of-type {\n",
       "        vertical-align: middle;\n",
       "    }\n",
       "\n",
       "    .dataframe tbody tr th {\n",
       "        vertical-align: top;\n",
       "    }\n",
       "\n",
       "    .dataframe thead th {\n",
       "        text-align: right;\n",
       "    }\n",
       "</style>\n",
       "<table border=\"1\" class=\"dataframe\">\n",
       "  <thead>\n",
       "    <tr style=\"text-align: right;\">\n",
       "      <th></th>\n",
       "      <th>puNumber</th>\n",
       "    </tr>\n",
       "  </thead>\n",
       "  <tbody>\n",
       "    <tr>\n",
       "      <th>221054410</th>\n",
       "      <td>2</td>\n",
       "    </tr>\n",
       "    <tr>\n",
       "      <th>221154310</th>\n",
       "      <td>2</td>\n",
       "    </tr>\n",
       "  </tbody>\n",
       "</table>\n",
       "</div>"
      ],
      "text/plain": [
       "           puNumber\n",
       "221054410         2\n",
       "221154310         2"
      ]
     },
     "metadata": {},
     "output_type": "display_data"
    }
   ],
   "source": [
    "pu=pd.DataFrame(df['puNumber'].value_counts())\n",
    "display(pu[pu['puNumber']>1])"
   ]
  },
  {
   "cell_type": "code",
   "execution_count": 75,
   "metadata": {},
   "outputs": [
    {
     "data": {
      "text/plain": [
       "121011417    1\n",
       "221030815    1\n",
       "111013816    1\n",
       "111007013    1\n",
       "221074614    1\n",
       "            ..\n",
       "126007819    1\n",
       "121037019    1\n",
       "111022519    1\n",
       "221154310    2\n",
       "221054410    2\n",
       "Name: puNumber, Length: 7484, dtype: int64"
      ]
     },
     "metadata": {},
     "output_type": "display_data"
    }
   ],
   "source": [
    "display(df['puNumber'].value_counts().sort_values())"
   ]
  },
  {
   "cell_type": "markdown",
   "metadata": {},
   "source": [
    "Нам сказочно повезло, при наличи связи 1 ко многим, мы имеем только два прокатных удостоверения, которые выходили в прокат дважды ++ \n",
    "Можно было бы рассмотреть зависимость puNumber от даты, чтобы понять способ образования номера прокатного удостоверения\n",
    "\n"
   ]
  },
  {
   "cell_type": "code",
   "execution_count": 76,
   "metadata": {},
   "outputs": [],
   "source": [
    "pivot_df=df[df['box_office']!=0].groupby('year').agg({'box_office':'describe'})\n",
    "pivot_df.columns=['count','mean','std','min','25%','50%','75%','max']\n"
   ]
  },
  {
   "cell_type": "code",
   "execution_count": 77,
   "metadata": {},
   "outputs": [
    {
     "data": {
      "text/html": [
       "<div>\n",
       "<style scoped>\n",
       "    .dataframe tbody tr th:only-of-type {\n",
       "        vertical-align: middle;\n",
       "    }\n",
       "\n",
       "    .dataframe tbody tr th {\n",
       "        vertical-align: top;\n",
       "    }\n",
       "\n",
       "    .dataframe thead th {\n",
       "        text-align: right;\n",
       "    }\n",
       "</style>\n",
       "<table border=\"1\" class=\"dataframe\">\n",
       "  <thead>\n",
       "    <tr style=\"text-align: right;\">\n",
       "      <th></th>\n",
       "      <th>count</th>\n",
       "      <th>mean</th>\n",
       "      <th>std</th>\n",
       "      <th>min</th>\n",
       "      <th>25%</th>\n",
       "      <th>50%</th>\n",
       "      <th>75%</th>\n",
       "      <th>max</th>\n",
       "    </tr>\n",
       "    <tr>\n",
       "      <th>year</th>\n",
       "      <th></th>\n",
       "      <th></th>\n",
       "      <th></th>\n",
       "      <th></th>\n",
       "      <th></th>\n",
       "      <th></th>\n",
       "      <th></th>\n",
       "      <th></th>\n",
       "    </tr>\n",
       "  </thead>\n",
       "  <tbody>\n",
       "    <tr>\n",
       "      <th>2019</th>\n",
       "      <td>530</td>\n",
       "      <td>91369261</td>\n",
       "      <td>290931159</td>\n",
       "      <td>4398</td>\n",
       "      <td>1386961</td>\n",
       "      <td>4627798</td>\n",
       "      <td>38362496</td>\n",
       "      <td>3073568690</td>\n",
       "    </tr>\n",
       "    <tr>\n",
       "      <th>2016</th>\n",
       "      <td>525</td>\n",
       "      <td>91173904</td>\n",
       "      <td>251252221</td>\n",
       "      <td>200</td>\n",
       "      <td>596373</td>\n",
       "      <td>3915041</td>\n",
       "      <td>38958757</td>\n",
       "      <td>2048126108</td>\n",
       "    </tr>\n",
       "    <tr>\n",
       "      <th>2018</th>\n",
       "      <td>475</td>\n",
       "      <td>104565059</td>\n",
       "      <td>272079012</td>\n",
       "      <td>41225</td>\n",
       "      <td>2388580</td>\n",
       "      <td>8891102</td>\n",
       "      <td>60015758</td>\n",
       "      <td>2271754004</td>\n",
       "    </tr>\n",
       "    <tr>\n",
       "      <th>2015</th>\n",
       "      <td>462</td>\n",
       "      <td>85492132</td>\n",
       "      <td>220771366</td>\n",
       "      <td>100</td>\n",
       "      <td>784146</td>\n",
       "      <td>5003450</td>\n",
       "      <td>43500347</td>\n",
       "      <td>1658861425</td>\n",
       "    </tr>\n",
       "    <tr>\n",
       "      <th>2017</th>\n",
       "      <td>357</td>\n",
       "      <td>136032793</td>\n",
       "      <td>323251441</td>\n",
       "      <td>7900</td>\n",
       "      <td>1951257</td>\n",
       "      <td>9968340</td>\n",
       "      <td>71173828</td>\n",
       "      <td>2779686144</td>\n",
       "    </tr>\n",
       "    <tr>\n",
       "      <th>2014</th>\n",
       "      <td>273</td>\n",
       "      <td>27270886</td>\n",
       "      <td>122324727</td>\n",
       "      <td>50</td>\n",
       "      <td>1825</td>\n",
       "      <td>20400</td>\n",
       "      <td>621050</td>\n",
       "      <td>1016410635</td>\n",
       "    </tr>\n",
       "    <tr>\n",
       "      <th>2013</th>\n",
       "      <td>179</td>\n",
       "      <td>166479</td>\n",
       "      <td>1525590</td>\n",
       "      <td>40</td>\n",
       "      <td>950</td>\n",
       "      <td>3580</td>\n",
       "      <td>15755</td>\n",
       "      <td>19957031</td>\n",
       "    </tr>\n",
       "    <tr>\n",
       "      <th>2012</th>\n",
       "      <td>123</td>\n",
       "      <td>56548</td>\n",
       "      <td>233667</td>\n",
       "      <td>80</td>\n",
       "      <td>930</td>\n",
       "      <td>6220</td>\n",
       "      <td>22702</td>\n",
       "      <td>2311220</td>\n",
       "    </tr>\n",
       "    <tr>\n",
       "      <th>2011</th>\n",
       "      <td>109</td>\n",
       "      <td>129383</td>\n",
       "      <td>1114447</td>\n",
       "      <td>125</td>\n",
       "      <td>765</td>\n",
       "      <td>3000</td>\n",
       "      <td>9680</td>\n",
       "      <td>11618085</td>\n",
       "    </tr>\n",
       "    <tr>\n",
       "      <th>2010</th>\n",
       "      <td>101</td>\n",
       "      <td>24046</td>\n",
       "      <td>146139</td>\n",
       "      <td>75</td>\n",
       "      <td>420</td>\n",
       "      <td>1710</td>\n",
       "      <td>5830</td>\n",
       "      <td>1446400</td>\n",
       "    </tr>\n",
       "  </tbody>\n",
       "</table>\n",
       "</div>"
      ],
      "text/plain": [
       "      count      mean       std   min     25%     50%      75%        max\n",
       "year                                                                     \n",
       "2019    530  91369261 290931159  4398 1386961 4627798 38362496 3073568690\n",
       "2016    525  91173904 251252221   200  596373 3915041 38958757 2048126108\n",
       "2018    475 104565059 272079012 41225 2388580 8891102 60015758 2271754004\n",
       "2015    462  85492132 220771366   100  784146 5003450 43500347 1658861425\n",
       "2017    357 136032793 323251441  7900 1951257 9968340 71173828 2779686144\n",
       "2014    273  27270886 122324727    50    1825   20400   621050 1016410635\n",
       "2013    179    166479   1525590    40     950    3580    15755   19957031\n",
       "2012    123     56548    233667    80     930    6220    22702    2311220\n",
       "2011    109    129383   1114447   125     765    3000     9680   11618085\n",
       "2010    101     24046    146139    75     420    1710     5830    1446400"
      ]
     },
     "metadata": {},
     "output_type": "display_data"
    }
   ],
   "source": [
    "display(pivot_df.sort_values(by='count',ascending=False))"
   ]
  },
  {
   "cell_type": "code",
   "execution_count": 78,
   "metadata": {},
   "outputs": [],
   "source": [
    "budget=pivot_df\n",
    "budget=budget.merge(films_per_year,on=films_per_year.index, how='outer')\n",
    "\n",
    "budget=budget[['key_0','count_x','count_y']]\n",
    "budget.columns=['year','films_with_box_count','films_total_count']\n"
   ]
  },
  {
   "cell_type": "code",
   "execution_count": 79,
   "metadata": {},
   "outputs": [],
   "source": [
    "budget['films_with_box/films_total']=budget['films_with_box_count']/budget['films_total_count']"
   ]
  },
  {
   "cell_type": "code",
   "execution_count": 80,
   "metadata": {},
   "outputs": [
    {
     "data": {
      "text/html": [
       "<div>\n",
       "<style scoped>\n",
       "    .dataframe tbody tr th:only-of-type {\n",
       "        vertical-align: middle;\n",
       "    }\n",
       "\n",
       "    .dataframe tbody tr th {\n",
       "        vertical-align: top;\n",
       "    }\n",
       "\n",
       "    .dataframe thead th {\n",
       "        text-align: right;\n",
       "    }\n",
       "</style>\n",
       "<table border=\"1\" class=\"dataframe\">\n",
       "  <thead>\n",
       "    <tr style=\"text-align: right;\">\n",
       "      <th></th>\n",
       "      <th>year</th>\n",
       "      <th>films_with_box/films_total</th>\n",
       "    </tr>\n",
       "  </thead>\n",
       "  <tbody>\n",
       "    <tr>\n",
       "      <th>0</th>\n",
       "      <td>2010</td>\n",
       "      <td>0</td>\n",
       "    </tr>\n",
       "    <tr>\n",
       "      <th>1</th>\n",
       "      <td>2011</td>\n",
       "      <td>0</td>\n",
       "    </tr>\n",
       "    <tr>\n",
       "      <th>2</th>\n",
       "      <td>2012</td>\n",
       "      <td>0</td>\n",
       "    </tr>\n",
       "    <tr>\n",
       "      <th>3</th>\n",
       "      <td>2013</td>\n",
       "      <td>0</td>\n",
       "    </tr>\n",
       "    <tr>\n",
       "      <th>4</th>\n",
       "      <td>2014</td>\n",
       "      <td>0</td>\n",
       "    </tr>\n",
       "    <tr>\n",
       "      <th>5</th>\n",
       "      <td>2015</td>\n",
       "      <td>1</td>\n",
       "    </tr>\n",
       "    <tr>\n",
       "      <th>6</th>\n",
       "      <td>2016</td>\n",
       "      <td>1</td>\n",
       "    </tr>\n",
       "    <tr>\n",
       "      <th>7</th>\n",
       "      <td>2017</td>\n",
       "      <td>1</td>\n",
       "    </tr>\n",
       "    <tr>\n",
       "      <th>8</th>\n",
       "      <td>2018</td>\n",
       "      <td>1</td>\n",
       "    </tr>\n",
       "    <tr>\n",
       "      <th>9</th>\n",
       "      <td>2019</td>\n",
       "      <td>1</td>\n",
       "    </tr>\n",
       "  </tbody>\n",
       "</table>\n",
       "</div>"
      ],
      "text/plain": [
       "   year  films_with_box/films_total\n",
       "0  2010                           0\n",
       "1  2011                           0\n",
       "2  2012                           0\n",
       "3  2013                           0\n",
       "4  2014                           0\n",
       "5  2015                           1\n",
       "6  2016                           1\n",
       "7  2017                           1\n",
       "8  2018                           1\n",
       "9  2019                           1"
      ]
     },
     "metadata": {},
     "output_type": "display_data"
    }
   ],
   "source": [
    "budget=budget[['year','films_with_box/films_total']]\n",
    "display(budget)"
   ]
  },
  {
   "cell_type": "code",
   "execution_count": 81,
   "metadata": {},
   "outputs": [
    {
     "data": {
      "text/plain": [
       "Text(0.5, 1.0, 'Доля фильмов со сборами в прокате каждый год, относительно общего количества удостоверений за год')"
      ]
     },
     "metadata": {},
     "output_type": "display_data"
    },
    {
     "data": {
      "image/png": "[encoded data removed]",
      "text/plain": [
       "<Figure size 432x288 with 1 Axes>"
      ]
     },
     "metadata": {
      "needs_background": "light"
     },
     "output_type": "display_data"
    }
   ],
   "source": [
    "display(budget.plot(kind='line',x='year',grid=True).set_title('Доля фильмов со сборами в прокате каждый год, относительно общего количества удостоверений за год'))\n",
    "plt.show()"
   ]
  },
  {
   "cell_type": "markdown",
   "metadata": {},
   "source": [
    "Доля фильмов со сборами росла до 2017, потом потом наступила коррекция. Наиболее полно представлен период с 2014 по 2019 год"
   ]
  },
  {
   "cell_type": "markdown",
   "metadata": {},
   "source": [
    "Наиболее полно представлена выборка с 2012 по 2019 года,  по критерию box_office!=0."
   ]
  },
  {
   "cell_type": "code",
   "execution_count": 82,
   "metadata": {},
   "outputs": [
    {
     "data": {
      "image/png": "[encoded data removed]",
      "text/plain": [
       "<Figure size 432x288 with 1 Axes>"
      ]
     },
     "metadata": {
      "needs_background": "light"
     },
     "output_type": "display_data"
    }
   ],
   "source": [
    "pivot_df['mean'].describe()\n",
    "sns_plot6 = sns.barplot(data=pivot_df,y=pivot_df['mean']/1000000,x=pivot_df.index).set_title(\n",
    "    'Средняя величина суммы сборов по годам, млн.рублей')\n",
    "#sns_plot6.set(xlim=(0,60)) # - верхнее ограничение 1.5 размаха 25%-75%"
   ]
  },
  {
   "cell_type": "markdown",
   "metadata": {},
   "source": [
    "Самым прибыльным по средней величине сборов был 2017 год"
   ]
  },
  {
   "cell_type": "code",
   "execution_count": 83,
   "metadata": {},
   "outputs": [
    {
     "data": {
      "image/png": "[encoded data removed]",
      "text/plain": [
       "<Figure size 432x288 with 1 Axes>"
      ]
     },
     "metadata": {
      "needs_background": "light"
     },
     "output_type": "display_data"
    }
   ],
   "source": [
    "sns_plot7 = sns.barplot(data=pivot_df,y=pivot_df['count'],x=pivot_df.index).set_title(\n",
    "    'Динамика проката фильмов в кинотеатрах по годам, ед')"
   ]
  },
  {
   "cell_type": "code",
   "execution_count": 84,
   "metadata": {},
   "outputs": [],
   "source": [
    "dynamics=df.pivot_table(index=['year','age_restriction'],values=['box_office'],aggfunc=['count','sum','mean','median'])\n",
    "dynamics.columns=['Количество фильмов','Сумма сборов','Среднее значение сборов','Медиана сборов']"
   ]
  },
  {
   "cell_type": "code",
   "execution_count": 85,
   "metadata": {},
   "outputs": [
    {
     "data": {
      "text/html": [
       "<div>\n",
       "<style scoped>\n",
       "    .dataframe tbody tr th:only-of-type {\n",
       "        vertical-align: middle;\n",
       "    }\n",
       "\n",
       "    .dataframe tbody tr th {\n",
       "        vertical-align: top;\n",
       "    }\n",
       "\n",
       "    .dataframe thead th {\n",
       "        text-align: right;\n",
       "    }\n",
       "</style>\n",
       "<table border=\"1\" class=\"dataframe\">\n",
       "  <thead>\n",
       "    <tr style=\"text-align: right;\">\n",
       "      <th></th>\n",
       "      <th></th>\n",
       "      <th>Количество фильмов</th>\n",
       "      <th>Сумма сборов</th>\n",
       "      <th>Среднее значение сборов</th>\n",
       "      <th>Медиана сборов</th>\n",
       "    </tr>\n",
       "    <tr>\n",
       "      <th>year</th>\n",
       "      <th>age_restriction</th>\n",
       "      <th></th>\n",
       "      <th></th>\n",
       "      <th></th>\n",
       "      <th></th>\n",
       "    </tr>\n",
       "  </thead>\n",
       "  <tbody>\n",
       "    <tr>\n",
       "      <th rowspan=\"4\" valign=\"top\">2010</th>\n",
       "      <th>«0+» - для любой зрительской аудитории</th>\n",
       "      <td>131</td>\n",
       "      <td>1887611</td>\n",
       "      <td>14409</td>\n",
       "      <td>0</td>\n",
       "    </tr>\n",
       "    <tr>\n",
       "      <th>«12+» - для детей старше 12 лет</th>\n",
       "      <td>201</td>\n",
       "      <td>120146</td>\n",
       "      <td>598</td>\n",
       "      <td>0</td>\n",
       "    </tr>\n",
       "    <tr>\n",
       "      <th>«16+» - для детей старше 16 лет</th>\n",
       "      <td>554</td>\n",
       "      <td>366512</td>\n",
       "      <td>662</td>\n",
       "      <td>0</td>\n",
       "    </tr>\n",
       "    <tr>\n",
       "      <th>«18+» - запрещено для детей</th>\n",
       "      <td>99</td>\n",
       "      <td>54385</td>\n",
       "      <td>549</td>\n",
       "      <td>0</td>\n",
       "    </tr>\n",
       "    <tr>\n",
       "      <th rowspan=\"5\" valign=\"top\">2011</th>\n",
       "      <th>«0+» - для любой зрительской аудитории</th>\n",
       "      <td>104</td>\n",
       "      <td>13499871</td>\n",
       "      <td>129806</td>\n",
       "      <td>0</td>\n",
       "    </tr>\n",
       "    <tr>\n",
       "      <th>«12+» - для детей старше 12 лет</th>\n",
       "      <td>79</td>\n",
       "      <td>219891</td>\n",
       "      <td>2783</td>\n",
       "      <td>0</td>\n",
       "    </tr>\n",
       "    <tr>\n",
       "      <th>«16+» - для детей старше 16 лет</th>\n",
       "      <td>359</td>\n",
       "      <td>381513</td>\n",
       "      <td>1063</td>\n",
       "      <td>0</td>\n",
       "    </tr>\n",
       "    <tr>\n",
       "      <th>«18+» - запрещено для детей</th>\n",
       "      <td>79</td>\n",
       "      <td>1040</td>\n",
       "      <td>13</td>\n",
       "      <td>0</td>\n",
       "    </tr>\n",
       "    <tr>\n",
       "      <th>«6+» - для детей старше 6 лет</th>\n",
       "      <td>1</td>\n",
       "      <td>450</td>\n",
       "      <td>450</td>\n",
       "      <td>450</td>\n",
       "    </tr>\n",
       "    <tr>\n",
       "      <th rowspan=\"5\" valign=\"top\">2012</th>\n",
       "      <th>«0+» - для любой зрительской аудитории</th>\n",
       "      <td>94</td>\n",
       "      <td>2266483</td>\n",
       "      <td>24112</td>\n",
       "      <td>0</td>\n",
       "    </tr>\n",
       "    <tr>\n",
       "      <th>«12+» - для детей старше 12 лет</th>\n",
       "      <td>82</td>\n",
       "      <td>108734</td>\n",
       "      <td>1326</td>\n",
       "      <td>0</td>\n",
       "    </tr>\n",
       "    <tr>\n",
       "      <th>«16+» - для детей старше 16 лет</th>\n",
       "      <td>298</td>\n",
       "      <td>3254216</td>\n",
       "      <td>10920</td>\n",
       "      <td>0</td>\n",
       "    </tr>\n",
       "    <tr>\n",
       "      <th>«18+» - запрещено для детей</th>\n",
       "      <td>100</td>\n",
       "      <td>182580</td>\n",
       "      <td>1826</td>\n",
       "      <td>0</td>\n",
       "    </tr>\n",
       "    <tr>\n",
       "      <th>«6+» - для детей старше 6 лет</th>\n",
       "      <td>19</td>\n",
       "      <td>1143410</td>\n",
       "      <td>60179</td>\n",
       "      <td>3750</td>\n",
       "    </tr>\n",
       "    <tr>\n",
       "      <th rowspan=\"5\" valign=\"top\">2013</th>\n",
       "      <th>«0+» - для любой зрительской аудитории</th>\n",
       "      <td>86</td>\n",
       "      <td>2710302</td>\n",
       "      <td>31515</td>\n",
       "      <td>0</td>\n",
       "    </tr>\n",
       "    <tr>\n",
       "      <th>«12+» - для детей старше 12 лет</th>\n",
       "      <td>174</td>\n",
       "      <td>20910336</td>\n",
       "      <td>120174</td>\n",
       "      <td>0</td>\n",
       "    </tr>\n",
       "    <tr>\n",
       "      <th>«16+» - для детей старше 16 лет</th>\n",
       "      <td>214</td>\n",
       "      <td>658069</td>\n",
       "      <td>3075</td>\n",
       "      <td>0</td>\n",
       "    </tr>\n",
       "    <tr>\n",
       "      <th>«18+» - запрещено для детей</th>\n",
       "      <td>100</td>\n",
       "      <td>5161245</td>\n",
       "      <td>51612</td>\n",
       "      <td>0</td>\n",
       "    </tr>\n",
       "    <tr>\n",
       "      <th>«6+» - для детей старше 6 лет</th>\n",
       "      <td>56</td>\n",
       "      <td>359752</td>\n",
       "      <td>6424</td>\n",
       "      <td>0</td>\n",
       "    </tr>\n",
       "    <tr>\n",
       "      <th rowspan=\"5\" valign=\"top\">2014</th>\n",
       "      <th>«0+» - для любой зрительской аудитории</th>\n",
       "      <td>79</td>\n",
       "      <td>375562257</td>\n",
       "      <td>4753953</td>\n",
       "      <td>0</td>\n",
       "    </tr>\n",
       "    <tr>\n",
       "      <th>«12+» - для детей старше 12 лет</th>\n",
       "      <td>268</td>\n",
       "      <td>2584782320</td>\n",
       "      <td>9644710</td>\n",
       "      <td>0</td>\n",
       "    </tr>\n",
       "    <tr>\n",
       "      <th>«16+» - для детей старше 16 лет</th>\n",
       "      <td>254</td>\n",
       "      <td>544280080</td>\n",
       "      <td>2142835</td>\n",
       "      <td>0</td>\n",
       "    </tr>\n",
       "    <tr>\n",
       "      <th>«18+» - запрещено для детей</th>\n",
       "      <td>141</td>\n",
       "      <td>2209712741</td>\n",
       "      <td>15671722</td>\n",
       "      <td>0</td>\n",
       "    </tr>\n",
       "    <tr>\n",
       "      <th>«6+» - для детей старше 6 лет</th>\n",
       "      <td>65</td>\n",
       "      <td>1730614441</td>\n",
       "      <td>26624838</td>\n",
       "      <td>0</td>\n",
       "    </tr>\n",
       "    <tr>\n",
       "      <th rowspan=\"5\" valign=\"top\">2015</th>\n",
       "      <th>«0+» - для любой зрительской аудитории</th>\n",
       "      <td>50</td>\n",
       "      <td>379054567</td>\n",
       "      <td>7581091</td>\n",
       "      <td>1587566</td>\n",
       "    </tr>\n",
       "    <tr>\n",
       "      <th>«12+» - для детей старше 12 лет</th>\n",
       "      <td>137</td>\n",
       "      <td>13616081989</td>\n",
       "      <td>99387460</td>\n",
       "      <td>4450</td>\n",
       "    </tr>\n",
       "    <tr>\n",
       "      <th>«16+» - для детей старше 16 лет</th>\n",
       "      <td>249</td>\n",
       "      <td>11368120823</td>\n",
       "      <td>45655104</td>\n",
       "      <td>581840</td>\n",
       "    </tr>\n",
       "    <tr>\n",
       "      <th>«18+» - запрещено для детей</th>\n",
       "      <td>192</td>\n",
       "      <td>5432308329</td>\n",
       "      <td>28293273</td>\n",
       "      <td>1263202</td>\n",
       "    </tr>\n",
       "    <tr>\n",
       "      <th>«6+» - для детей старше 6 лет</th>\n",
       "      <td>77</td>\n",
       "      <td>8701799354</td>\n",
       "      <td>113010381</td>\n",
       "      <td>1171085</td>\n",
       "    </tr>\n",
       "    <tr>\n",
       "      <th rowspan=\"5\" valign=\"top\">2016</th>\n",
       "      <th>«0+» - для любой зрительской аудитории</th>\n",
       "      <td>73</td>\n",
       "      <td>150228839</td>\n",
       "      <td>2057929</td>\n",
       "      <td>42860</td>\n",
       "    </tr>\n",
       "    <tr>\n",
       "      <th>«12+» - для детей старше 12 лет</th>\n",
       "      <td>136</td>\n",
       "      <td>12204446503</td>\n",
       "      <td>89738577</td>\n",
       "      <td>110414</td>\n",
       "    </tr>\n",
       "    <tr>\n",
       "      <th>«16+» - для детей старше 16 лет</th>\n",
       "      <td>269</td>\n",
       "      <td>16664548492</td>\n",
       "      <td>61949994</td>\n",
       "      <td>763958</td>\n",
       "    </tr>\n",
       "    <tr>\n",
       "      <th>«18+» - запрещено для детей</th>\n",
       "      <td>245</td>\n",
       "      <td>6793929771</td>\n",
       "      <td>27730326</td>\n",
       "      <td>685838</td>\n",
       "    </tr>\n",
       "    <tr>\n",
       "      <th>«6+» - для детей старше 6 лет</th>\n",
       "      <td>95</td>\n",
       "      <td>12053145991</td>\n",
       "      <td>126875221</td>\n",
       "      <td>587178</td>\n",
       "    </tr>\n",
       "    <tr>\n",
       "      <th rowspan=\"5\" valign=\"top\">2017</th>\n",
       "      <th>«0+» - для любой зрительской аудитории</th>\n",
       "      <td>44</td>\n",
       "      <td>229598930</td>\n",
       "      <td>5218158</td>\n",
       "      <td>0</td>\n",
       "    </tr>\n",
       "    <tr>\n",
       "      <th>«12+» - для детей старше 12 лет</th>\n",
       "      <td>70</td>\n",
       "      <td>7851427659</td>\n",
       "      <td>112163252</td>\n",
       "      <td>240217</td>\n",
       "    </tr>\n",
       "    <tr>\n",
       "      <th>«16+» - для детей старше 16 лет</th>\n",
       "      <td>153</td>\n",
       "      <td>18745042899</td>\n",
       "      <td>122516620</td>\n",
       "      <td>4856233</td>\n",
       "    </tr>\n",
       "    <tr>\n",
       "      <th>«18+» - запрещено для детей</th>\n",
       "      <td>172</td>\n",
       "      <td>9651495581</td>\n",
       "      <td>56113346</td>\n",
       "      <td>5510864</td>\n",
       "    </tr>\n",
       "    <tr>\n",
       "      <th>«6+» - для детей старше 6 лет</th>\n",
       "      <td>66</td>\n",
       "      <td>12086142145</td>\n",
       "      <td>183123366</td>\n",
       "      <td>5768688</td>\n",
       "    </tr>\n",
       "    <tr>\n",
       "      <th rowspan=\"5\" valign=\"top\">2018</th>\n",
       "      <th>«0+» - для любой зрительской аудитории</th>\n",
       "      <td>77</td>\n",
       "      <td>32449001</td>\n",
       "      <td>421416</td>\n",
       "      <td>0</td>\n",
       "    </tr>\n",
       "    <tr>\n",
       "      <th>«12+» - для детей старше 12 лет</th>\n",
       "      <td>243</td>\n",
       "      <td>14267291636</td>\n",
       "      <td>58713134</td>\n",
       "      <td>0</td>\n",
       "    </tr>\n",
       "    <tr>\n",
       "      <th>«16+» - для детей старше 16 лет</th>\n",
       "      <td>235</td>\n",
       "      <td>16503602284</td>\n",
       "      <td>70228095</td>\n",
       "      <td>1881097</td>\n",
       "    </tr>\n",
       "    <tr>\n",
       "      <th>«18+» - запрещено для детей</th>\n",
       "      <td>222</td>\n",
       "      <td>8760085436</td>\n",
       "      <td>39459844</td>\n",
       "      <td>4708034</td>\n",
       "    </tr>\n",
       "    <tr>\n",
       "      <th>«6+» - для детей старше 6 лет</th>\n",
       "      <td>114</td>\n",
       "      <td>10104974592</td>\n",
       "      <td>88640128</td>\n",
       "      <td>3248204</td>\n",
       "    </tr>\n",
       "    <tr>\n",
       "      <th rowspan=\"5\" valign=\"top\">2019</th>\n",
       "      <th>«0+» - для любой зрительской аудитории</th>\n",
       "      <td>73</td>\n",
       "      <td>17746066</td>\n",
       "      <td>243097</td>\n",
       "      <td>0</td>\n",
       "    </tr>\n",
       "    <tr>\n",
       "      <th>«12+» - для детей старше 12 лет</th>\n",
       "      <td>203</td>\n",
       "      <td>12680198743</td>\n",
       "      <td>62464033</td>\n",
       "      <td>0</td>\n",
       "    </tr>\n",
       "    <tr>\n",
       "      <th>«16+» - для детей старше 16 лет</th>\n",
       "      <td>266</td>\n",
       "      <td>12753418927</td>\n",
       "      <td>47945184</td>\n",
       "      <td>1148359</td>\n",
       "    </tr>\n",
       "    <tr>\n",
       "      <th>«18+» - запрещено для детей</th>\n",
       "      <td>255</td>\n",
       "      <td>10121796238</td>\n",
       "      <td>39693319</td>\n",
       "      <td>2497043</td>\n",
       "    </tr>\n",
       "    <tr>\n",
       "      <th>«6+» - для детей старше 6 лет</th>\n",
       "      <td>133</td>\n",
       "      <td>12852548618</td>\n",
       "      <td>96635704</td>\n",
       "      <td>1384241</td>\n",
       "    </tr>\n",
       "  </tbody>\n",
       "</table>\n",
       "</div>"
      ],
      "text/plain": [
       "                                             Количество фильмов  Сумма сборов  \\\n",
       "year age_restriction                                                            \n",
       "2010 «0+» - для любой зрительской аудитории                 131       1887611   \n",
       "     «12+» - для детей старше 12 лет                        201        120146   \n",
       "     «16+» - для детей старше 16 лет                        554        366512   \n",
       "     «18+» - запрещено для детей                             99         54385   \n",
       "2011 «0+» - для любой зрительской аудитории                 104      13499871   \n",
       "     «12+» - для детей старше 12 лет                         79        219891   \n",
       "     «16+» - для детей старше 16 лет                        359        381513   \n",
       "     «18+» - запрещено для детей                             79          1040   \n",
       "     «6+» - для детей старше 6 лет                            1           450   \n",
       "2012 «0+» - для любой зрительской аудитории                  94       2266483   \n",
       "     «12+» - для детей старше 12 лет                         82        108734   \n",
       "     «16+» - для детей старше 16 лет                        298       3254216   \n",
       "     «18+» - запрещено для детей                            100        182580   \n",
       "     «6+» - для детей старше 6 лет                           19       1143410   \n",
       "2013 «0+» - для любой зрительской аудитории                  86       2710302   \n",
       "     «12+» - для детей старше 12 лет                        174      20910336   \n",
       "     «16+» - для детей старше 16 лет                        214        658069   \n",
       "     «18+» - запрещено для детей                            100       5161245   \n",
       "     «6+» - для детей старше 6 лет                           56        359752   \n",
       "2014 «0+» - для любой зрительской аудитории                  79     375562257   \n",
       "     «12+» - для детей старше 12 лет                        268    2584782320   \n",
       "     «16+» - для детей старше 16 лет                        254     544280080   \n",
       "     «18+» - запрещено для детей                            141    2209712741   \n",
       "     «6+» - для детей старше 6 лет                           65    1730614441   \n",
       "2015 «0+» - для любой зрительской аудитории                  50     379054567   \n",
       "     «12+» - для детей старше 12 лет                        137   13616081989   \n",
       "     «16+» - для детей старше 16 лет                        249   11368120823   \n",
       "     «18+» - запрещено для детей                            192    5432308329   \n",
       "     «6+» - для детей старше 6 лет                           77    8701799354   \n",
       "2016 «0+» - для любой зрительской аудитории                  73     150228839   \n",
       "     «12+» - для детей старше 12 лет                        136   12204446503   \n",
       "     «16+» - для детей старше 16 лет                        269   16664548492   \n",
       "     «18+» - запрещено для детей                            245    6793929771   \n",
       "     «6+» - для детей старше 6 лет                           95   12053145991   \n",
       "2017 «0+» - для любой зрительской аудитории                  44     229598930   \n",
       "     «12+» - для детей старше 12 лет                         70    7851427659   \n",
       "     «16+» - для детей старше 16 лет                        153   18745042899   \n",
       "     «18+» - запрещено для детей                            172    9651495581   \n",
       "     «6+» - для детей старше 6 лет                           66   12086142145   \n",
       "2018 «0+» - для любой зрительской аудитории                  77      32449001   \n",
       "     «12+» - для детей старше 12 лет                        243   14267291636   \n",
       "     «16+» - для детей старше 16 лет                        235   16503602284   \n",
       "     «18+» - запрещено для детей                            222    8760085436   \n",
       "     «6+» - для детей старше 6 лет                          114   10104974592   \n",
       "2019 «0+» - для любой зрительской аудитории                  73      17746066   \n",
       "     «12+» - для детей старше 12 лет                        203   12680198743   \n",
       "     «16+» - для детей старше 16 лет                        266   12753418927   \n",
       "     «18+» - запрещено для детей                            255   10121796238   \n",
       "     «6+» - для детей старше 6 лет                          133   12852548618   \n",
       "\n",
       "                                             Среднее значение сборов  \\\n",
       "year age_restriction                                                   \n",
       "2010 «0+» - для любой зрительской аудитории                    14409   \n",
       "     «12+» - для детей старше 12 лет                             598   \n",
       "     «16+» - для детей старше 16 лет                             662   \n",
       "     «18+» - запрещено для детей                                 549   \n",
       "2011 «0+» - для любой зрительской аудитории                   129806   \n",
       "     «12+» - для детей старше 12 лет                            2783   \n",
       "     «16+» - для детей старше 16 лет                            1063   \n",
       "     «18+» - запрещено для детей                                  13   \n",
       "     «6+» - для детей старше 6 лет                               450   \n",
       "2012 «0+» - для любой зрительской аудитории                    24112   \n",
       "     «12+» - для детей старше 12 лет                            1326   \n",
       "     «16+» - для детей старше 16 лет                           10920   \n",
       "     «18+» - запрещено для детей                                1826   \n",
       "     «6+» - для детей старше 6 лет                             60179   \n",
       "2013 «0+» - для любой зрительской аудитории                    31515   \n",
       "     «12+» - для детей старше 12 лет                          120174   \n",
       "     «16+» - для детей старше 16 лет                            3075   \n",
       "     «18+» - запрещено для детей                               51612   \n",
       "     «6+» - для детей старше 6 лет                              6424   \n",
       "2014 «0+» - для любой зрительской аудитории                  4753953   \n",
       "     «12+» - для детей старше 12 лет                         9644710   \n",
       "     «16+» - для детей старше 16 лет                         2142835   \n",
       "     «18+» - запрещено для детей                            15671722   \n",
       "     «6+» - для детей старше 6 лет                          26624838   \n",
       "2015 «0+» - для любой зрительской аудитории                  7581091   \n",
       "     «12+» - для детей старше 12 лет                        99387460   \n",
       "     «16+» - для детей старше 16 лет                        45655104   \n",
       "     «18+» - запрещено для детей                            28293273   \n",
       "     «6+» - для детей старше 6 лет                         113010381   \n",
       "2016 «0+» - для любой зрительской аудитории                  2057929   \n",
       "     «12+» - для детей старше 12 лет                        89738577   \n",
       "     «16+» - для детей старше 16 лет                        61949994   \n",
       "     «18+» - запрещено для детей                            27730326   \n",
       "     «6+» - для детей старше 6 лет                         126875221   \n",
       "2017 «0+» - для любой зрительской аудитории                  5218158   \n",
       "     «12+» - для детей старше 12 лет                       112163252   \n",
       "     «16+» - для детей старше 16 лет                       122516620   \n",
       "     «18+» - запрещено для детей                            56113346   \n",
       "     «6+» - для детей старше 6 лет                         183123366   \n",
       "2018 «0+» - для любой зрительской аудитории                   421416   \n",
       "     «12+» - для детей старше 12 лет                        58713134   \n",
       "     «16+» - для детей старше 16 лет                        70228095   \n",
       "     «18+» - запрещено для детей                            39459844   \n",
       "     «6+» - для детей старше 6 лет                          88640128   \n",
       "2019 «0+» - для любой зрительской аудитории                   243097   \n",
       "     «12+» - для детей старше 12 лет                        62464033   \n",
       "     «16+» - для детей старше 16 лет                        47945184   \n",
       "     «18+» - запрещено для детей                            39693319   \n",
       "     «6+» - для детей старше 6 лет                          96635704   \n",
       "\n",
       "                                             Медиана сборов  \n",
       "year age_restriction                                         \n",
       "2010 «0+» - для любой зрительской аудитории               0  \n",
       "     «12+» - для детей старше 12 лет                      0  \n",
       "     «16+» - для детей старше 16 лет                      0  \n",
       "     «18+» - запрещено для детей                          0  \n",
       "2011 «0+» - для любой зрительской аудитории               0  \n",
       "     «12+» - для детей старше 12 лет                      0  \n",
       "     «16+» - для детей старше 16 лет                      0  \n",
       "     «18+» - запрещено для детей                          0  \n",
       "     «6+» - для детей старше 6 лет                      450  \n",
       "2012 «0+» - для любой зрительской аудитории               0  \n",
       "     «12+» - для детей старше 12 лет                      0  \n",
       "     «16+» - для детей старше 16 лет                      0  \n",
       "     «18+» - запрещено для детей                          0  \n",
       "     «6+» - для детей старше 6 лет                     3750  \n",
       "2013 «0+» - для любой зрительской аудитории               0  \n",
       "     «12+» - для детей старше 12 лет                      0  \n",
       "     «16+» - для детей старше 16 лет                      0  \n",
       "     «18+» - запрещено для детей                          0  \n",
       "     «6+» - для детей старше 6 лет                        0  \n",
       "2014 «0+» - для любой зрительской аудитории               0  \n",
       "     «12+» - для детей старше 12 лет                      0  \n",
       "     «16+» - для детей старше 16 лет                      0  \n",
       "     «18+» - запрещено для детей                          0  \n",
       "     «6+» - для детей старше 6 лет                        0  \n",
       "2015 «0+» - для любой зрительской аудитории         1587566  \n",
       "     «12+» - для детей старше 12 лет                   4450  \n",
       "     «16+» - для детей старше 16 лет                 581840  \n",
       "     «18+» - запрещено для детей                    1263202  \n",
       "     «6+» - для детей старше 6 лет                  1171085  \n",
       "2016 «0+» - для любой зрительской аудитории           42860  \n",
       "     «12+» - для детей старше 12 лет                 110414  \n",
       "     «16+» - для детей старше 16 лет                 763958  \n",
       "     «18+» - запрещено для детей                     685838  \n",
       "     «6+» - для детей старше 6 лет                   587178  \n",
       "2017 «0+» - для любой зрительской аудитории               0  \n",
       "     «12+» - для детей старше 12 лет                 240217  \n",
       "     «16+» - для детей старше 16 лет                4856233  \n",
       "     «18+» - запрещено для детей                    5510864  \n",
       "     «6+» - для детей старше 6 лет                  5768688  \n",
       "2018 «0+» - для любой зрительской аудитории               0  \n",
       "     «12+» - для детей старше 12 лет                      0  \n",
       "     «16+» - для детей старше 16 лет                1881097  \n",
       "     «18+» - запрещено для детей                    4708034  \n",
       "     «6+» - для детей старше 6 лет                  3248204  \n",
       "2019 «0+» - для любой зрительской аудитории               0  \n",
       "     «12+» - для детей старше 12 лет                      0  \n",
       "     «16+» - для детей старше 16 лет                1148359  \n",
       "     «18+» - запрещено для детей                    2497043  \n",
       "     «6+» - для детей старше 6 лет                  1384241  "
      ]
     },
     "execution_count": 85,
     "metadata": {},
     "output_type": "execute_result"
    }
   ],
   "source": [
    "dynamics"
   ]
  },
  {
   "cell_type": "code",
   "execution_count": 86,
   "metadata": {},
   "outputs": [],
   "source": [
    "pivot=pivot_df.sort_values(by='count',ascending=False)"
   ]
  },
  {
   "cell_type": "code",
   "execution_count": 87,
   "metadata": {},
   "outputs": [],
   "source": [
    "pivot.columns=['Динамика проката в кино (количество фильмов, у которых сборы >0)','Среднее значение сборов','Стандартное отклонение сборов',\n",
    "                                    'Минимальное значение сборов','Q1','Q2','Q3','Максимальное значение сборов']"
   ]
  },
  {
   "cell_type": "code",
   "execution_count": 88,
   "metadata": {},
   "outputs": [
    {
     "data": {
      "text/html": [
       "<div>\n",
       "<style scoped>\n",
       "    .dataframe tbody tr th:only-of-type {\n",
       "        vertical-align: middle;\n",
       "    }\n",
       "\n",
       "    .dataframe tbody tr th {\n",
       "        vertical-align: top;\n",
       "    }\n",
       "\n",
       "    .dataframe thead th {\n",
       "        text-align: right;\n",
       "    }\n",
       "</style>\n",
       "<table border=\"1\" class=\"dataframe\">\n",
       "  <thead>\n",
       "    <tr style=\"text-align: right;\">\n",
       "      <th></th>\n",
       "      <th>Динамика проката в кино (количество фильмов, у которых сборы &gt;0)</th>\n",
       "      <th>Среднее значение сборов</th>\n",
       "      <th>Стандартное отклонение сборов</th>\n",
       "      <th>Минимальное значение сборов</th>\n",
       "      <th>Q1</th>\n",
       "      <th>Q2</th>\n",
       "      <th>Q3</th>\n",
       "      <th>Максимальное значение сборов</th>\n",
       "    </tr>\n",
       "    <tr>\n",
       "      <th>year</th>\n",
       "      <th></th>\n",
       "      <th></th>\n",
       "      <th></th>\n",
       "      <th></th>\n",
       "      <th></th>\n",
       "      <th></th>\n",
       "      <th></th>\n",
       "      <th></th>\n",
       "    </tr>\n",
       "  </thead>\n",
       "  <tbody>\n",
       "    <tr>\n",
       "      <th>2019</th>\n",
       "      <td>530</td>\n",
       "      <td>91369261</td>\n",
       "      <td>290931159</td>\n",
       "      <td>4398</td>\n",
       "      <td>1386961</td>\n",
       "      <td>4627798</td>\n",
       "      <td>38362496</td>\n",
       "      <td>3073568690</td>\n",
       "    </tr>\n",
       "    <tr>\n",
       "      <th>2016</th>\n",
       "      <td>525</td>\n",
       "      <td>91173904</td>\n",
       "      <td>251252221</td>\n",
       "      <td>200</td>\n",
       "      <td>596373</td>\n",
       "      <td>3915041</td>\n",
       "      <td>38958757</td>\n",
       "      <td>2048126108</td>\n",
       "    </tr>\n",
       "    <tr>\n",
       "      <th>2018</th>\n",
       "      <td>475</td>\n",
       "      <td>104565059</td>\n",
       "      <td>272079012</td>\n",
       "      <td>41225</td>\n",
       "      <td>2388580</td>\n",
       "      <td>8891102</td>\n",
       "      <td>60015758</td>\n",
       "      <td>2271754004</td>\n",
       "    </tr>\n",
       "    <tr>\n",
       "      <th>2015</th>\n",
       "      <td>462</td>\n",
       "      <td>85492132</td>\n",
       "      <td>220771366</td>\n",
       "      <td>100</td>\n",
       "      <td>784146</td>\n",
       "      <td>5003450</td>\n",
       "      <td>43500347</td>\n",
       "      <td>1658861425</td>\n",
       "    </tr>\n",
       "    <tr>\n",
       "      <th>2017</th>\n",
       "      <td>357</td>\n",
       "      <td>136032793</td>\n",
       "      <td>323251441</td>\n",
       "      <td>7900</td>\n",
       "      <td>1951257</td>\n",
       "      <td>9968340</td>\n",
       "      <td>71173828</td>\n",
       "      <td>2779686144</td>\n",
       "    </tr>\n",
       "    <tr>\n",
       "      <th>2014</th>\n",
       "      <td>273</td>\n",
       "      <td>27270886</td>\n",
       "      <td>122324727</td>\n",
       "      <td>50</td>\n",
       "      <td>1825</td>\n",
       "      <td>20400</td>\n",
       "      <td>621050</td>\n",
       "      <td>1016410635</td>\n",
       "    </tr>\n",
       "    <tr>\n",
       "      <th>2013</th>\n",
       "      <td>179</td>\n",
       "      <td>166479</td>\n",
       "      <td>1525590</td>\n",
       "      <td>40</td>\n",
       "      <td>950</td>\n",
       "      <td>3580</td>\n",
       "      <td>15755</td>\n",
       "      <td>19957031</td>\n",
       "    </tr>\n",
       "    <tr>\n",
       "      <th>2012</th>\n",
       "      <td>123</td>\n",
       "      <td>56548</td>\n",
       "      <td>233667</td>\n",
       "      <td>80</td>\n",
       "      <td>930</td>\n",
       "      <td>6220</td>\n",
       "      <td>22702</td>\n",
       "      <td>2311220</td>\n",
       "    </tr>\n",
       "    <tr>\n",
       "      <th>2011</th>\n",
       "      <td>109</td>\n",
       "      <td>129383</td>\n",
       "      <td>1114447</td>\n",
       "      <td>125</td>\n",
       "      <td>765</td>\n",
       "      <td>3000</td>\n",
       "      <td>9680</td>\n",
       "      <td>11618085</td>\n",
       "    </tr>\n",
       "    <tr>\n",
       "      <th>2010</th>\n",
       "      <td>101</td>\n",
       "      <td>24046</td>\n",
       "      <td>146139</td>\n",
       "      <td>75</td>\n",
       "      <td>420</td>\n",
       "      <td>1710</td>\n",
       "      <td>5830</td>\n",
       "      <td>1446400</td>\n",
       "    </tr>\n",
       "  </tbody>\n",
       "</table>\n",
       "</div>"
      ],
      "text/plain": [
       "      Динамика проката в кино (количество фильмов, у которых сборы >0)  \\\n",
       "year                                                                     \n",
       "2019                                                530                  \n",
       "2016                                                525                  \n",
       "2018                                                475                  \n",
       "2015                                                462                  \n",
       "2017                                                357                  \n",
       "2014                                                273                  \n",
       "2013                                                179                  \n",
       "2012                                                123                  \n",
       "2011                                                109                  \n",
       "2010                                                101                  \n",
       "\n",
       "      Среднее значение сборов  Стандартное отклонение сборов  \\\n",
       "year                                                           \n",
       "2019                 91369261                      290931159   \n",
       "2016                 91173904                      251252221   \n",
       "2018                104565059                      272079012   \n",
       "2015                 85492132                      220771366   \n",
       "2017                136032793                      323251441   \n",
       "2014                 27270886                      122324727   \n",
       "2013                   166479                        1525590   \n",
       "2012                    56548                         233667   \n",
       "2011                   129383                        1114447   \n",
       "2010                    24046                         146139   \n",
       "\n",
       "      Минимальное значение сборов      Q1      Q2       Q3  \\\n",
       "year                                                         \n",
       "2019                         4398 1386961 4627798 38362496   \n",
       "2016                          200  596373 3915041 38958757   \n",
       "2018                        41225 2388580 8891102 60015758   \n",
       "2015                          100  784146 5003450 43500347   \n",
       "2017                         7900 1951257 9968340 71173828   \n",
       "2014                           50    1825   20400   621050   \n",
       "2013                           40     950    3580    15755   \n",
       "2012                           80     930    6220    22702   \n",
       "2011                          125     765    3000     9680   \n",
       "2010                           75     420    1710     5830   \n",
       "\n",
       "      Максимальное значение сборов  \n",
       "year                                \n",
       "2019                    3073568690  \n",
       "2016                    2048126108  \n",
       "2018                    2271754004  \n",
       "2015                    1658861425  \n",
       "2017                    2779686144  \n",
       "2014                    1016410635  \n",
       "2013                      19957031  \n",
       "2012                       2311220  \n",
       "2011                      11618085  \n",
       "2010                       1446400  "
      ]
     },
     "metadata": {},
     "output_type": "display_data"
    }
   ],
   "source": [
    "display(pivot)"
   ]
  },
  {
   "cell_type": "code",
   "execution_count": 89,
   "metadata": {
    "tags": []
   },
   "outputs": [],
   "source": [
    "df_grouped_age=df[df['box_office']!=0].groupby(['year','age_restriction']).agg({'box_office':'sum'})"
   ]
  },
  {
   "cell_type": "code",
   "execution_count": 90,
   "metadata": {
    "tags": []
   },
   "outputs": [
    {
     "data": {
      "text/plain": [
       "'box_office sum'"
      ]
     },
     "metadata": {},
     "output_type": "display_data"
    },
    {
     "data": {
      "text/plain": [
       "Text(0.5, 1.0, 'Сумма сборов по категориям')"
      ]
     },
     "metadata": {},
     "output_type": "display_data"
    },
    {
     "data": {
      "image/png": "[encoded data removed]",
      "text/plain": [
       "<Figure size 432x288 with 1 Axes>"
      ]
     },
     "metadata": {
      "needs_background": "light"
     },
     "output_type": "display_data"
    }
   ],
   "source": [
    "display('box_office sum')\n",
    "display(df_grouped_age.unstack().plot(kind='bar').set_title('Сумма сборов по категориям'))\n",
    "plt.legend(bbox_to_anchor=( 1.02 , 1 ), loc='upper left', borderaxespad= 0 ) \n",
    "\n",
    "plt.xticks(rotation=45)\n",
    "plt.show()"
   ]
  },
  {
   "cell_type": "markdown",
   "metadata": {
    "tags": []
   },
   "source": [
    "Рассмотрим группировку по возрастным ограничениям для box_office!=0. На графике медиана сборов по категориям запрета"
   ]
  },
  {
   "cell_type": "code",
   "execution_count": 91,
   "metadata": {
    "tags": []
   },
   "outputs": [
    {
     "data": {
      "text/plain": [
       "'box_office median'"
      ]
     },
     "metadata": {},
     "output_type": "display_data"
    },
    {
     "data": {
      "text/plain": [
       "Text(0.5, 1.0, 'Медиана сборов по категориям')"
      ]
     },
     "metadata": {},
     "output_type": "display_data"
    },
    {
     "data": {
      "image/png": "[encoded data removed]",
      "text/plain": [
       "<Figure size 432x288 with 1 Axes>"
      ]
     },
     "metadata": {
      "needs_background": "light"
     },
     "output_type": "display_data"
    }
   ],
   "source": [
    "display('box_office median')\n",
    "df_grouped_age=df[df['box_office']!=0].groupby(['year','age_restriction']).agg({'box_office':'median'})\n",
    "display(df_grouped_age.unstack().plot(kind='bar').set_title('Медиана сборов по категориям'))\n",
    "plt.legend(bbox_to_anchor=( 1.02 , 1 ), loc='upper left', borderaxespad= 0 ) \n",
    "\n",
    "plt.xticks(rotation=45)\n",
    "plt.show()"
   ]
  },
  {
   "cell_type": "markdown",
   "metadata": {
    "tags": []
   },
   "source": [
    "Рассмотрим группировку по возрастным ограничениям для box_office!=0. На графике среднее сборов по категориям запрета"
   ]
  },
  {
   "cell_type": "code",
   "execution_count": 92,
   "metadata": {
    "tags": []
   },
   "outputs": [
    {
     "data": {
      "text/plain": [
       "'box_office mean'"
      ]
     },
     "metadata": {},
     "output_type": "display_data"
    },
    {
     "data": {
      "text/plain": [
       "Text(0.5, 1.0, 'Среднее значение сборов по категориям')"
      ]
     },
     "metadata": {},
     "output_type": "display_data"
    },
    {
     "data": {
      "image/png": "[encoded data removed]",
      "text/plain": [
       "<Figure size 432x288 with 1 Axes>"
      ]
     },
     "metadata": {
      "needs_background": "light"
     },
     "output_type": "display_data"
    }
   ],
   "source": [
    "display('box_office mean')\n",
    "df_grouped_age=df[df['box_office']!=0].groupby(['year','age_restriction']).agg({'box_office':'mean'})\n",
    "display(df_grouped_age.unstack().plot(kind='bar').set_title('Среднее значение сборов по категориям'))\n",
    "plt.legend(bbox_to_anchor=( 1.02 , 1 ), loc='upper left', borderaxespad= 0 ) \n",
    "\n",
    "plt.xticks(rotation=45)\n",
    "plt.show()"
   ]
  },
  {
   "cell_type": "markdown",
   "metadata": {
    "tags": []
   },
   "source": [
    "Вывод предельно простой: Чем больше людей идет в кино, типичный пример  для рейтинга 6 +,\n",
    "медианная сборов всегда выше, следовательно фильмы данной категории приносят больше денег. "
   ]
  },
  {
   "cell_type": "code",
   "execution_count": 93,
   "metadata": {
    "tags": []
   },
   "outputs": [],
   "source": [
    "df['show_start_date']=df['show_start_date'].dt.date #Фикс даты"
   ]
  },
  {
   "cell_type": "markdown",
   "metadata": {
    "tags": []
   },
   "source": [
    "Наибольшие сборы  были зафиксированы в 2017 году критерию mean (box_office), при этом  box_office!=0"
   ]
  },
  {
   "cell_type": "markdown",
   "metadata": {
    "tags": []
   },
   "source": [
    "Наиболее полно представлен период с 2014 по 2019 год"
   ]
  },
  {
   "cell_type": "markdown",
   "metadata": {},
   "source": [
    "Соберем массив из хороших данных по найденым выше ограничениям:"
   ]
  },
  {
   "cell_type": "code",
   "execution_count": 94,
   "metadata": {},
   "outputs": [],
   "source": [
    "good_data=df[(df['refundable_support']>=0)&(df['refundable_support']<=102500000)&\n",
    "             (df['nonrefundable_support']>=0)&(df['nonrefundable_support']<=75000000)&\n",
    "             (df['budget']>=0)&(df['budget']<=305779916)&\n",
    "             (df['ratings']>=4.5)&(df['ratings']<=8.5)&\n",
    "             (df['box_office']>=0)&(df['box_office']<=61272944)        \n",
    "            ]"
   ]
  },
  {
   "cell_type": "code",
   "execution_count": 95,
   "metadata": {},
   "outputs": [
    {
     "data": {
      "text/plain": [
       "(5602, 24)"
      ]
     },
     "metadata": {},
     "output_type": "display_data"
    }
   ],
   "source": [
    "display(good_data.shape)"
   ]
  },
  {
   "cell_type": "markdown",
   "metadata": {},
   "source": [
    "Так-с, с количественными показателями мы разобрались. Теперь разберемся с тем, что там минкульт и фондкино нафинансировал."
   ]
  },
  {
   "cell_type": "code",
   "execution_count": 96,
   "metadata": {},
   "outputs": [
    {
     "data": {
      "text/html": [
       "<div>\n",
       "<style scoped>\n",
       "    .dataframe tbody tr th:only-of-type {\n",
       "        vertical-align: middle;\n",
       "    }\n",
       "\n",
       "    .dataframe tbody tr th {\n",
       "        vertical-align: top;\n",
       "    }\n",
       "\n",
       "    .dataframe thead th {\n",
       "        text-align: right;\n",
       "    }\n",
       "</style>\n",
       "<table border=\"1\" class=\"dataframe\">\n",
       "  <thead>\n",
       "    <tr style=\"text-align: right;\">\n",
       "      <th></th>\n",
       "      <th>dtype</th>\n",
       "    </tr>\n",
       "  </thead>\n",
       "  <tbody>\n",
       "    <tr>\n",
       "      <th>title</th>\n",
       "      <td>object</td>\n",
       "    </tr>\n",
       "    <tr>\n",
       "      <th>type</th>\n",
       "      <td>object</td>\n",
       "    </tr>\n",
       "    <tr>\n",
       "      <th>film_studio</th>\n",
       "      <td>object</td>\n",
       "    </tr>\n",
       "    <tr>\n",
       "      <th>production_country</th>\n",
       "      <td>object</td>\n",
       "    </tr>\n",
       "    <tr>\n",
       "      <th>director</th>\n",
       "      <td>object</td>\n",
       "    </tr>\n",
       "    <tr>\n",
       "      <th>producer</th>\n",
       "      <td>object</td>\n",
       "    </tr>\n",
       "    <tr>\n",
       "      <th>age_restriction</th>\n",
       "      <td>object</td>\n",
       "    </tr>\n",
       "    <tr>\n",
       "      <th>financing_source</th>\n",
       "      <td>object</td>\n",
       "    </tr>\n",
       "    <tr>\n",
       "      <th>genres</th>\n",
       "      <td>object</td>\n",
       "    </tr>\n",
       "    <tr>\n",
       "      <th>name_surname</th>\n",
       "      <td>object</td>\n",
       "    </tr>\n",
       "    <tr>\n",
       "      <th>genre_first</th>\n",
       "      <td>object</td>\n",
       "    </tr>\n",
       "  </tbody>\n",
       "</table>\n",
       "</div>"
      ],
      "text/plain": [
       "                     dtype\n",
       "title               object\n",
       "type                object\n",
       "film_studio         object\n",
       "production_country  object\n",
       "director            object\n",
       "producer            object\n",
       "age_restriction     object\n",
       "financing_source    object\n",
       "genres              object\n",
       "name_surname        object\n",
       "genre_first         object"
      ]
     },
     "metadata": {},
     "output_type": "display_data"
    }
   ],
   "source": [
    "display(nominal_criteria)"
   ]
  },
  {
   "cell_type": "markdown",
   "metadata": {},
   "source": [
    "У нас есть такая замечательная категория как страна производства, киностудия и financing_source"
   ]
  },
  {
   "cell_type": "markdown",
   "metadata": {},
   "source": [
    "Разбираем good_data по категориальным критериям. Выдергиваем все, что содержит в себе Россию"
   ]
  },
  {
   "cell_type": "code",
   "execution_count": 97,
   "metadata": {},
   "outputs": [],
   "source": [
    "data_fin= good_data[good_data['production_country'].str.contains('Россия')==True]"
   ]
  },
  {
   "cell_type": "code",
   "execution_count": 98,
   "metadata": {},
   "outputs": [
    {
     "data": {
      "text/plain": [
       "(1089, 24)"
      ]
     },
     "execution_count": 98,
     "metadata": {},
     "output_type": "execute_result"
    }
   ],
   "source": [
    "data_fin.shape "
   ]
  },
  {
   "cell_type": "markdown",
   "metadata": {},
   "source": [
    "Опять же, нам повезло. Продолжаем работу с массивом. Дергаем numeric_data"
   ]
  },
  {
   "cell_type": "code",
   "execution_count": 99,
   "metadata": {},
   "outputs": [],
   "source": [
    "data_fin_numeric=data_fin[['refundable_support','nonrefundable_support','budget','box_office','ratings']]"
   ]
  },
  {
   "cell_type": "code",
   "execution_count": 100,
   "metadata": {},
   "outputs": [
    {
     "data": {
      "text/html": [
       "<div>\n",
       "<style scoped>\n",
       "    .dataframe tbody tr th:only-of-type {\n",
       "        vertical-align: middle;\n",
       "    }\n",
       "\n",
       "    .dataframe tbody tr th {\n",
       "        vertical-align: top;\n",
       "    }\n",
       "\n",
       "    .dataframe thead th {\n",
       "        text-align: right;\n",
       "    }\n",
       "</style>\n",
       "<table border=\"1\" class=\"dataframe\">\n",
       "  <thead>\n",
       "    <tr style=\"text-align: right;\">\n",
       "      <th></th>\n",
       "      <th>refundable_support</th>\n",
       "      <th>nonrefundable_support</th>\n",
       "      <th>budget</th>\n",
       "      <th>box_office</th>\n",
       "      <th>ratings</th>\n",
       "    </tr>\n",
       "  </thead>\n",
       "  <tbody>\n",
       "    <tr>\n",
       "      <th>count</th>\n",
       "      <td>1089</td>\n",
       "      <td>1089</td>\n",
       "      <td>1089</td>\n",
       "      <td>1089</td>\n",
       "      <td>1089</td>\n",
       "    </tr>\n",
       "    <tr>\n",
       "      <th>mean</th>\n",
       "      <td>588613</td>\n",
       "      <td>4678153</td>\n",
       "      <td>10279955</td>\n",
       "      <td>2413715</td>\n",
       "      <td>6</td>\n",
       "    </tr>\n",
       "    <tr>\n",
       "      <th>std</th>\n",
       "      <td>3837112</td>\n",
       "      <td>11495827</td>\n",
       "      <td>28368661</td>\n",
       "      <td>8351774</td>\n",
       "      <td>1</td>\n",
       "    </tr>\n",
       "    <tr>\n",
       "      <th>min</th>\n",
       "      <td>0</td>\n",
       "      <td>0</td>\n",
       "      <td>0</td>\n",
       "      <td>0</td>\n",
       "      <td>4</td>\n",
       "    </tr>\n",
       "    <tr>\n",
       "      <th>25%</th>\n",
       "      <td>0</td>\n",
       "      <td>0</td>\n",
       "      <td>0</td>\n",
       "      <td>0</td>\n",
       "      <td>6</td>\n",
       "    </tr>\n",
       "    <tr>\n",
       "      <th>50%</th>\n",
       "      <td>0</td>\n",
       "      <td>0</td>\n",
       "      <td>0</td>\n",
       "      <td>0</td>\n",
       "      <td>6</td>\n",
       "    </tr>\n",
       "    <tr>\n",
       "      <th>75%</th>\n",
       "      <td>0</td>\n",
       "      <td>0</td>\n",
       "      <td>0</td>\n",
       "      <td>168050</td>\n",
       "      <td>7</td>\n",
       "    </tr>\n",
       "    <tr>\n",
       "      <th>max</th>\n",
       "      <td>40000000</td>\n",
       "      <td>64000000</td>\n",
       "      <td>287802711</td>\n",
       "      <td>57403543</td>\n",
       "      <td>8</td>\n",
       "    </tr>\n",
       "  </tbody>\n",
       "</table>\n",
       "</div>"
      ],
      "text/plain": [
       "       refundable_support  nonrefundable_support    budget  box_office  \\\n",
       "count                1089                   1089      1089        1089   \n",
       "mean               588613                4678153  10279955     2413715   \n",
       "std               3837112               11495827  28368661     8351774   \n",
       "min                     0                      0         0           0   \n",
       "25%                     0                      0         0           0   \n",
       "50%                     0                      0         0           0   \n",
       "75%                     0                      0         0      168050   \n",
       "max              40000000               64000000 287802711    57403543   \n",
       "\n",
       "       ratings  \n",
       "count     1089  \n",
       "mean         6  \n",
       "std          1  \n",
       "min          4  \n",
       "25%          6  \n",
       "50%          6  \n",
       "75%          7  \n",
       "max          8  "
      ]
     },
     "execution_count": 100,
     "metadata": {},
     "output_type": "execute_result"
    }
   ],
   "source": [
    "data_fin_numeric.describe()"
   ]
  },
  {
   "cell_type": "markdown",
   "metadata": {},
   "source": [
    "Дропаем из data_fin_numeric значения, содержащие нули в полях  refundable_support\tnonrefundable_support\tbudget\t"
   ]
  },
  {
   "cell_type": "code",
   "execution_count": 101,
   "metadata": {},
   "outputs": [],
   "source": [
    "data_group_all=data_fin_numeric[((data_fin_numeric['box_office']!=0)&((data_fin_numeric['refundable_support']!=0))|(data_fin_numeric['nonrefundable_support']!=0))&\n",
    "                 (data_fin_numeric['budget']!=0)]"
   ]
  },
  {
   "cell_type": "code",
   "execution_count": 102,
   "metadata": {},
   "outputs": [
    {
     "data": {
      "text/html": [
       "<div>\n",
       "<style scoped>\n",
       "    .dataframe tbody tr th:only-of-type {\n",
       "        vertical-align: middle;\n",
       "    }\n",
       "\n",
       "    .dataframe tbody tr th {\n",
       "        vertical-align: top;\n",
       "    }\n",
       "\n",
       "    .dataframe thead th {\n",
       "        text-align: right;\n",
       "    }\n",
       "</style>\n",
       "<table border=\"1\" class=\"dataframe\">\n",
       "  <thead>\n",
       "    <tr style=\"text-align: right;\">\n",
       "      <th></th>\n",
       "      <th>refundable_support</th>\n",
       "      <th>nonrefundable_support</th>\n",
       "      <th>budget</th>\n",
       "      <th>box_office</th>\n",
       "      <th>ratings</th>\n",
       "    </tr>\n",
       "  </thead>\n",
       "  <tbody>\n",
       "    <tr>\n",
       "      <th>count</th>\n",
       "      <td>170</td>\n",
       "      <td>170</td>\n",
       "      <td>170</td>\n",
       "      <td>170</td>\n",
       "      <td>170</td>\n",
       "    </tr>\n",
       "    <tr>\n",
       "      <th>mean</th>\n",
       "      <td>3505882</td>\n",
       "      <td>29250050</td>\n",
       "      <td>65852179</td>\n",
       "      <td>7645780</td>\n",
       "      <td>6</td>\n",
       "    </tr>\n",
       "    <tr>\n",
       "      <th>std</th>\n",
       "      <td>8865159</td>\n",
       "      <td>10135285</td>\n",
       "      <td>38728137</td>\n",
       "      <td>13075758</td>\n",
       "      <td>1</td>\n",
       "    </tr>\n",
       "    <tr>\n",
       "      <th>min</th>\n",
       "      <td>0</td>\n",
       "      <td>0</td>\n",
       "      <td>15010000</td>\n",
       "      <td>0</td>\n",
       "      <td>4</td>\n",
       "    </tr>\n",
       "    <tr>\n",
       "      <th>25%</th>\n",
       "      <td>0</td>\n",
       "      <td>25000000</td>\n",
       "      <td>39992500</td>\n",
       "      <td>271434</td>\n",
       "      <td>6</td>\n",
       "    </tr>\n",
       "    <tr>\n",
       "      <th>50%</th>\n",
       "      <td>0</td>\n",
       "      <td>28000000</td>\n",
       "      <td>54104828</td>\n",
       "      <td>1581301</td>\n",
       "      <td>6</td>\n",
       "    </tr>\n",
       "    <tr>\n",
       "      <th>75%</th>\n",
       "      <td>0</td>\n",
       "      <td>35000000</td>\n",
       "      <td>77822236</td>\n",
       "      <td>8606736</td>\n",
       "      <td>7</td>\n",
       "    </tr>\n",
       "    <tr>\n",
       "      <th>max</th>\n",
       "      <td>40000000</td>\n",
       "      <td>64000000</td>\n",
       "      <td>287802711</td>\n",
       "      <td>57403543</td>\n",
       "      <td>8</td>\n",
       "    </tr>\n",
       "  </tbody>\n",
       "</table>\n",
       "</div>"
      ],
      "text/plain": [
       "       refundable_support  nonrefundable_support    budget  box_office  \\\n",
       "count                 170                    170       170         170   \n",
       "mean              3505882               29250050  65852179     7645780   \n",
       "std               8865159               10135285  38728137    13075758   \n",
       "min                     0                      0  15010000           0   \n",
       "25%                     0               25000000  39992500      271434   \n",
       "50%                     0               28000000  54104828     1581301   \n",
       "75%                     0               35000000  77822236     8606736   \n",
       "max              40000000               64000000 287802711    57403543   \n",
       "\n",
       "       ratings  \n",
       "count      170  \n",
       "mean         6  \n",
       "std          1  \n",
       "min          4  \n",
       "25%          6  \n",
       "50%          6  \n",
       "75%          7  \n",
       "max          8  "
      ]
     },
     "execution_count": 102,
     "metadata": {},
     "output_type": "execute_result"
    }
   ],
   "source": [
    "data_group_all.describe()"
   ]
  },
  {
   "cell_type": "code",
   "execution_count": 103,
   "metadata": {},
   "outputs": [
    {
     "data": {
      "text/html": [
       "<div>\n",
       "<style scoped>\n",
       "    .dataframe tbody tr th:only-of-type {\n",
       "        vertical-align: middle;\n",
       "    }\n",
       "\n",
       "    .dataframe tbody tr th {\n",
       "        vertical-align: top;\n",
       "    }\n",
       "\n",
       "    .dataframe thead th {\n",
       "        text-align: right;\n",
       "    }\n",
       "</style>\n",
       "<table border=\"1\" class=\"dataframe\">\n",
       "  <thead>\n",
       "    <tr style=\"text-align: right;\">\n",
       "      <th></th>\n",
       "      <th>refundable_support</th>\n",
       "      <th>nonrefundable_support</th>\n",
       "      <th>budget</th>\n",
       "      <th>box_office</th>\n",
       "      <th>ratings</th>\n",
       "    </tr>\n",
       "  </thead>\n",
       "  <tbody>\n",
       "    <tr>\n",
       "      <th>refundable_support</th>\n",
       "      <td>1.00</td>\n",
       "      <td>0.13</td>\n",
       "      <td>0.44</td>\n",
       "      <td>0.42</td>\n",
       "      <td>-0.20</td>\n",
       "    </tr>\n",
       "    <tr>\n",
       "      <th>nonrefundable_support</th>\n",
       "      <td>0.13</td>\n",
       "      <td>1.00</td>\n",
       "      <td>0.50</td>\n",
       "      <td>0.05</td>\n",
       "      <td>-0.12</td>\n",
       "    </tr>\n",
       "    <tr>\n",
       "      <th>budget</th>\n",
       "      <td>0.44</td>\n",
       "      <td>0.50</td>\n",
       "      <td>1.00</td>\n",
       "      <td>0.44</td>\n",
       "      <td>-0.02</td>\n",
       "    </tr>\n",
       "    <tr>\n",
       "      <th>box_office</th>\n",
       "      <td>0.42</td>\n",
       "      <td>0.05</td>\n",
       "      <td>0.44</td>\n",
       "      <td>1.00</td>\n",
       "      <td>-0.06</td>\n",
       "    </tr>\n",
       "    <tr>\n",
       "      <th>ratings</th>\n",
       "      <td>-0.20</td>\n",
       "      <td>-0.12</td>\n",
       "      <td>-0.02</td>\n",
       "      <td>-0.06</td>\n",
       "      <td>1.00</td>\n",
       "    </tr>\n",
       "  </tbody>\n",
       "</table>\n",
       "</div>"
      ],
      "text/plain": [
       "                       refundable_support  nonrefundable_support  budget  \\\n",
       "refundable_support                   1.00                   0.13    0.44   \n",
       "nonrefundable_support                0.13                   1.00    0.50   \n",
       "budget                               0.44                   0.50    1.00   \n",
       "box_office                           0.42                   0.05    0.44   \n",
       "ratings                             -0.20                  -0.12   -0.02   \n",
       "\n",
       "                       box_office  ratings  \n",
       "refundable_support           0.42    -0.20  \n",
       "nonrefundable_support        0.05    -0.12  \n",
       "budget                       0.44    -0.02  \n",
       "box_office                   1.00    -0.06  \n",
       "ratings                     -0.06     1.00  "
      ]
     },
     "execution_count": 103,
     "metadata": {},
     "output_type": "execute_result"
    }
   ],
   "source": [
    "pd.options.display.float_format = '{:.2f}'.format\n",
    "data_group_all.corr()"
   ]
  },
  {
   "cell_type": "markdown",
   "metadata": {},
   "source": [
    "По корр матрице четкой зависимости нет, продожим анализировать не включая рейтинг, так как на масштабе в 10^8 его видно не будет "
   ]
  },
  {
   "cell_type": "code",
   "execution_count": 104,
   "metadata": {},
   "outputs": [
    {
     "data": {
      "image/png": "[encoded data removed]",
      "text/plain": [
       "<Figure size 720x576 with 1 Axes>"
      ]
     },
     "metadata": {
      "needs_background": "light"
     },
     "output_type": "display_data"
    }
   ],
   "source": [
    "fig, ax=plt.subplots(figsize=(10,8))\n",
    "bp= sns.boxplot(data=data_group_all.drop(columns='ratings',axis=1)).set_title(\n",
    "    'Количественные показатели фильмов, спонсируемые Фондом кино и Минкультом, рейтинг не показан\\n')"
   ]
  },
  {
   "cell_type": "markdown",
   "metadata": {},
   "source": [
    "Фонд кино и минкульт спонсируют фильмы, которые не окупаются в прокате"
   ]
  },
  {
   "cell_type": "code",
   "execution_count": 105,
   "metadata": {},
   "outputs": [
    {
     "name": "stdout",
     "output_type": "stream",
     "text": [
      "refundable_support             0.00\n",
      "nonrefundable_support   10000000.00\n",
      "budget                  37829736.25\n",
      "box_office               8335301.50\n",
      "ratings                        1.10\n",
      "dtype: float64\n"
     ]
    }
   ],
   "source": [
    "Q1=data_group_all.quantile(0.25)\n",
    "Q3=data_group_all.quantile(0.75)\n",
    "IQR=Q3-Q1\n",
    "print(IQR)"
   ]
  },
  {
   "cell_type": "code",
   "execution_count": 106,
   "metadata": {},
   "outputs": [
    {
     "data": {
      "text/plain": [
       "(119, 5)"
      ]
     },
     "execution_count": 106,
     "metadata": {},
     "output_type": "execute_result"
    }
   ],
   "source": [
    "outliners_removed_data= data_group_all[~ ((data_group_all<(Q1-1.5*IQR)) \\\n",
    "                                        |(data_group_all > (Q3+1.5*IQR))).any(axis=1)]\n",
    "\n",
    "outliners_removed_data.shape"
   ]
  },
  {
   "cell_type": "code",
   "execution_count": 107,
   "metadata": {},
   "outputs": [
    {
     "data": {
      "image/png": "[encoded data removed]",
      "text/plain": [
       "<Figure size 720x576 with 1 Axes>"
      ]
     },
     "metadata": {
      "needs_background": "light"
     },
     "output_type": "display_data"
    }
   ],
   "source": [
    "fig, ax=plt.subplots(figsize=(10,8))\n",
    "bp= sns.boxplot(data=outliners_removed_data).set_title(\n",
    "    'Количественные показатели фильмов, спонсируемые Фондом кино и Минкультом, рейтинг показан\\n')"
   ]
  },
  {
   "cell_type": "code",
   "execution_count": 108,
   "metadata": {},
   "outputs": [
    {
     "data": {
      "image/png": "[encoded data removed]",
      "text/plain": [
       "<Figure size 1440x1440 with 6 Axes>"
      ]
     },
     "metadata": {
      "needs_background": "light"
     },
     "output_type": "display_data"
    }
   ],
   "source": [
    "outliners_removed_data.hist(figsize=(20, 20))\n",
    "plt.show()\n"
   ]
  },
  {
   "cell_type": "markdown",
   "metadata": {
    "id": "evjMydACuqj9"
   },
   "source": [
    "### Вывод по разделу Исследовательский анализ данных\n",
    "Cедующие выводы о сборах (`box_office`):\n",
    "\n",
    "1) Сборы в группе с puNumber, начинающейся на \"1.11\", имеют более широкий разброс значений, но основная концентрация лежит вокруг значений \"1.11\" и \"1.14\".\n",
    "\n",
    "2) Нет явной зависимости между уровнем refundable_support и сборами. Большая часть значений находится в диапазоне от 0 до 0.5 на 10^8 по refundable_support.\n",
    "\n",
    "3) Также нет явной зависимости между nonrefundable_support и сборами. Значения сосредоточены в диапазоне до 1 на 10^8.\n",
    "\n",
    "4) Зависимости между бюджетом и сборами также не наблюдается. Значения сосредоточены в диапазоне до 0.5 на 10^8.\n",
    "\n",
    "5) Нет явной зависимости между рейтингом и сборами.\n",
    "\n",
    "6) Большая часть значений в остаточном массиве представляет собой сборы до 1 миллиарда.\n",
    "\n",
    "Эти наблюдения предоставляют важную информацию о сборах и их зависимостях от других переменных."
   ]
  },
  {
   "cell_type": "markdown",
   "metadata": {
    "id": "hNQPMhQ5uqj-"
   },
   "source": [
    "## Общий вывод"
   ]
  },
  {
   "cell_type": "markdown",
   "metadata": {},
   "source": [
    "## Итоговый вывод \n",
    "\n",
    "Данные были собраны из нескольких источников, их достаточно для выполнения задания.\n",
    "\n",
    "Были выявлены следующие проблемы:\n",
    "\n",
    "1. Смешение качественных и количественных показателей в некоторых признаках.\n",
    "\n",
    "2. Отсутствие единичной классификации в некоторых признаках.\n",
    "\n",
    "3. Присутствие соотношения 1 ко многим в некоторых данных.\n",
    "\n",
    "4. Отсутствие уникального идентификатора записи.\n",
    "\n",
    "5. Отсутствие даты окончания прокатного удостоверения.\n",
    "\n",
    "6. Присутствие как явных, так и неявных дубликатов данных.\n",
    "\n",
    "7. Пропуски в данных.\n",
    "\n",
    "8. Возможное отсутствие ограничений на поля для пользователя в исходной базе данных.\n",
    "\n",
    "9. Ошибки при заполнении данных.\n",
    "\n",
    "10. Низкое качество данных.\n",
    "\n",
    "11. Проблемы с количественными критериями, такие как формат, тип данных, ошибки и возможные выбросы.\n",
    "\n",
    "12. Неясные взаимосвязи в данных.\n",
    "\n",
    "Важно отметить, что часть фильмов не прокатывалась в российских кинотеатрах, и это также оказывает влияние на качество данных. Для улучшения анализа данных необходимы дополнительные уточнения о датах выхода фильмов в прокат.\n",
    "\n",
    "Касательно критериальных групп, проведен анализ фильмов, которые окупились в прокате, и обнаружено, что некоторые фильмы получили финансирование от Фонда кино и Минкультуры, несмотря на то, что не окупились в прокате.\n",
    "\n",
    "Таким образом, предобработка данных позволяет лучше понять характеристики и качество имеющейся информации, но для более точного анализа потребуются дополнительные уточнения и коррекции данных.\n",
    "\n",
    "\n",
    "О сборах (`'box_office'`):\n",
    "\n",
    "1) Сборы в группе с puNumber, начинающейся на \"1.11\", имеют более широкий разброс значений, но основная концентрация лежит вокруг значений \"1.11\" и \"1.14\".\n",
    "\n",
    "2) Нет явной зависимости между уровнем refundable_support и сборами. Большая часть значений находится в диапазоне от 0 до 0.5 на 10^8 по refundable_support.\n",
    "\n",
    "3) Также нет явной зависимости между nonrefundable_support и сборами. Значения сосредоточены в диапазоне до 1 на 10^8.\n",
    "\n",
    "4) Зависимости между бюджетом и сборами также не наблюдается. Значения сосредоточены в диапазоне до 0.5 на 10^8.\n",
    "\n",
    "5) Нет явной зависимости между рейтингом и сборами.\n",
    "\n",
    "6) Большая часть значений в остаточном массиве представляет собой сборы до 1 миллиарда.\n",
    "\n",
    "Эти наблюдения предоставляют важную информацию о сборах и их зависимостях от других переменных."
   ]
  }
 ],
 "metadata": {
  "ExecuteTimeLog": [
   {
    "duration": 51,
    "start_time": "2022-10-28T10:40:49.127Z"
   },
   {
    "duration": 711,
    "start_time": "2022-10-28T10:41:03.420Z"
   },
   {
    "duration": 97,
    "start_time": "2022-10-28T10:41:35.975Z"
   },
   {
    "duration": 71,
    "start_time": "2022-10-28T10:43:16.125Z"
   },
   {
    "duration": 48,
    "start_time": "2022-10-28T10:43:55.285Z"
   },
   {
    "duration": 94,
    "start_time": "2022-10-28T10:45:07.969Z"
   },
   {
    "duration": 113,
    "start_time": "2022-10-28T10:45:27.869Z"
   },
   {
    "duration": 132,
    "start_time": "2022-10-28T10:45:57.121Z"
   },
   {
    "duration": 136,
    "start_time": "2022-10-28T10:46:25.041Z"
   },
   {
    "duration": 186,
    "start_time": "2022-10-28T10:57:14.634Z"
   },
   {
    "duration": 154,
    "start_time": "2022-10-28T10:57:24.644Z"
   },
   {
    "duration": 141,
    "start_time": "2022-10-28T10:57:40.798Z"
   },
   {
    "duration": 142,
    "start_time": "2022-10-28T10:58:14.076Z"
   },
   {
    "duration": 204,
    "start_time": "2022-10-28T11:00:32.736Z"
   },
   {
    "duration": 143,
    "start_time": "2022-10-28T11:09:55.222Z"
   },
   {
    "duration": 220,
    "start_time": "2022-10-28T11:10:19.237Z"
   },
   {
    "duration": 3,
    "start_time": "2022-10-28T11:15:49.889Z"
   },
   {
    "duration": 8,
    "start_time": "2022-10-28T11:16:18.249Z"
   },
   {
    "duration": 3,
    "start_time": "2022-10-28T11:17:15.799Z"
   },
   {
    "duration": 4,
    "start_time": "2022-10-28T11:17:27.985Z"
   },
   {
    "duration": 10,
    "start_time": "2022-10-28T11:19:28.563Z"
   },
   {
    "duration": 45,
    "start_time": "2022-10-28T14:57:38.380Z"
   },
   {
    "duration": 1136,
    "start_time": "2022-10-28T14:57:47.647Z"
   },
   {
    "duration": 9,
    "start_time": "2022-10-28T14:57:54.870Z"
   },
   {
    "duration": 29,
    "start_time": "2022-10-28T14:58:44.989Z"
   },
   {
    "duration": 16,
    "start_time": "2022-10-28T14:58:55.967Z"
   },
   {
    "duration": 9,
    "start_time": "2022-10-28T14:59:07.673Z"
   },
   {
    "duration": 7,
    "start_time": "2022-10-28T15:07:08.502Z"
   },
   {
    "duration": 4,
    "start_time": "2022-10-28T15:07:57.304Z"
   },
   {
    "duration": 51,
    "start_time": "2022-10-28T15:11:42.816Z"
   },
   {
    "duration": 51,
    "start_time": "2022-10-28T15:11:52.669Z"
   },
   {
    "duration": 62,
    "start_time": "2022-10-28T15:12:16.904Z"
   },
   {
    "duration": 48,
    "start_time": "2022-10-28T15:12:28.340Z"
   },
   {
    "duration": 4,
    "start_time": "2022-10-28T15:13:06.724Z"
   },
   {
    "duration": 9,
    "start_time": "2022-10-28T15:13:45.139Z"
   },
   {
    "duration": 6,
    "start_time": "2022-10-28T15:13:51.804Z"
   },
   {
    "duration": 46,
    "start_time": "2022-10-31T09:47:52.124Z"
   },
   {
    "duration": 686,
    "start_time": "2022-10-31T09:48:06.779Z"
   },
   {
    "duration": 18,
    "start_time": "2022-10-31T09:48:07.466Z"
   },
   {
    "duration": 4,
    "start_time": "2022-10-31T09:48:07.486Z"
   },
   {
    "duration": 8,
    "start_time": "2022-10-31T09:48:07.492Z"
   },
   {
    "duration": 26,
    "start_time": "2022-10-31T09:48:07.501Z"
   },
   {
    "duration": 62,
    "start_time": "2022-10-31T09:48:48.831Z"
   },
   {
    "duration": 10,
    "start_time": "2022-10-31T09:48:59.702Z"
   },
   {
    "duration": 6,
    "start_time": "2022-10-31T09:49:08.218Z"
   },
   {
    "duration": 8,
    "start_time": "2022-10-31T09:49:37.775Z"
   },
   {
    "duration": 9,
    "start_time": "2022-10-31T09:49:51.495Z"
   },
   {
    "duration": 8,
    "start_time": "2022-10-31T09:50:02.326Z"
   },
   {
    "duration": 74,
    "start_time": "2022-10-31T09:50:09.037Z"
   },
   {
    "duration": 6,
    "start_time": "2022-10-31T09:50:14.531Z"
   },
   {
    "duration": 72,
    "start_time": "2022-10-31T09:52:33.565Z"
   },
   {
    "duration": 9,
    "start_time": "2022-10-31T09:54:06.311Z"
   },
   {
    "duration": 64,
    "start_time": "2022-10-31T09:56:19.933Z"
   },
   {
    "duration": 29,
    "start_time": "2022-10-31T09:56:51.495Z"
   },
   {
    "duration": 8,
    "start_time": "2022-10-31T09:57:05.667Z"
   },
   {
    "duration": 55,
    "start_time": "2022-10-31T09:57:13.969Z"
   },
   {
    "duration": 100,
    "start_time": "2022-10-31T10:01:15.534Z"
   },
   {
    "duration": 118,
    "start_time": "2022-10-31T10:01:36.404Z"
   },
   {
    "duration": 165,
    "start_time": "2022-10-31T10:02:10.339Z"
   },
   {
    "duration": 178,
    "start_time": "2022-10-31T10:02:26.117Z"
   },
   {
    "duration": 171,
    "start_time": "2022-10-31T10:02:35.845Z"
   },
   {
    "duration": 181,
    "start_time": "2022-10-31T10:03:11.712Z"
   },
   {
    "duration": 91,
    "start_time": "2022-10-31T10:03:33.726Z"
   },
   {
    "duration": 10,
    "start_time": "2022-10-31T10:07:57.803Z"
   },
   {
    "duration": 9,
    "start_time": "2022-10-31T10:09:54.270Z"
   },
   {
    "duration": 8,
    "start_time": "2022-10-31T10:10:09.649Z"
   },
   {
    "duration": 75,
    "start_time": "2022-10-31T10:10:22.604Z"
   },
   {
    "duration": 8,
    "start_time": "2022-10-31T10:10:36.521Z"
   },
   {
    "duration": 12,
    "start_time": "2022-10-31T10:11:24.217Z"
   },
   {
    "duration": 264,
    "start_time": "2022-10-31T10:12:36.021Z"
   },
   {
    "duration": 6,
    "start_time": "2022-10-31T10:13:15.708Z"
   },
   {
    "duration": 149,
    "start_time": "2022-10-31T10:15:28.748Z"
   },
   {
    "duration": 191,
    "start_time": "2022-10-31T10:16:39.730Z"
   },
   {
    "duration": 67,
    "start_time": "2022-10-31T10:27:04.157Z"
   },
   {
    "duration": 72,
    "start_time": "2022-10-31T10:27:13.712Z"
   },
   {
    "duration": 70,
    "start_time": "2022-10-31T10:27:22.207Z"
   },
   {
    "duration": 70,
    "start_time": "2022-10-31T10:27:33.591Z"
   },
   {
    "duration": 70,
    "start_time": "2022-10-31T10:27:39.625Z"
   },
   {
    "duration": 5,
    "start_time": "2022-10-31T10:28:26.374Z"
   },
   {
    "duration": 8,
    "start_time": "2022-10-31T10:28:42.711Z"
   },
   {
    "duration": 8,
    "start_time": "2022-10-31T10:32:48.528Z"
   },
   {
    "duration": 16,
    "start_time": "2022-10-31T10:33:19.568Z"
   },
   {
    "duration": 9,
    "start_time": "2022-10-31T10:33:45.957Z"
   },
   {
    "duration": 13,
    "start_time": "2022-10-31T10:34:29.684Z"
   },
   {
    "duration": 14,
    "start_time": "2022-10-31T10:35:21.669Z"
   },
   {
    "duration": 97,
    "start_time": "2022-10-31T10:35:50.574Z"
   },
   {
    "duration": 13,
    "start_time": "2022-10-31T10:35:55.637Z"
   },
   {
    "duration": 17,
    "start_time": "2022-10-31T10:37:41.960Z"
   },
   {
    "duration": 10,
    "start_time": "2022-10-31T10:38:34.759Z"
   },
   {
    "duration": 20,
    "start_time": "2022-10-31T10:44:25.185Z"
   },
   {
    "duration": 73,
    "start_time": "2022-10-31T10:46:10.038Z"
   },
   {
    "duration": 1252,
    "start_time": "2022-11-06T13:47:26.736Z"
   },
   {
    "duration": 23,
    "start_time": "2022-11-06T13:47:27.990Z"
   },
   {
    "duration": 23,
    "start_time": "2022-11-06T13:47:28.014Z"
   },
   {
    "duration": 23,
    "start_time": "2022-11-06T13:47:28.039Z"
   },
   {
    "duration": 32,
    "start_time": "2022-11-06T13:47:28.064Z"
   },
   {
    "duration": 57,
    "start_time": "2022-11-06T13:47:28.098Z"
   },
   {
    "duration": 44,
    "start_time": "2022-11-06T13:47:28.156Z"
   },
   {
    "duration": 39,
    "start_time": "2022-11-06T13:47:28.202Z"
   },
   {
    "duration": 41,
    "start_time": "2022-11-06T13:47:28.243Z"
   },
   {
    "duration": 21,
    "start_time": "2022-11-06T13:47:28.286Z"
   },
   {
    "duration": 60,
    "start_time": "2022-11-06T13:47:28.309Z"
   },
   {
    "duration": 26,
    "start_time": "2022-11-06T13:47:28.370Z"
   },
   {
    "duration": 44,
    "start_time": "2022-11-06T13:47:28.398Z"
   },
   {
    "duration": 182,
    "start_time": "2022-11-06T13:47:28.445Z"
   },
   {
    "duration": 34,
    "start_time": "2022-11-06T13:47:28.628Z"
   },
   {
    "duration": 118,
    "start_time": "2022-11-06T13:47:28.664Z"
   },
   {
    "duration": 131,
    "start_time": "2022-11-06T13:47:28.784Z"
   },
   {
    "duration": 67,
    "start_time": "2022-11-06T13:47:28.917Z"
   },
   {
    "duration": 45,
    "start_time": "2022-11-06T13:47:28.986Z"
   },
   {
    "duration": 160,
    "start_time": "2022-11-06T13:47:29.032Z"
   },
   {
    "duration": 36,
    "start_time": "2022-11-06T13:47:29.209Z"
   },
   {
    "duration": 33,
    "start_time": "2022-11-06T13:47:29.246Z"
   },
   {
    "duration": 29,
    "start_time": "2022-11-06T13:47:29.280Z"
   },
   {
    "duration": 4,
    "start_time": "2022-11-06T13:47:29.311Z"
   },
   {
    "duration": 14,
    "start_time": "2022-11-06T13:47:29.316Z"
   },
   {
    "duration": 10,
    "start_time": "2022-11-06T13:47:29.332Z"
   },
   {
    "duration": 10,
    "start_time": "2022-11-06T13:47:29.344Z"
   },
   {
    "duration": 54,
    "start_time": "2022-11-06T13:47:29.356Z"
   },
   {
    "duration": 12,
    "start_time": "2022-11-06T13:47:29.412Z"
   },
   {
    "duration": 10,
    "start_time": "2022-11-06T13:47:29.426Z"
   },
   {
    "duration": 8,
    "start_time": "2022-11-06T13:47:29.437Z"
   },
   {
    "duration": 11,
    "start_time": "2022-11-06T13:47:29.446Z"
   },
   {
    "duration": 12,
    "start_time": "2022-11-06T13:47:29.459Z"
   },
   {
    "duration": 11,
    "start_time": "2022-11-06T13:47:29.473Z"
   },
   {
    "duration": 28,
    "start_time": "2022-11-06T13:47:29.485Z"
   },
   {
    "duration": 13,
    "start_time": "2022-11-06T13:47:29.515Z"
   },
   {
    "duration": 9,
    "start_time": "2022-11-06T13:47:29.529Z"
   },
   {
    "duration": 11,
    "start_time": "2022-11-06T13:47:29.540Z"
   },
   {
    "duration": 11,
    "start_time": "2022-11-06T13:47:29.553Z"
   },
   {
    "duration": 12,
    "start_time": "2022-11-06T13:47:29.566Z"
   },
   {
    "duration": 31,
    "start_time": "2022-11-06T13:47:29.584Z"
   },
   {
    "duration": 8,
    "start_time": "2022-11-06T13:47:29.617Z"
   },
   {
    "duration": 10,
    "start_time": "2022-11-06T13:47:29.627Z"
   },
   {
    "duration": 14,
    "start_time": "2022-11-06T13:47:29.639Z"
   },
   {
    "duration": 23,
    "start_time": "2022-11-06T13:47:29.655Z"
   },
   {
    "duration": 37,
    "start_time": "2022-11-06T13:47:29.680Z"
   },
   {
    "duration": 21,
    "start_time": "2022-11-06T13:47:29.719Z"
   },
   {
    "duration": 43,
    "start_time": "2022-11-06T13:47:29.742Z"
   },
   {
    "duration": 36,
    "start_time": "2022-11-06T13:47:29.786Z"
   },
   {
    "duration": 8,
    "start_time": "2022-11-06T13:47:29.824Z"
   },
   {
    "duration": 5,
    "start_time": "2022-11-06T13:47:29.833Z"
   },
   {
    "duration": 116,
    "start_time": "2022-11-06T13:47:29.840Z"
   },
   {
    "duration": 18,
    "start_time": "2022-11-06T13:47:29.958Z"
   },
   {
    "duration": 37,
    "start_time": "2022-11-06T13:47:29.978Z"
   },
   {
    "duration": 22092,
    "start_time": "2022-11-06T13:47:30.017Z"
   },
   {
    "duration": 2332,
    "start_time": "2022-11-06T13:47:52.110Z"
   },
   {
    "duration": 167,
    "start_time": "2022-11-06T13:47:54.443Z"
   },
   {
    "duration": 100,
    "start_time": "2022-11-06T13:47:54.611Z"
   },
   {
    "duration": 26,
    "start_time": "2022-11-06T13:47:54.712Z"
   },
   {
    "duration": 86,
    "start_time": "2022-11-06T13:47:54.740Z"
   },
   {
    "duration": 3592,
    "start_time": "2022-11-06T13:47:54.828Z"
   },
   {
    "duration": 170,
    "start_time": "2022-11-06T13:47:58.422Z"
   },
   {
    "duration": 5,
    "start_time": "2022-11-06T13:47:58.594Z"
   },
   {
    "duration": 5,
    "start_time": "2022-11-06T13:47:58.609Z"
   },
   {
    "duration": 10,
    "start_time": "2022-11-06T13:47:58.616Z"
   },
   {
    "duration": 38,
    "start_time": "2022-11-06T13:47:58.628Z"
   },
   {
    "duration": 5,
    "start_time": "2022-11-06T13:47:58.668Z"
   },
   {
    "duration": 40,
    "start_time": "2022-11-06T13:47:58.674Z"
   },
   {
    "duration": 156,
    "start_time": "2022-11-06T13:47:58.716Z"
   },
   {
    "duration": 141,
    "start_time": "2022-11-06T13:47:58.874Z"
   },
   {
    "duration": 120,
    "start_time": "2022-11-06T13:47:59.016Z"
   },
   {
    "duration": 129,
    "start_time": "2022-11-06T13:47:59.138Z"
   },
   {
    "duration": 268,
    "start_time": "2022-11-06T13:47:59.269Z"
   },
   {
    "duration": 150,
    "start_time": "2022-11-06T13:47:59.538Z"
   },
   {
    "duration": 24,
    "start_time": "2022-11-06T13:47:59.689Z"
   },
   {
    "duration": 14803,
    "start_time": "2022-11-06T13:47:59.714Z"
   },
   {
    "duration": 50,
    "start_time": "2022-11-06T20:33:26.578Z"
   },
   {
    "duration": 51,
    "start_time": "2022-11-06T20:34:43.428Z"
   },
   {
    "duration": 1277,
    "start_time": "2022-11-06T20:42:38.597Z"
   },
   {
    "duration": 11,
    "start_time": "2022-11-06T20:42:39.875Z"
   },
   {
    "duration": 40,
    "start_time": "2022-11-06T20:42:39.888Z"
   },
   {
    "duration": 5,
    "start_time": "2022-11-06T20:42:39.931Z"
   },
   {
    "duration": 8,
    "start_time": "2022-11-06T20:42:39.938Z"
   },
   {
    "duration": 13,
    "start_time": "2022-11-06T20:42:39.947Z"
   },
   {
    "duration": 13,
    "start_time": "2022-11-06T20:42:39.962Z"
   },
   {
    "duration": 11,
    "start_time": "2022-11-06T20:42:39.977Z"
   },
   {
    "duration": 25,
    "start_time": "2022-11-06T20:42:39.990Z"
   },
   {
    "duration": 13,
    "start_time": "2022-11-06T20:42:40.018Z"
   },
   {
    "duration": 32,
    "start_time": "2022-11-06T20:42:40.032Z"
   },
   {
    "duration": 4,
    "start_time": "2022-11-06T20:42:40.066Z"
   },
   {
    "duration": 28,
    "start_time": "2022-11-06T20:42:40.071Z"
   },
   {
    "duration": 157,
    "start_time": "2022-11-06T20:42:40.100Z"
   },
   {
    "duration": 33,
    "start_time": "2022-11-06T20:42:40.259Z"
   },
   {
    "duration": 120,
    "start_time": "2022-11-06T20:42:40.309Z"
   },
   {
    "duration": 101,
    "start_time": "2022-11-06T20:42:40.431Z"
   },
   {
    "duration": 75,
    "start_time": "2022-11-06T20:42:40.534Z"
   },
   {
    "duration": 33,
    "start_time": "2022-11-06T20:42:40.611Z"
   },
   {
    "duration": 147,
    "start_time": "2022-11-06T20:42:40.645Z"
   },
   {
    "duration": 54,
    "start_time": "2022-11-06T20:42:40.794Z"
   },
   {
    "duration": 37,
    "start_time": "2022-11-06T20:42:40.850Z"
   },
   {
    "duration": 24,
    "start_time": "2022-11-06T20:42:40.888Z"
   },
   {
    "duration": 19,
    "start_time": "2022-11-06T20:42:40.913Z"
   },
   {
    "duration": 23,
    "start_time": "2022-11-06T20:42:40.933Z"
   },
   {
    "duration": 21,
    "start_time": "2022-11-06T20:42:40.957Z"
   },
   {
    "duration": 17,
    "start_time": "2022-11-06T20:42:40.980Z"
   },
   {
    "duration": 12,
    "start_time": "2022-11-06T20:42:41.001Z"
   },
   {
    "duration": 11,
    "start_time": "2022-11-06T20:42:41.015Z"
   },
   {
    "duration": 8,
    "start_time": "2022-11-06T20:42:41.027Z"
   },
   {
    "duration": 7,
    "start_time": "2022-11-06T20:42:41.036Z"
   },
   {
    "duration": 7,
    "start_time": "2022-11-06T20:42:41.045Z"
   },
   {
    "duration": 7,
    "start_time": "2022-11-06T20:42:41.053Z"
   },
   {
    "duration": 10,
    "start_time": "2022-11-06T20:42:41.062Z"
   },
   {
    "duration": 10,
    "start_time": "2022-11-06T20:42:41.074Z"
   },
   {
    "duration": 35,
    "start_time": "2022-11-06T20:42:41.085Z"
   },
   {
    "duration": 7,
    "start_time": "2022-11-06T20:42:41.121Z"
   },
   {
    "duration": 10,
    "start_time": "2022-11-06T20:42:41.130Z"
   },
   {
    "duration": 9,
    "start_time": "2022-11-06T20:42:41.142Z"
   },
   {
    "duration": 9,
    "start_time": "2022-11-06T20:42:41.152Z"
   },
   {
    "duration": 15,
    "start_time": "2022-11-06T20:42:41.162Z"
   },
   {
    "duration": 9,
    "start_time": "2022-11-06T20:42:41.178Z"
   },
   {
    "duration": 23,
    "start_time": "2022-11-06T20:42:41.188Z"
   },
   {
    "duration": 11,
    "start_time": "2022-11-06T20:42:41.212Z"
   },
   {
    "duration": 19,
    "start_time": "2022-11-06T20:42:41.224Z"
   },
   {
    "duration": 9,
    "start_time": "2022-11-06T20:42:41.244Z"
   },
   {
    "duration": 18,
    "start_time": "2022-11-06T20:42:41.254Z"
   },
   {
    "duration": 69,
    "start_time": "2022-11-06T20:42:41.273Z"
   },
   {
    "duration": 17,
    "start_time": "2022-11-06T20:42:41.344Z"
   },
   {
    "duration": 23,
    "start_time": "2022-11-06T20:42:41.362Z"
   },
   {
    "duration": 5,
    "start_time": "2022-11-06T20:42:41.387Z"
   },
   {
    "duration": 78,
    "start_time": "2022-11-06T20:42:41.409Z"
   },
   {
    "duration": 31,
    "start_time": "2022-11-06T20:42:41.489Z"
   },
   {
    "duration": 22,
    "start_time": "2022-11-06T20:42:41.522Z"
   },
   {
    "duration": 21241,
    "start_time": "2022-11-06T20:42:41.546Z"
   },
   {
    "duration": 1176,
    "start_time": "2022-11-06T20:43:02.789Z"
   },
   {
    "duration": 75,
    "start_time": "2022-11-06T20:43:03.966Z"
   },
   {
    "duration": 37,
    "start_time": "2022-11-06T20:43:04.043Z"
   },
   {
    "duration": 38,
    "start_time": "2022-11-06T20:43:04.081Z"
   },
   {
    "duration": 39,
    "start_time": "2022-11-06T20:43:04.120Z"
   },
   {
    "duration": 2036,
    "start_time": "2022-11-06T20:43:04.161Z"
   },
   {
    "duration": 149,
    "start_time": "2022-11-06T20:43:06.199Z"
   },
   {
    "duration": 4,
    "start_time": "2022-11-06T20:43:06.350Z"
   },
   {
    "duration": 13,
    "start_time": "2022-11-06T20:43:06.355Z"
   },
   {
    "duration": 12,
    "start_time": "2022-11-06T20:43:06.369Z"
   },
   {
    "duration": 39,
    "start_time": "2022-11-06T20:43:06.382Z"
   },
   {
    "duration": 4,
    "start_time": "2022-11-06T20:43:06.423Z"
   },
   {
    "duration": 14,
    "start_time": "2022-11-06T20:43:06.429Z"
   },
   {
    "duration": 138,
    "start_time": "2022-11-06T20:43:06.444Z"
   },
   {
    "duration": 135,
    "start_time": "2022-11-06T20:43:06.584Z"
   },
   {
    "duration": 112,
    "start_time": "2022-11-06T20:43:06.721Z"
   },
   {
    "duration": 126,
    "start_time": "2022-11-06T20:43:06.835Z"
   },
   {
    "duration": 116,
    "start_time": "2022-11-06T20:43:06.962Z"
   },
   {
    "duration": 135,
    "start_time": "2022-11-06T20:43:07.080Z"
   },
   {
    "duration": 13,
    "start_time": "2022-11-06T20:43:07.216Z"
   },
   {
    "duration": 9392,
    "start_time": "2022-11-06T20:43:07.230Z"
   },
   {
    "duration": 13,
    "start_time": "2022-11-06T20:43:16.623Z"
   },
   {
    "duration": 13,
    "start_time": "2022-11-06T20:43:16.637Z"
   },
   {
    "duration": 25,
    "start_time": "2022-11-06T20:43:16.652Z"
   },
   {
    "duration": 2,
    "start_time": "2022-11-06T20:43:16.678Z"
   },
   {
    "duration": 81,
    "start_time": "2022-11-09T14:22:51.238Z"
   },
   {
    "duration": 1160,
    "start_time": "2022-12-10T13:08:40.657Z"
   },
   {
    "duration": 228,
    "start_time": "2022-12-10T13:08:41.819Z"
   },
   {
    "duration": 43,
    "start_time": "2022-12-10T13:08:42.049Z"
   },
   {
    "duration": 22,
    "start_time": "2022-12-10T13:08:42.094Z"
   },
   {
    "duration": 9,
    "start_time": "2022-12-10T13:08:42.118Z"
   },
   {
    "duration": 10,
    "start_time": "2022-12-10T13:08:42.128Z"
   },
   {
    "duration": 19,
    "start_time": "2022-12-10T13:08:42.140Z"
   },
   {
    "duration": 40,
    "start_time": "2022-12-10T13:08:42.161Z"
   },
   {
    "duration": 22,
    "start_time": "2022-12-10T13:08:42.203Z"
   },
   {
    "duration": 20,
    "start_time": "2022-12-10T13:08:42.228Z"
   },
   {
    "duration": 22,
    "start_time": "2022-12-10T13:08:42.249Z"
   },
   {
    "duration": 24,
    "start_time": "2022-12-10T13:08:42.297Z"
   },
   {
    "duration": 161,
    "start_time": "2022-12-10T13:08:42.323Z"
   },
   {
    "duration": 21,
    "start_time": "2022-12-10T13:08:42.497Z"
   },
   {
    "duration": 3,
    "start_time": "2022-12-10T13:08:42.520Z"
   },
   {
    "duration": 24,
    "start_time": "2022-12-10T13:08:42.524Z"
   },
   {
    "duration": 154,
    "start_time": "2022-12-10T13:08:42.549Z"
   },
   {
    "duration": 9,
    "start_time": "2022-12-10T13:08:42.705Z"
   },
   {
    "duration": 11,
    "start_time": "2022-12-10T13:08:42.716Z"
   },
   {
    "duration": 19,
    "start_time": "2022-12-10T13:08:42.729Z"
   },
   {
    "duration": 10,
    "start_time": "2022-12-10T13:08:42.750Z"
   },
   {
    "duration": 5,
    "start_time": "2022-12-10T13:08:42.761Z"
   },
   {
    "duration": 157,
    "start_time": "2022-12-10T13:08:42.768Z"
   },
   {
    "duration": 6,
    "start_time": "2022-12-10T13:08:42.926Z"
   },
   {
    "duration": 7,
    "start_time": "2022-12-10T13:08:42.933Z"
   },
   {
    "duration": 8,
    "start_time": "2022-12-10T13:08:42.941Z"
   },
   {
    "duration": 70,
    "start_time": "2022-12-10T13:08:42.951Z"
   },
   {
    "duration": 13,
    "start_time": "2022-12-10T13:08:43.024Z"
   },
   {
    "duration": 7,
    "start_time": "2022-12-10T13:08:43.039Z"
   },
   {
    "duration": 67,
    "start_time": "2022-12-10T13:08:43.047Z"
   },
   {
    "duration": 8,
    "start_time": "2022-12-10T13:08:43.115Z"
   },
   {
    "duration": 5,
    "start_time": "2022-12-10T13:08:43.125Z"
   },
   {
    "duration": 21,
    "start_time": "2022-12-10T13:08:43.131Z"
   },
   {
    "duration": 15,
    "start_time": "2022-12-10T13:08:43.153Z"
   },
   {
    "duration": 41,
    "start_time": "2022-12-10T13:08:43.170Z"
   },
   {
    "duration": 6,
    "start_time": "2022-12-10T13:08:43.213Z"
   },
   {
    "duration": 13,
    "start_time": "2022-12-10T13:08:43.220Z"
   },
   {
    "duration": 242,
    "start_time": "2022-12-10T13:08:43.235Z"
   },
   {
    "duration": 25,
    "start_time": "2022-12-10T13:08:43.478Z"
   },
   {
    "duration": 5,
    "start_time": "2022-12-10T13:08:43.505Z"
   },
   {
    "duration": 84,
    "start_time": "2022-12-10T13:08:43.512Z"
   },
   {
    "duration": 373,
    "start_time": "2022-12-10T13:08:43.598Z"
   },
   {
    "duration": 34,
    "start_time": "2022-12-10T13:08:43.972Z"
   },
   {
    "duration": 15,
    "start_time": "2022-12-10T13:08:44.008Z"
   },
   {
    "duration": 4,
    "start_time": "2022-12-10T13:08:44.025Z"
   },
   {
    "duration": 32,
    "start_time": "2022-12-10T13:08:44.030Z"
   },
   {
    "duration": 46,
    "start_time": "2022-12-10T13:08:44.064Z"
   },
   {
    "duration": 20,
    "start_time": "2022-12-10T13:08:44.112Z"
   },
   {
    "duration": 3,
    "start_time": "2022-12-10T13:08:44.133Z"
   },
   {
    "duration": 14,
    "start_time": "2022-12-10T13:08:44.138Z"
   },
   {
    "duration": 9,
    "start_time": "2022-12-10T13:08:44.154Z"
   },
   {
    "duration": 43,
    "start_time": "2022-12-10T13:08:44.164Z"
   },
   {
    "duration": 3,
    "start_time": "2022-12-10T13:08:44.209Z"
   },
   {
    "duration": 12,
    "start_time": "2022-12-10T13:08:44.214Z"
   },
   {
    "duration": 4,
    "start_time": "2022-12-10T13:08:44.228Z"
   },
   {
    "duration": 17,
    "start_time": "2022-12-10T13:08:44.234Z"
   },
   {
    "duration": 15,
    "start_time": "2022-12-10T13:08:44.253Z"
   },
   {
    "duration": 8,
    "start_time": "2022-12-10T13:08:44.297Z"
   },
   {
    "duration": 9,
    "start_time": "2022-12-10T13:08:44.307Z"
   },
   {
    "duration": 4,
    "start_time": "2022-12-10T13:08:44.317Z"
   },
   {
    "duration": 9,
    "start_time": "2022-12-10T13:08:44.322Z"
   },
   {
    "duration": 16,
    "start_time": "2022-12-10T13:08:44.333Z"
   },
   {
    "duration": 9,
    "start_time": "2022-12-10T13:08:44.350Z"
   },
   {
    "duration": 40,
    "start_time": "2022-12-10T13:08:44.360Z"
   },
   {
    "duration": 15,
    "start_time": "2022-12-10T13:08:44.402Z"
   },
   {
    "duration": 4,
    "start_time": "2022-12-10T13:08:44.419Z"
   },
   {
    "duration": 5,
    "start_time": "2022-12-10T13:08:44.425Z"
   },
   {
    "duration": 5,
    "start_time": "2022-12-10T13:08:44.431Z"
   },
   {
    "duration": 10,
    "start_time": "2022-12-10T13:08:44.437Z"
   },
   {
    "duration": 4,
    "start_time": "2022-12-10T13:08:44.449Z"
   },
   {
    "duration": 7,
    "start_time": "2022-12-10T13:08:44.454Z"
   },
   {
    "duration": 36,
    "start_time": "2022-12-10T13:08:44.462Z"
   },
   {
    "duration": 6,
    "start_time": "2022-12-10T13:08:44.499Z"
   },
   {
    "duration": 16,
    "start_time": "2022-12-10T13:08:44.507Z"
   },
   {
    "duration": 39,
    "start_time": "2022-12-10T13:08:44.525Z"
   },
   {
    "duration": 34,
    "start_time": "2022-12-10T13:08:44.566Z"
   },
   {
    "duration": 30,
    "start_time": "2022-12-10T13:08:44.602Z"
   },
   {
    "duration": 5,
    "start_time": "2022-12-10T13:08:44.634Z"
   },
   {
    "duration": 3,
    "start_time": "2022-12-10T13:08:44.641Z"
   },
   {
    "duration": 23,
    "start_time": "2022-12-10T13:08:44.646Z"
   },
   {
    "duration": 30,
    "start_time": "2022-12-10T13:08:44.671Z"
   },
   {
    "duration": 13,
    "start_time": "2022-12-10T13:08:44.707Z"
   },
   {
    "duration": 4,
    "start_time": "2022-12-10T13:08:44.721Z"
   },
   {
    "duration": 12,
    "start_time": "2022-12-10T13:08:44.727Z"
   },
   {
    "duration": 4,
    "start_time": "2022-12-10T13:08:44.741Z"
   },
   {
    "duration": 19,
    "start_time": "2022-12-10T13:08:44.747Z"
   },
   {
    "duration": 167,
    "start_time": "2022-12-10T13:08:44.768Z"
   },
   {
    "duration": 10,
    "start_time": "2022-12-10T13:08:44.937Z"
   },
   {
    "duration": 19,
    "start_time": "2022-12-10T13:08:44.949Z"
   },
   {
    "duration": 5,
    "start_time": "2022-12-10T13:08:44.969Z"
   },
   {
    "duration": 23,
    "start_time": "2022-12-10T13:08:44.976Z"
   },
   {
    "duration": 26,
    "start_time": "2022-12-10T13:08:45.000Z"
   },
   {
    "duration": 144,
    "start_time": "2022-12-10T13:08:45.028Z"
   },
   {
    "duration": 283,
    "start_time": "2022-12-10T13:08:45.174Z"
   },
   {
    "duration": 216,
    "start_time": "2022-12-10T13:08:45.459Z"
   },
   {
    "duration": 209,
    "start_time": "2022-12-10T13:08:45.677Z"
   },
   {
    "duration": 260,
    "start_time": "2022-12-10T13:08:45.887Z"
   },
   {
    "duration": 17,
    "start_time": "2022-12-10T13:08:46.149Z"
   },
   {
    "duration": 234,
    "start_time": "2022-12-10T13:08:46.168Z"
   },
   {
    "duration": 8,
    "start_time": "2022-12-10T13:08:46.404Z"
   },
   {
    "duration": 10,
    "start_time": "2022-12-10T13:08:46.413Z"
   },
   {
    "duration": 28,
    "start_time": "2022-12-10T13:08:46.424Z"
   },
   {
    "duration": 11,
    "start_time": "2022-12-10T13:08:46.453Z"
   },
   {
    "duration": 182,
    "start_time": "2022-12-10T13:08:46.466Z"
   },
   {
    "duration": 9,
    "start_time": "2022-12-10T13:08:46.650Z"
   },
   {
    "duration": 366,
    "start_time": "2022-12-10T13:08:46.660Z"
   },
   {
    "duration": 267,
    "start_time": "2022-12-10T13:08:47.027Z"
   },
   {
    "duration": 260,
    "start_time": "2022-12-10T13:08:47.296Z"
   },
   {
    "duration": 6,
    "start_time": "2022-12-10T13:08:47.558Z"
   },
   {
    "duration": 12,
    "start_time": "2022-12-10T13:08:47.566Z"
   },
   {
    "duration": 35,
    "start_time": "2022-12-10T13:08:47.579Z"
   },
   {
    "duration": 5,
    "start_time": "2022-12-10T13:08:47.616Z"
   },
   {
    "duration": 6,
    "start_time": "2022-12-10T13:08:47.622Z"
   },
   {
    "duration": 15,
    "start_time": "2022-12-10T13:08:47.630Z"
   },
   {
    "duration": 19,
    "start_time": "2022-12-10T13:08:47.646Z"
   },
   {
    "duration": 65,
    "start_time": "2022-12-10T13:08:47.667Z"
   },
   {
    "duration": 5,
    "start_time": "2022-12-10T13:08:47.733Z"
   },
   {
    "duration": 22,
    "start_time": "2022-12-10T13:08:47.740Z"
   },
   {
    "duration": 10,
    "start_time": "2022-12-10T13:08:47.764Z"
   },
   {
    "duration": 35,
    "start_time": "2022-12-10T13:08:47.776Z"
   },
   {
    "duration": 4827,
    "start_time": "2022-12-10T13:08:47.813Z"
   },
   {
    "duration": 9,
    "start_time": "2022-12-10T13:08:52.641Z"
   },
   {
    "duration": 6,
    "start_time": "2022-12-10T13:08:52.651Z"
   },
   {
    "duration": 2047,
    "start_time": "2022-12-10T13:08:52.659Z"
   },
   {
    "duration": 7,
    "start_time": "2022-12-10T13:08:54.708Z"
   },
   {
    "duration": 15,
    "start_time": "2022-12-10T13:08:54.717Z"
   },
   {
    "duration": 4,
    "start_time": "2022-12-10T13:08:54.733Z"
   },
   {
    "duration": 317,
    "start_time": "2022-12-10T13:08:54.739Z"
   },
   {
    "duration": 5,
    "start_time": "2022-12-10T13:08:55.058Z"
   },
   {
    "duration": 49,
    "start_time": "2022-12-10T13:08:55.064Z"
   },
   {
    "duration": 49,
    "start_time": "2022-12-10T13:08:55.115Z"
   },
   {
    "duration": 36,
    "start_time": "2022-12-10T13:08:55.166Z"
   },
   {
    "duration": 18,
    "start_time": "2022-12-10T13:08:55.205Z"
   },
   {
    "duration": 12,
    "start_time": "2022-12-10T13:08:55.224Z"
   },
   {
    "duration": 48,
    "start_time": "2022-12-10T13:08:55.237Z"
   },
   {
    "duration": 11,
    "start_time": "2022-12-10T13:08:55.287Z"
   },
   {
    "duration": 32,
    "start_time": "2022-12-10T13:08:55.300Z"
   },
   {
    "duration": 12,
    "start_time": "2022-12-10T13:08:55.334Z"
   },
   {
    "duration": 2378,
    "start_time": "2022-12-10T13:08:55.347Z"
   },
   {
    "duration": 28,
    "start_time": "2022-12-10T13:24:52.436Z"
   },
   {
    "duration": 27,
    "start_time": "2022-12-10T13:38:12.187Z"
   },
   {
    "duration": 7,
    "start_time": "2022-12-10T13:38:40.788Z"
   },
   {
    "duration": 13,
    "start_time": "2022-12-10T13:38:48.072Z"
   },
   {
    "duration": 35,
    "start_time": "2022-12-10T13:46:46.573Z"
   },
   {
    "duration": 23,
    "start_time": "2022-12-10T13:46:59.634Z"
   },
   {
    "duration": 26,
    "start_time": "2022-12-10T13:48:17.447Z"
   },
   {
    "duration": 11,
    "start_time": "2022-12-10T13:48:48.442Z"
   },
   {
    "duration": 9,
    "start_time": "2022-12-10T13:48:56.176Z"
   },
   {
    "duration": 4,
    "start_time": "2022-12-10T13:49:11.309Z"
   },
   {
    "duration": 1305,
    "start_time": "2022-12-14T08:30:58.639Z"
   },
   {
    "duration": 368,
    "start_time": "2022-12-14T08:30:59.947Z"
   },
   {
    "duration": 45,
    "start_time": "2022-12-14T08:31:00.317Z"
   },
   {
    "duration": 21,
    "start_time": "2022-12-14T08:31:00.364Z"
   },
   {
    "duration": 40,
    "start_time": "2022-12-14T08:31:00.387Z"
   },
   {
    "duration": 17,
    "start_time": "2022-12-14T08:31:00.429Z"
   },
   {
    "duration": 26,
    "start_time": "2022-12-14T08:31:00.447Z"
   },
   {
    "duration": 35,
    "start_time": "2022-12-14T08:31:00.474Z"
   },
   {
    "duration": 35,
    "start_time": "2022-12-14T08:31:00.511Z"
   },
   {
    "duration": 31,
    "start_time": "2022-12-14T08:31:00.549Z"
   },
   {
    "duration": 26,
    "start_time": "2022-12-14T08:31:00.582Z"
   },
   {
    "duration": 24,
    "start_time": "2022-12-14T08:31:00.610Z"
   },
   {
    "duration": 201,
    "start_time": "2022-12-14T08:31:00.636Z"
   },
   {
    "duration": 20,
    "start_time": "2022-12-14T08:31:00.839Z"
   },
   {
    "duration": 29,
    "start_time": "2022-12-14T08:31:00.860Z"
   },
   {
    "duration": 52,
    "start_time": "2022-12-14T08:31:00.891Z"
   },
   {
    "duration": 49,
    "start_time": "2022-12-14T08:31:00.945Z"
   },
   {
    "duration": 10,
    "start_time": "2022-12-14T08:31:00.996Z"
   },
   {
    "duration": 46,
    "start_time": "2022-12-14T08:31:01.007Z"
   },
   {
    "duration": 25,
    "start_time": "2022-12-14T08:31:01.055Z"
   },
   {
    "duration": 30,
    "start_time": "2022-12-14T08:31:01.082Z"
   },
   {
    "duration": 37,
    "start_time": "2022-12-14T08:31:01.113Z"
   },
   {
    "duration": 32,
    "start_time": "2022-12-14T08:31:01.152Z"
   },
   {
    "duration": 40,
    "start_time": "2022-12-14T08:31:01.186Z"
   },
   {
    "duration": 56,
    "start_time": "2022-12-14T08:31:01.227Z"
   },
   {
    "duration": 7,
    "start_time": "2022-12-14T08:31:01.284Z"
   },
   {
    "duration": 16,
    "start_time": "2022-12-14T08:31:01.293Z"
   },
   {
    "duration": 40,
    "start_time": "2022-12-14T08:31:01.313Z"
   },
   {
    "duration": 46,
    "start_time": "2022-12-14T08:31:01.354Z"
   },
   {
    "duration": 14,
    "start_time": "2022-12-14T08:31:01.403Z"
   },
   {
    "duration": 16,
    "start_time": "2022-12-14T08:31:01.419Z"
   },
   {
    "duration": 49,
    "start_time": "2022-12-14T08:31:01.436Z"
   },
   {
    "duration": 12,
    "start_time": "2022-12-14T08:31:01.486Z"
   },
   {
    "duration": 32,
    "start_time": "2022-12-14T08:31:01.500Z"
   },
   {
    "duration": 47,
    "start_time": "2022-12-14T08:31:01.534Z"
   },
   {
    "duration": 45,
    "start_time": "2022-12-14T08:31:01.583Z"
   },
   {
    "duration": 22,
    "start_time": "2022-12-14T08:31:01.630Z"
   },
   {
    "duration": 30,
    "start_time": "2022-12-14T08:31:01.654Z"
   },
   {
    "duration": 16,
    "start_time": "2022-12-14T08:31:01.685Z"
   },
   {
    "duration": 15,
    "start_time": "2022-12-14T08:31:01.702Z"
   },
   {
    "duration": 29,
    "start_time": "2022-12-14T08:31:01.719Z"
   },
   {
    "duration": 7,
    "start_time": "2022-12-14T08:31:01.750Z"
   },
   {
    "duration": 29,
    "start_time": "2022-12-14T08:31:01.759Z"
   },
   {
    "duration": 54,
    "start_time": "2022-12-14T08:31:01.790Z"
   },
   {
    "duration": 4,
    "start_time": "2022-12-14T08:31:01.846Z"
   },
   {
    "duration": 19,
    "start_time": "2022-12-14T08:31:01.851Z"
   },
   {
    "duration": 3,
    "start_time": "2022-12-14T08:31:01.872Z"
   },
   {
    "duration": 13,
    "start_time": "2022-12-14T08:31:01.876Z"
   },
   {
    "duration": 6,
    "start_time": "2022-12-14T08:31:01.890Z"
   },
   {
    "duration": 10,
    "start_time": "2022-12-14T08:31:01.897Z"
   },
   {
    "duration": 17,
    "start_time": "2022-12-14T08:31:01.909Z"
   },
   {
    "duration": 7,
    "start_time": "2022-12-14T08:31:01.928Z"
   },
   {
    "duration": 10,
    "start_time": "2022-12-14T08:31:01.936Z"
   },
   {
    "duration": 13,
    "start_time": "2022-12-14T08:31:01.948Z"
   },
   {
    "duration": 159,
    "start_time": "2022-12-14T08:31:01.963Z"
   },
   {
    "duration": 10,
    "start_time": "2022-12-14T08:31:02.124Z"
   },
   {
    "duration": 28,
    "start_time": "2022-12-14T08:31:02.136Z"
   },
   {
    "duration": 38,
    "start_time": "2022-12-14T08:31:02.165Z"
   },
   {
    "duration": 102,
    "start_time": "2022-12-14T08:31:02.205Z"
   },
   {
    "duration": 116,
    "start_time": "2022-12-14T08:31:02.310Z"
   },
   {
    "duration": 105,
    "start_time": "2022-12-14T08:31:02.428Z"
   },
   {
    "duration": 124,
    "start_time": "2022-12-14T08:31:02.535Z"
   },
   {
    "duration": 122,
    "start_time": "2022-12-14T08:31:02.661Z"
   },
   {
    "duration": 206,
    "start_time": "2022-12-14T08:31:02.784Z"
   },
   {
    "duration": 134,
    "start_time": "2022-12-14T08:31:02.992Z"
   },
   {
    "duration": 85,
    "start_time": "2022-12-14T08:31:03.127Z"
   },
   {
    "duration": 116,
    "start_time": "2022-12-14T08:31:03.227Z"
   },
   {
    "duration": 94,
    "start_time": "2022-12-14T08:31:03.345Z"
   },
   {
    "duration": 91,
    "start_time": "2022-12-14T08:31:03.440Z"
   },
   {
    "duration": 124,
    "start_time": "2022-12-14T08:31:03.533Z"
   },
   {
    "duration": 103,
    "start_time": "2022-12-14T08:31:03.660Z"
   },
   {
    "duration": 137,
    "start_time": "2022-12-14T08:31:03.764Z"
   },
   {
    "duration": 98,
    "start_time": "2022-12-14T08:31:03.903Z"
   },
   {
    "duration": 9,
    "start_time": "2022-12-14T08:31:04.002Z"
   },
   {
    "duration": 9,
    "start_time": "2022-12-14T08:31:04.027Z"
   },
   {
    "duration": 35,
    "start_time": "2022-12-14T08:31:04.038Z"
   },
   {
    "duration": 12,
    "start_time": "2022-12-14T08:31:04.075Z"
   },
   {
    "duration": 173,
    "start_time": "2022-12-14T08:31:04.089Z"
   },
   {
    "duration": 11,
    "start_time": "2022-12-14T08:31:04.264Z"
   },
   {
    "duration": 352,
    "start_time": "2022-12-14T08:31:04.277Z"
   },
   {
    "duration": 273,
    "start_time": "2022-12-14T08:31:04.631Z"
   },
   {
    "duration": 277,
    "start_time": "2022-12-14T08:31:04.915Z"
   },
   {
    "duration": 6,
    "start_time": "2022-12-14T08:31:05.194Z"
   },
   {
    "duration": 22,
    "start_time": "2022-12-14T08:31:05.201Z"
   },
   {
    "duration": 22,
    "start_time": "2022-12-14T08:31:05.225Z"
   },
   {
    "duration": 13,
    "start_time": "2022-12-14T08:31:05.249Z"
   },
   {
    "duration": 23,
    "start_time": "2022-12-14T08:31:05.263Z"
   },
   {
    "duration": 11,
    "start_time": "2022-12-14T08:31:05.288Z"
   },
   {
    "duration": 22,
    "start_time": "2022-12-14T08:31:05.300Z"
   },
   {
    "duration": 28,
    "start_time": "2022-12-14T08:31:05.324Z"
   },
   {
    "duration": 5,
    "start_time": "2022-12-14T08:31:05.354Z"
   },
   {
    "duration": 33,
    "start_time": "2022-12-14T08:31:05.360Z"
   },
   {
    "duration": 8,
    "start_time": "2022-12-14T08:31:05.394Z"
   },
   {
    "duration": 206,
    "start_time": "2022-12-14T08:31:05.404Z"
   },
   {
    "duration": 14,
    "start_time": "2022-12-14T08:31:05.613Z"
   },
   {
    "duration": 17,
    "start_time": "2022-12-14T08:31:05.629Z"
   },
   {
    "duration": 185,
    "start_time": "2022-12-14T08:31:05.648Z"
   },
   {
    "duration": 1618,
    "start_time": "2022-12-14T08:31:05.835Z"
   },
   {
    "duration": 37,
    "start_time": "2022-12-14T08:46:35.537Z"
   },
   {
    "duration": 20,
    "start_time": "2022-12-14T08:46:48.964Z"
   },
   {
    "duration": 23,
    "start_time": "2022-12-14T08:46:54.537Z"
   },
   {
    "duration": 4,
    "start_time": "2022-12-14T08:58:27.205Z"
   },
   {
    "duration": 25,
    "start_time": "2022-12-14T08:58:51.209Z"
   },
   {
    "duration": 24,
    "start_time": "2022-12-14T09:12:55.641Z"
   },
   {
    "duration": 1238,
    "start_time": "2022-12-16T07:25:07.651Z"
   },
   {
    "duration": 223,
    "start_time": "2022-12-16T07:25:08.891Z"
   },
   {
    "duration": 41,
    "start_time": "2022-12-16T07:25:09.115Z"
   },
   {
    "duration": 18,
    "start_time": "2022-12-16T07:25:09.158Z"
   },
   {
    "duration": 10,
    "start_time": "2022-12-16T07:25:09.178Z"
   },
   {
    "duration": 9,
    "start_time": "2022-12-16T07:25:09.221Z"
   },
   {
    "duration": 15,
    "start_time": "2022-12-16T07:25:09.231Z"
   },
   {
    "duration": 10,
    "start_time": "2022-12-16T07:25:09.248Z"
   },
   {
    "duration": 29,
    "start_time": "2022-12-16T07:25:09.260Z"
   },
   {
    "duration": 14,
    "start_time": "2022-12-16T07:25:09.292Z"
   },
   {
    "duration": 21,
    "start_time": "2022-12-16T07:25:09.308Z"
   },
   {
    "duration": 16,
    "start_time": "2022-12-16T07:25:09.331Z"
   },
   {
    "duration": 210,
    "start_time": "2022-12-16T07:25:09.349Z"
   },
   {
    "duration": 18,
    "start_time": "2022-12-16T07:25:09.561Z"
   },
   {
    "duration": 5,
    "start_time": "2022-12-16T07:25:09.580Z"
   },
   {
    "duration": 27,
    "start_time": "2022-12-16T07:25:09.586Z"
   },
   {
    "duration": 42,
    "start_time": "2022-12-16T07:25:09.614Z"
   },
   {
    "duration": 9,
    "start_time": "2022-12-16T07:25:09.658Z"
   },
   {
    "duration": 26,
    "start_time": "2022-12-16T07:25:09.668Z"
   },
   {
    "duration": 17,
    "start_time": "2022-12-16T07:25:09.695Z"
   },
   {
    "duration": 15,
    "start_time": "2022-12-16T07:25:09.714Z"
   },
   {
    "duration": 13,
    "start_time": "2022-12-16T07:25:09.730Z"
   },
   {
    "duration": 9,
    "start_time": "2022-12-16T07:25:09.744Z"
   },
   {
    "duration": 6,
    "start_time": "2022-12-16T07:25:09.755Z"
   },
   {
    "duration": 24,
    "start_time": "2022-12-16T07:25:09.763Z"
   },
   {
    "duration": 6,
    "start_time": "2022-12-16T07:25:09.788Z"
   },
   {
    "duration": 25,
    "start_time": "2022-12-16T07:25:09.795Z"
   },
   {
    "duration": 5,
    "start_time": "2022-12-16T07:25:09.824Z"
   },
   {
    "duration": 29,
    "start_time": "2022-12-16T07:25:09.831Z"
   },
   {
    "duration": 13,
    "start_time": "2022-12-16T07:25:09.861Z"
   },
   {
    "duration": 14,
    "start_time": "2022-12-16T07:25:09.875Z"
   },
   {
    "duration": 46,
    "start_time": "2022-12-16T07:25:09.890Z"
   },
   {
    "duration": 11,
    "start_time": "2022-12-16T07:25:09.938Z"
   },
   {
    "duration": 20,
    "start_time": "2022-12-16T07:25:09.950Z"
   },
   {
    "duration": 15,
    "start_time": "2022-12-16T07:25:09.971Z"
   },
   {
    "duration": 13,
    "start_time": "2022-12-16T07:25:09.988Z"
   },
   {
    "duration": 12,
    "start_time": "2022-12-16T07:25:10.003Z"
   },
   {
    "duration": 13,
    "start_time": "2022-12-16T07:25:10.020Z"
   },
   {
    "duration": 34,
    "start_time": "2022-12-16T07:25:10.034Z"
   },
   {
    "duration": 18,
    "start_time": "2022-12-16T07:25:10.069Z"
   },
   {
    "duration": 26,
    "start_time": "2022-12-16T07:25:10.089Z"
   },
   {
    "duration": 6,
    "start_time": "2022-12-16T07:25:10.117Z"
   },
   {
    "duration": 7,
    "start_time": "2022-12-16T07:25:10.125Z"
   },
   {
    "duration": 37,
    "start_time": "2022-12-16T07:25:10.133Z"
   },
   {
    "duration": 4,
    "start_time": "2022-12-16T07:25:10.172Z"
   },
   {
    "duration": 52,
    "start_time": "2022-12-16T07:25:10.177Z"
   },
   {
    "duration": 6,
    "start_time": "2022-12-16T07:25:10.230Z"
   },
   {
    "duration": 20,
    "start_time": "2022-12-16T07:25:10.238Z"
   },
   {
    "duration": 20,
    "start_time": "2022-12-16T07:25:10.259Z"
   },
   {
    "duration": 5,
    "start_time": "2022-12-16T07:25:10.280Z"
   },
   {
    "duration": 20,
    "start_time": "2022-12-16T07:25:10.286Z"
   },
   {
    "duration": 9,
    "start_time": "2022-12-16T07:25:10.308Z"
   },
   {
    "duration": 10,
    "start_time": "2022-12-16T07:25:10.318Z"
   },
   {
    "duration": 10,
    "start_time": "2022-12-16T07:25:10.329Z"
   },
   {
    "duration": 151,
    "start_time": "2022-12-16T07:25:10.341Z"
   },
   {
    "duration": 10,
    "start_time": "2022-12-16T07:25:10.493Z"
   },
   {
    "duration": 17,
    "start_time": "2022-12-16T07:25:10.504Z"
   },
   {
    "duration": 33,
    "start_time": "2022-12-16T07:25:10.523Z"
   },
   {
    "duration": 119,
    "start_time": "2022-12-16T07:25:10.558Z"
   },
   {
    "duration": 111,
    "start_time": "2022-12-16T07:25:10.678Z"
   },
   {
    "duration": 100,
    "start_time": "2022-12-16T07:25:10.791Z"
   },
   {
    "duration": 120,
    "start_time": "2022-12-16T07:25:10.892Z"
   },
   {
    "duration": 109,
    "start_time": "2022-12-16T07:25:11.014Z"
   },
   {
    "duration": 172,
    "start_time": "2022-12-16T07:25:11.124Z"
   },
   {
    "duration": 137,
    "start_time": "2022-12-16T07:25:11.297Z"
   },
   {
    "duration": 190,
    "start_time": "2022-12-16T07:25:11.436Z"
   },
   {
    "duration": 204,
    "start_time": "2022-12-16T07:25:11.627Z"
   },
   {
    "duration": 132,
    "start_time": "2022-12-16T07:25:11.832Z"
   },
   {
    "duration": 183,
    "start_time": "2022-12-16T07:25:11.965Z"
   },
   {
    "duration": 199,
    "start_time": "2022-12-16T07:25:12.149Z"
   },
   {
    "duration": 199,
    "start_time": "2022-12-16T07:25:12.350Z"
   },
   {
    "duration": 196,
    "start_time": "2022-12-16T07:25:12.550Z"
   },
   {
    "duration": 199,
    "start_time": "2022-12-16T07:25:12.748Z"
   },
   {
    "duration": 7,
    "start_time": "2022-12-16T07:25:12.949Z"
   },
   {
    "duration": 9,
    "start_time": "2022-12-16T07:25:12.958Z"
   },
   {
    "duration": 25,
    "start_time": "2022-12-16T07:25:13.022Z"
   },
   {
    "duration": 8,
    "start_time": "2022-12-16T07:25:13.049Z"
   },
   {
    "duration": 199,
    "start_time": "2022-12-16T07:25:13.059Z"
   },
   {
    "duration": 10,
    "start_time": "2022-12-16T07:25:13.260Z"
   },
   {
    "duration": 363,
    "start_time": "2022-12-16T07:25:13.271Z"
   },
   {
    "duration": 262,
    "start_time": "2022-12-16T07:25:13.636Z"
   },
   {
    "duration": 265,
    "start_time": "2022-12-16T07:25:13.903Z"
   },
   {
    "duration": 6,
    "start_time": "2022-12-16T07:25:14.169Z"
   },
   {
    "duration": 29,
    "start_time": "2022-12-16T07:25:14.176Z"
   },
   {
    "duration": 4,
    "start_time": "2022-12-16T07:25:14.206Z"
   },
   {
    "duration": 12,
    "start_time": "2022-12-16T07:25:14.211Z"
   },
   {
    "duration": 15,
    "start_time": "2022-12-16T07:25:14.225Z"
   },
   {
    "duration": 16,
    "start_time": "2022-12-16T07:25:14.242Z"
   },
   {
    "duration": 8,
    "start_time": "2022-12-16T07:25:14.260Z"
   },
   {
    "duration": 38,
    "start_time": "2022-12-16T07:25:14.270Z"
   },
   {
    "duration": 7,
    "start_time": "2022-12-16T07:25:14.309Z"
   },
   {
    "duration": 36,
    "start_time": "2022-12-16T07:25:14.318Z"
   },
   {
    "duration": 32,
    "start_time": "2022-12-16T07:25:14.356Z"
   },
   {
    "duration": 170,
    "start_time": "2022-12-16T07:25:14.389Z"
   },
   {
    "duration": 7,
    "start_time": "2022-12-16T07:25:14.561Z"
   },
   {
    "duration": 11,
    "start_time": "2022-12-16T07:25:14.569Z"
   },
   {
    "duration": 204,
    "start_time": "2022-12-16T07:25:14.581Z"
   },
   {
    "duration": 1585,
    "start_time": "2022-12-16T07:25:14.787Z"
   },
   {
    "duration": 29,
    "start_time": "2022-12-16T07:32:35.776Z"
   },
   {
    "duration": 33,
    "start_time": "2022-12-16T07:34:02.669Z"
   },
   {
    "duration": 9,
    "start_time": "2022-12-16T07:34:27.169Z"
   },
   {
    "duration": 98,
    "start_time": "2022-12-16T07:34:37.279Z"
   },
   {
    "duration": 8,
    "start_time": "2022-12-16T07:34:41.139Z"
   },
   {
    "duration": 5,
    "start_time": "2022-12-16T07:36:30.343Z"
   },
   {
    "duration": 5,
    "start_time": "2022-12-16T07:36:38.283Z"
   },
   {
    "duration": 3,
    "start_time": "2022-12-16T07:42:51.259Z"
   },
   {
    "duration": 130,
    "start_time": "2022-12-16T07:42:51.265Z"
   },
   {
    "duration": 37,
    "start_time": "2022-12-16T07:42:51.398Z"
   },
   {
    "duration": 19,
    "start_time": "2022-12-16T07:42:51.436Z"
   },
   {
    "duration": 10,
    "start_time": "2022-12-16T07:42:51.457Z"
   },
   {
    "duration": 9,
    "start_time": "2022-12-16T07:42:51.469Z"
   },
   {
    "duration": 18,
    "start_time": "2022-12-16T07:42:51.521Z"
   },
   {
    "duration": 12,
    "start_time": "2022-12-16T07:42:51.540Z"
   },
   {
    "duration": 23,
    "start_time": "2022-12-16T07:42:51.553Z"
   },
   {
    "duration": 15,
    "start_time": "2022-12-16T07:42:51.578Z"
   },
   {
    "duration": 27,
    "start_time": "2022-12-16T07:42:51.595Z"
   },
   {
    "duration": 16,
    "start_time": "2022-12-16T07:42:51.623Z"
   },
   {
    "duration": 183,
    "start_time": "2022-12-16T07:42:51.641Z"
   },
   {
    "duration": 17,
    "start_time": "2022-12-16T07:42:51.826Z"
   },
   {
    "duration": 3,
    "start_time": "2022-12-16T07:42:51.844Z"
   },
   {
    "duration": 19,
    "start_time": "2022-12-16T07:42:51.848Z"
   },
   {
    "duration": 58,
    "start_time": "2022-12-16T07:42:51.868Z"
   },
   {
    "duration": 9,
    "start_time": "2022-12-16T07:42:51.928Z"
   },
   {
    "duration": 6,
    "start_time": "2022-12-16T07:42:51.939Z"
   },
   {
    "duration": 12,
    "start_time": "2022-12-16T07:42:51.946Z"
   },
   {
    "duration": 9,
    "start_time": "2022-12-16T07:42:51.960Z"
   },
   {
    "duration": 13,
    "start_time": "2022-12-16T07:42:51.971Z"
   },
   {
    "duration": 44,
    "start_time": "2022-12-16T07:42:51.985Z"
   },
   {
    "duration": 6,
    "start_time": "2022-12-16T07:42:52.031Z"
   },
   {
    "duration": 24,
    "start_time": "2022-12-16T07:42:52.038Z"
   },
   {
    "duration": 6,
    "start_time": "2022-12-16T07:42:52.064Z"
   },
   {
    "duration": 13,
    "start_time": "2022-12-16T07:42:52.072Z"
   },
   {
    "duration": 13,
    "start_time": "2022-12-16T07:42:52.087Z"
   },
   {
    "duration": 36,
    "start_time": "2022-12-16T07:42:52.103Z"
   },
   {
    "duration": 14,
    "start_time": "2022-12-16T07:42:52.140Z"
   },
   {
    "duration": 5,
    "start_time": "2022-12-16T07:42:52.156Z"
   },
   {
    "duration": 47,
    "start_time": "2022-12-16T07:42:52.163Z"
   },
   {
    "duration": 15,
    "start_time": "2022-12-16T07:42:52.221Z"
   },
   {
    "duration": 6,
    "start_time": "2022-12-16T07:42:52.238Z"
   },
   {
    "duration": 28,
    "start_time": "2022-12-16T07:42:52.246Z"
   },
   {
    "duration": 11,
    "start_time": "2022-12-16T07:42:52.276Z"
   },
   {
    "duration": 20,
    "start_time": "2022-12-16T07:42:52.289Z"
   },
   {
    "duration": 16,
    "start_time": "2022-12-16T07:42:52.311Z"
   },
   {
    "duration": 15,
    "start_time": "2022-12-16T07:42:52.329Z"
   },
   {
    "duration": 15,
    "start_time": "2022-12-16T07:42:52.346Z"
   },
   {
    "duration": 26,
    "start_time": "2022-12-16T07:42:52.363Z"
   },
   {
    "duration": 33,
    "start_time": "2022-12-16T07:42:52.391Z"
   },
   {
    "duration": 8,
    "start_time": "2022-12-16T07:42:52.426Z"
   },
   {
    "duration": 34,
    "start_time": "2022-12-16T07:42:52.435Z"
   },
   {
    "duration": 4,
    "start_time": "2022-12-16T07:42:52.471Z"
   },
   {
    "duration": 15,
    "start_time": "2022-12-16T07:42:52.477Z"
   },
   {
    "duration": 27,
    "start_time": "2022-12-16T07:42:52.494Z"
   },
   {
    "duration": 14,
    "start_time": "2022-12-16T07:42:52.523Z"
   },
   {
    "duration": 26,
    "start_time": "2022-12-16T08:23:15.663Z"
   },
   {
    "duration": 1414,
    "start_time": "2022-12-25T07:32:23.908Z"
   },
   {
    "duration": 307,
    "start_time": "2022-12-25T07:32:25.324Z"
   },
   {
    "duration": 117,
    "start_time": "2022-12-25T07:32:25.633Z"
   },
   {
    "duration": 93,
    "start_time": "2022-12-25T07:32:25.753Z"
   },
   {
    "duration": 25,
    "start_time": "2022-12-25T07:32:25.848Z"
   },
   {
    "duration": 66,
    "start_time": "2022-12-25T07:32:25.875Z"
   },
   {
    "duration": 27,
    "start_time": "2022-12-25T07:32:25.943Z"
   },
   {
    "duration": 55,
    "start_time": "2022-12-25T07:32:25.971Z"
   },
   {
    "duration": 28,
    "start_time": "2022-12-25T07:32:26.027Z"
   },
   {
    "duration": 64,
    "start_time": "2022-12-25T07:32:26.058Z"
   },
   {
    "duration": 26,
    "start_time": "2022-12-25T07:32:26.124Z"
   },
   {
    "duration": 82,
    "start_time": "2022-12-25T07:32:26.152Z"
   },
   {
    "duration": 617,
    "start_time": "2022-12-25T07:32:26.236Z"
   },
   {
    "duration": 81,
    "start_time": "2022-12-25T07:32:26.855Z"
   },
   {
    "duration": 4,
    "start_time": "2022-12-25T07:32:26.937Z"
   },
   {
    "duration": 87,
    "start_time": "2022-12-25T07:32:26.942Z"
   },
   {
    "duration": 101,
    "start_time": "2022-12-25T07:32:27.031Z"
   },
   {
    "duration": 10,
    "start_time": "2022-12-25T07:32:27.133Z"
   },
   {
    "duration": 21,
    "start_time": "2022-12-25T07:32:27.145Z"
   },
   {
    "duration": 67,
    "start_time": "2022-12-25T07:32:27.168Z"
   },
   {
    "duration": 14,
    "start_time": "2022-12-25T07:32:27.238Z"
   },
   {
    "duration": 79,
    "start_time": "2022-12-25T07:32:27.254Z"
   },
   {
    "duration": 11,
    "start_time": "2022-12-25T07:32:27.334Z"
   },
   {
    "duration": 10,
    "start_time": "2022-12-25T07:32:27.347Z"
   },
   {
    "duration": 69,
    "start_time": "2022-12-25T07:32:27.359Z"
   },
   {
    "duration": 10,
    "start_time": "2022-12-25T07:32:27.430Z"
   },
   {
    "duration": 20,
    "start_time": "2022-12-25T07:32:27.441Z"
   },
   {
    "duration": 57,
    "start_time": "2022-12-25T07:32:27.467Z"
   },
   {
    "duration": 112,
    "start_time": "2022-12-25T07:32:27.526Z"
   },
   {
    "duration": 22,
    "start_time": "2022-12-25T07:32:27.641Z"
   },
   {
    "duration": 61,
    "start_time": "2022-12-25T07:32:27.666Z"
   },
   {
    "duration": 39,
    "start_time": "2022-12-25T07:32:27.728Z"
   },
   {
    "duration": 16,
    "start_time": "2022-12-25T07:32:27.823Z"
   },
   {
    "duration": 17,
    "start_time": "2022-12-25T07:32:27.841Z"
   },
   {
    "duration": 67,
    "start_time": "2022-12-25T07:32:27.860Z"
   },
   {
    "duration": 13,
    "start_time": "2022-12-25T07:32:27.929Z"
   },
   {
    "duration": 8,
    "start_time": "2022-12-25T07:32:27.944Z"
   },
   {
    "duration": 70,
    "start_time": "2022-12-25T07:32:27.955Z"
   },
   {
    "duration": 20,
    "start_time": "2022-12-25T07:32:28.028Z"
   },
   {
    "duration": 80,
    "start_time": "2022-12-25T07:32:28.050Z"
   },
   {
    "duration": 95,
    "start_time": "2022-12-25T07:32:28.132Z"
   },
   {
    "duration": 97,
    "start_time": "2022-12-25T07:32:28.229Z"
   },
   {
    "duration": 0,
    "start_time": "2022-12-25T07:32:28.329Z"
   },
   {
    "duration": 0,
    "start_time": "2022-12-25T07:32:28.331Z"
   },
   {
    "duration": 0,
    "start_time": "2022-12-25T07:32:28.333Z"
   },
   {
    "duration": 0,
    "start_time": "2022-12-25T07:32:28.334Z"
   },
   {
    "duration": 0,
    "start_time": "2022-12-25T07:32:28.337Z"
   },
   {
    "duration": 0,
    "start_time": "2022-12-25T07:32:28.338Z"
   },
   {
    "duration": 0,
    "start_time": "2022-12-25T07:32:28.339Z"
   },
   {
    "duration": 0,
    "start_time": "2022-12-25T07:32:28.341Z"
   },
   {
    "duration": 0,
    "start_time": "2022-12-25T07:32:28.342Z"
   },
   {
    "duration": 0,
    "start_time": "2022-12-25T07:32:28.344Z"
   },
   {
    "duration": 0,
    "start_time": "2022-12-25T07:32:28.345Z"
   },
   {
    "duration": 0,
    "start_time": "2022-12-25T07:32:28.346Z"
   },
   {
    "duration": 0,
    "start_time": "2022-12-25T07:32:28.347Z"
   },
   {
    "duration": 0,
    "start_time": "2022-12-25T07:32:28.349Z"
   },
   {
    "duration": 0,
    "start_time": "2022-12-25T07:32:28.349Z"
   },
   {
    "duration": 0,
    "start_time": "2022-12-25T07:32:28.351Z"
   },
   {
    "duration": 0,
    "start_time": "2022-12-25T07:32:28.352Z"
   },
   {
    "duration": 0,
    "start_time": "2022-12-25T07:32:28.353Z"
   },
   {
    "duration": 0,
    "start_time": "2022-12-25T07:32:28.355Z"
   },
   {
    "duration": 0,
    "start_time": "2022-12-25T07:32:28.356Z"
   },
   {
    "duration": 0,
    "start_time": "2022-12-25T07:32:28.357Z"
   },
   {
    "duration": 0,
    "start_time": "2022-12-25T07:32:28.359Z"
   },
   {
    "duration": 0,
    "start_time": "2022-12-25T07:32:28.360Z"
   },
   {
    "duration": 0,
    "start_time": "2022-12-25T07:32:28.361Z"
   },
   {
    "duration": 0,
    "start_time": "2022-12-25T07:32:28.362Z"
   },
   {
    "duration": 0,
    "start_time": "2022-12-25T07:32:28.423Z"
   },
   {
    "duration": 0,
    "start_time": "2022-12-25T07:32:28.424Z"
   },
   {
    "duration": 0,
    "start_time": "2022-12-25T07:32:28.426Z"
   },
   {
    "duration": 0,
    "start_time": "2022-12-25T07:32:28.427Z"
   },
   {
    "duration": 0,
    "start_time": "2022-12-25T07:32:28.428Z"
   },
   {
    "duration": 0,
    "start_time": "2022-12-25T07:32:28.430Z"
   },
   {
    "duration": 0,
    "start_time": "2022-12-25T07:32:28.431Z"
   },
   {
    "duration": 0,
    "start_time": "2022-12-25T07:32:28.432Z"
   },
   {
    "duration": 0,
    "start_time": "2022-12-25T07:32:28.434Z"
   },
   {
    "duration": 0,
    "start_time": "2022-12-25T07:32:28.435Z"
   },
   {
    "duration": 0,
    "start_time": "2022-12-25T07:32:28.436Z"
   },
   {
    "duration": 0,
    "start_time": "2022-12-25T07:32:28.437Z"
   },
   {
    "duration": 0,
    "start_time": "2022-12-25T07:32:28.439Z"
   },
   {
    "duration": 0,
    "start_time": "2022-12-25T07:32:28.440Z"
   },
   {
    "duration": 0,
    "start_time": "2022-12-25T07:32:28.441Z"
   },
   {
    "duration": 0,
    "start_time": "2022-12-25T07:32:28.443Z"
   },
   {
    "duration": 0,
    "start_time": "2022-12-25T07:32:28.444Z"
   },
   {
    "duration": 0,
    "start_time": "2022-12-25T07:32:28.446Z"
   },
   {
    "duration": 0,
    "start_time": "2022-12-25T07:32:28.447Z"
   },
   {
    "duration": 1,
    "start_time": "2022-12-25T07:32:28.448Z"
   },
   {
    "duration": 0,
    "start_time": "2022-12-25T07:32:28.450Z"
   },
   {
    "duration": 0,
    "start_time": "2022-12-25T07:32:28.451Z"
   },
   {
    "duration": 0,
    "start_time": "2022-12-25T07:32:28.453Z"
   },
   {
    "duration": 0,
    "start_time": "2022-12-25T07:32:28.454Z"
   },
   {
    "duration": 0,
    "start_time": "2022-12-25T07:32:28.455Z"
   },
   {
    "duration": 0,
    "start_time": "2022-12-25T07:32:28.456Z"
   },
   {
    "duration": 0,
    "start_time": "2022-12-25T07:32:28.458Z"
   },
   {
    "duration": 0,
    "start_time": "2022-12-25T07:32:28.459Z"
   },
   {
    "duration": 0,
    "start_time": "2022-12-25T07:32:28.460Z"
   },
   {
    "duration": 0,
    "start_time": "2022-12-25T07:32:28.524Z"
   },
   {
    "duration": 0,
    "start_time": "2022-12-25T07:32:28.525Z"
   },
   {
    "duration": 0,
    "start_time": "2022-12-25T07:32:28.527Z"
   },
   {
    "duration": 0,
    "start_time": "2022-12-25T07:32:28.528Z"
   },
   {
    "duration": 7,
    "start_time": "2022-12-25T07:34:05.119Z"
   },
   {
    "duration": 4,
    "start_time": "2022-12-25T07:34:05.128Z"
   },
   {
    "duration": 37,
    "start_time": "2022-12-25T07:34:05.133Z"
   },
   {
    "duration": 4,
    "start_time": "2022-12-25T07:34:05.172Z"
   },
   {
    "duration": 45,
    "start_time": "2022-12-25T07:34:05.178Z"
   },
   {
    "duration": 4,
    "start_time": "2022-12-25T07:34:05.225Z"
   },
   {
    "duration": 11,
    "start_time": "2022-12-25T07:34:05.230Z"
   },
   {
    "duration": 5,
    "start_time": "2022-12-25T07:34:05.242Z"
   },
   {
    "duration": 7,
    "start_time": "2022-12-25T07:34:05.249Z"
   },
   {
    "duration": 5,
    "start_time": "2022-12-25T07:34:05.258Z"
   },
   {
    "duration": 57,
    "start_time": "2022-12-25T07:34:05.265Z"
   },
   {
    "duration": 5,
    "start_time": "2022-12-25T07:34:05.324Z"
   },
   {
    "duration": 7,
    "start_time": "2022-12-25T07:34:05.331Z"
   },
   {
    "duration": 195,
    "start_time": "2022-12-25T07:34:05.340Z"
   },
   {
    "duration": 12,
    "start_time": "2022-12-25T07:34:05.536Z"
   },
   {
    "duration": 39,
    "start_time": "2022-12-25T07:34:05.549Z"
   },
   {
    "duration": 131,
    "start_time": "2022-12-25T07:34:05.590Z"
   },
   {
    "duration": 121,
    "start_time": "2022-12-25T07:34:05.723Z"
   },
   {
    "duration": 131,
    "start_time": "2022-12-25T07:34:05.846Z"
   },
   {
    "duration": 125,
    "start_time": "2022-12-25T07:34:05.979Z"
   },
   {
    "duration": 117,
    "start_time": "2022-12-25T07:34:06.107Z"
   },
   {
    "duration": 235,
    "start_time": "2022-12-25T07:34:06.227Z"
   },
   {
    "duration": 104,
    "start_time": "2022-12-25T07:34:06.464Z"
   },
   {
    "duration": 185,
    "start_time": "2022-12-25T07:34:06.570Z"
   },
   {
    "duration": 278,
    "start_time": "2022-12-25T07:34:06.757Z"
   },
   {
    "duration": 288,
    "start_time": "2022-12-25T07:34:07.037Z"
   },
   {
    "duration": 137,
    "start_time": "2022-12-25T07:34:07.327Z"
   },
   {
    "duration": 275,
    "start_time": "2022-12-25T07:34:07.466Z"
   },
   {
    "duration": 216,
    "start_time": "2022-12-25T07:34:07.743Z"
   },
   {
    "duration": 270,
    "start_time": "2022-12-25T07:34:07.960Z"
   },
   {
    "duration": 220,
    "start_time": "2022-12-25T07:34:08.232Z"
   },
   {
    "duration": 8,
    "start_time": "2022-12-25T07:34:08.453Z"
   },
   {
    "duration": 60,
    "start_time": "2022-12-25T07:34:08.463Z"
   },
   {
    "duration": 43,
    "start_time": "2022-12-25T07:34:08.525Z"
   },
   {
    "duration": 55,
    "start_time": "2022-12-25T07:34:08.570Z"
   },
   {
    "duration": 200,
    "start_time": "2022-12-25T07:34:08.626Z"
   },
   {
    "duration": 0,
    "start_time": "2022-12-25T07:34:08.828Z"
   },
   {
    "duration": 0,
    "start_time": "2022-12-25T07:34:08.829Z"
   },
   {
    "duration": 0,
    "start_time": "2022-12-25T07:34:08.830Z"
   },
   {
    "duration": 0,
    "start_time": "2022-12-25T07:34:08.831Z"
   },
   {
    "duration": 0,
    "start_time": "2022-12-25T07:34:08.833Z"
   },
   {
    "duration": 0,
    "start_time": "2022-12-25T07:34:08.834Z"
   },
   {
    "duration": 0,
    "start_time": "2022-12-25T07:34:08.835Z"
   },
   {
    "duration": 0,
    "start_time": "2022-12-25T07:34:08.836Z"
   },
   {
    "duration": 0,
    "start_time": "2022-12-25T07:34:08.837Z"
   },
   {
    "duration": 0,
    "start_time": "2022-12-25T07:34:08.839Z"
   },
   {
    "duration": 0,
    "start_time": "2022-12-25T07:34:08.840Z"
   },
   {
    "duration": 0,
    "start_time": "2022-12-25T07:34:08.841Z"
   },
   {
    "duration": 0,
    "start_time": "2022-12-25T07:34:08.842Z"
   },
   {
    "duration": 0,
    "start_time": "2022-12-25T07:34:08.843Z"
   },
   {
    "duration": 0,
    "start_time": "2022-12-25T07:34:08.844Z"
   },
   {
    "duration": 0,
    "start_time": "2022-12-25T07:34:08.846Z"
   },
   {
    "duration": 0,
    "start_time": "2022-12-25T07:34:08.847Z"
   },
   {
    "duration": 0,
    "start_time": "2022-12-25T07:34:08.848Z"
   },
   {
    "duration": 0,
    "start_time": "2022-12-25T07:34:08.849Z"
   },
   {
    "duration": 0,
    "start_time": "2022-12-25T07:34:08.850Z"
   },
   {
    "duration": 0,
    "start_time": "2022-12-25T07:34:08.852Z"
   },
   {
    "duration": 0,
    "start_time": "2022-12-25T07:34:08.853Z"
   },
   {
    "duration": 33,
    "start_time": "2022-12-25T07:37:43.772Z"
   },
   {
    "duration": 172,
    "start_time": "2022-12-25T07:40:34.518Z"
   },
   {
    "duration": 10,
    "start_time": "2022-12-25T07:44:13.330Z"
   },
   {
    "duration": 374,
    "start_time": "2022-12-25T07:45:15.138Z"
   },
   {
    "duration": 11,
    "start_time": "2022-12-25T07:47:34.662Z"
   },
   {
    "duration": 303,
    "start_time": "2022-12-25T07:47:34.793Z"
   },
   {
    "duration": 286,
    "start_time": "2022-12-25T07:47:35.098Z"
   },
   {
    "duration": 1407,
    "start_time": "2022-12-28T18:37:04.403Z"
   },
   {
    "duration": 763,
    "start_time": "2022-12-28T18:37:05.813Z"
   },
   {
    "duration": 48,
    "start_time": "2022-12-28T18:37:06.583Z"
   },
   {
    "duration": 21,
    "start_time": "2022-12-28T18:37:06.634Z"
   },
   {
    "duration": 15,
    "start_time": "2022-12-28T18:37:06.683Z"
   },
   {
    "duration": 9,
    "start_time": "2022-12-28T18:37:06.701Z"
   },
   {
    "duration": 17,
    "start_time": "2022-12-28T18:37:06.711Z"
   },
   {
    "duration": 8,
    "start_time": "2022-12-28T18:37:06.729Z"
   },
   {
    "duration": 17,
    "start_time": "2022-12-28T18:37:06.739Z"
   },
   {
    "duration": 22,
    "start_time": "2022-12-28T18:37:06.778Z"
   },
   {
    "duration": 17,
    "start_time": "2022-12-28T18:37:06.801Z"
   },
   {
    "duration": 17,
    "start_time": "2022-12-28T18:37:06.820Z"
   },
   {
    "duration": 244,
    "start_time": "2022-12-28T18:37:06.838Z"
   },
   {
    "duration": 26,
    "start_time": "2022-12-28T18:37:07.083Z"
   },
   {
    "duration": 3,
    "start_time": "2022-12-28T18:37:07.110Z"
   },
   {
    "duration": 21,
    "start_time": "2022-12-28T18:37:07.115Z"
   },
   {
    "duration": 68,
    "start_time": "2022-12-28T18:37:07.138Z"
   },
   {
    "duration": 10,
    "start_time": "2022-12-28T18:37:07.207Z"
   },
   {
    "duration": 11,
    "start_time": "2022-12-28T18:37:07.219Z"
   },
   {
    "duration": 16,
    "start_time": "2022-12-28T18:37:07.231Z"
   },
   {
    "duration": 32,
    "start_time": "2022-12-28T18:37:07.249Z"
   },
   {
    "duration": 18,
    "start_time": "2022-12-28T18:37:07.283Z"
   },
   {
    "duration": 18,
    "start_time": "2022-12-28T18:37:07.303Z"
   },
   {
    "duration": 8,
    "start_time": "2022-12-28T18:37:07.323Z"
   },
   {
    "duration": 58,
    "start_time": "2022-12-28T18:37:07.333Z"
   },
   {
    "duration": 9,
    "start_time": "2022-12-28T18:37:07.393Z"
   },
   {
    "duration": 11,
    "start_time": "2022-12-28T18:37:07.404Z"
   },
   {
    "duration": 7,
    "start_time": "2022-12-28T18:37:07.419Z"
   },
   {
    "duration": 52,
    "start_time": "2022-12-28T18:37:07.428Z"
   },
   {
    "duration": 18,
    "start_time": "2022-12-28T18:37:07.482Z"
   },
   {
    "duration": 11,
    "start_time": "2022-12-28T18:37:07.502Z"
   },
   {
    "duration": 34,
    "start_time": "2022-12-28T18:37:07.515Z"
   },
   {
    "duration": 30,
    "start_time": "2022-12-28T18:37:07.552Z"
   },
   {
    "duration": 7,
    "start_time": "2022-12-28T18:37:07.584Z"
   },
   {
    "duration": 20,
    "start_time": "2022-12-28T18:37:07.593Z"
   },
   {
    "duration": 15,
    "start_time": "2022-12-28T18:37:07.615Z"
   },
   {
    "duration": 36,
    "start_time": "2022-12-28T18:37:07.632Z"
   },
   {
    "duration": 50,
    "start_time": "2022-12-28T18:37:07.670Z"
   },
   {
    "duration": 40,
    "start_time": "2022-12-28T18:37:07.722Z"
   },
   {
    "duration": 47,
    "start_time": "2022-12-28T18:37:07.764Z"
   },
   {
    "duration": 57,
    "start_time": "2022-12-28T18:37:07.812Z"
   },
   {
    "duration": 39,
    "start_time": "2022-12-28T18:37:07.871Z"
   },
   {
    "duration": 14,
    "start_time": "2022-12-28T18:37:07.912Z"
   },
   {
    "duration": 33,
    "start_time": "2022-12-28T18:37:07.928Z"
   },
   {
    "duration": 5,
    "start_time": "2022-12-28T18:37:07.963Z"
   },
   {
    "duration": 26,
    "start_time": "2022-12-28T18:37:07.970Z"
   },
   {
    "duration": 5,
    "start_time": "2022-12-28T18:37:07.998Z"
   },
   {
    "duration": 13,
    "start_time": "2022-12-28T18:37:08.004Z"
   },
   {
    "duration": 9,
    "start_time": "2022-12-28T18:37:08.019Z"
   },
   {
    "duration": 8,
    "start_time": "2022-12-28T18:37:08.030Z"
   },
   {
    "duration": 6,
    "start_time": "2022-12-28T18:37:08.039Z"
   },
   {
    "duration": 43,
    "start_time": "2022-12-28T18:37:08.047Z"
   },
   {
    "duration": 5,
    "start_time": "2022-12-28T18:37:08.092Z"
   },
   {
    "duration": 9,
    "start_time": "2022-12-28T18:37:08.099Z"
   },
   {
    "duration": 189,
    "start_time": "2022-12-28T18:37:08.109Z"
   },
   {
    "duration": 15,
    "start_time": "2022-12-28T18:37:08.300Z"
   },
   {
    "duration": 52,
    "start_time": "2022-12-28T18:37:08.317Z"
   },
   {
    "duration": 136,
    "start_time": "2022-12-28T18:37:08.372Z"
   },
   {
    "duration": 120,
    "start_time": "2022-12-28T18:37:08.510Z"
   },
   {
    "duration": 120,
    "start_time": "2022-12-28T18:37:08.632Z"
   },
   {
    "duration": 151,
    "start_time": "2022-12-28T18:37:08.754Z"
   },
   {
    "duration": 135,
    "start_time": "2022-12-28T18:37:08.906Z"
   },
   {
    "duration": 205,
    "start_time": "2022-12-28T18:37:09.042Z"
   },
   {
    "duration": 113,
    "start_time": "2022-12-28T18:37:09.248Z"
   },
   {
    "duration": 101,
    "start_time": "2022-12-28T18:37:09.363Z"
   },
   {
    "duration": 176,
    "start_time": "2022-12-28T18:37:09.466Z"
   },
   {
    "duration": 108,
    "start_time": "2022-12-28T18:37:09.644Z"
   },
   {
    "duration": 107,
    "start_time": "2022-12-28T18:37:09.753Z"
   },
   {
    "duration": 138,
    "start_time": "2022-12-28T18:37:09.861Z"
   },
   {
    "duration": 114,
    "start_time": "2022-12-28T18:37:10.001Z"
   },
   {
    "duration": 110,
    "start_time": "2022-12-28T18:37:10.117Z"
   },
   {
    "duration": 131,
    "start_time": "2022-12-28T18:37:10.229Z"
   },
   {
    "duration": 9,
    "start_time": "2022-12-28T18:37:10.362Z"
   },
   {
    "duration": 22,
    "start_time": "2022-12-28T18:37:10.372Z"
   },
   {
    "duration": 34,
    "start_time": "2022-12-28T18:37:10.395Z"
   },
   {
    "duration": 9,
    "start_time": "2022-12-28T18:37:10.431Z"
   },
   {
    "duration": 1399,
    "start_time": "2022-12-30T12:39:09.473Z"
   },
   {
    "duration": 504,
    "start_time": "2022-12-30T12:39:10.874Z"
   },
   {
    "duration": 101,
    "start_time": "2022-12-30T12:39:11.379Z"
   },
   {
    "duration": 26,
    "start_time": "2022-12-30T12:39:11.482Z"
   },
   {
    "duration": 75,
    "start_time": "2022-12-30T12:39:11.509Z"
   },
   {
    "duration": 10,
    "start_time": "2022-12-30T12:39:11.585Z"
   },
   {
    "duration": 32,
    "start_time": "2022-12-30T12:39:11.596Z"
   },
   {
    "duration": 51,
    "start_time": "2022-12-30T12:39:11.630Z"
   },
   {
    "duration": 33,
    "start_time": "2022-12-30T12:39:11.683Z"
   },
   {
    "duration": 69,
    "start_time": "2022-12-30T12:39:11.718Z"
   },
   {
    "duration": 22,
    "start_time": "2022-12-30T12:39:11.789Z"
   },
   {
    "duration": 79,
    "start_time": "2022-12-30T12:39:11.814Z"
   },
   {
    "duration": 427,
    "start_time": "2022-12-30T12:39:11.895Z"
   },
   {
    "duration": 69,
    "start_time": "2022-12-30T12:39:12.324Z"
   },
   {
    "duration": 4,
    "start_time": "2022-12-30T12:39:12.394Z"
   },
   {
    "duration": 25,
    "start_time": "2022-12-30T12:39:12.400Z"
   },
   {
    "duration": 89,
    "start_time": "2022-12-30T12:39:12.427Z"
   },
   {
    "duration": 9,
    "start_time": "2022-12-30T12:39:12.518Z"
   },
   {
    "duration": 11,
    "start_time": "2022-12-30T12:39:12.528Z"
   },
   {
    "duration": 13,
    "start_time": "2022-12-30T12:39:12.541Z"
   },
   {
    "duration": 11,
    "start_time": "2022-12-30T12:39:12.577Z"
   },
   {
    "duration": 26,
    "start_time": "2022-12-30T12:39:12.590Z"
   },
   {
    "duration": 13,
    "start_time": "2022-12-30T12:39:12.619Z"
   },
   {
    "duration": 7,
    "start_time": "2022-12-30T12:39:12.634Z"
   },
   {
    "duration": 47,
    "start_time": "2022-12-30T12:39:12.643Z"
   },
   {
    "duration": 7,
    "start_time": "2022-12-30T12:39:12.692Z"
   },
   {
    "duration": 6,
    "start_time": "2022-12-30T12:39:12.701Z"
   },
   {
    "duration": 6,
    "start_time": "2022-12-30T12:39:12.712Z"
   },
   {
    "duration": 62,
    "start_time": "2022-12-30T12:39:12.720Z"
   },
   {
    "duration": 14,
    "start_time": "2022-12-30T12:39:12.784Z"
   },
   {
    "duration": 8,
    "start_time": "2022-12-30T12:39:12.800Z"
   },
   {
    "duration": 29,
    "start_time": "2022-12-30T12:39:12.809Z"
   },
   {
    "duration": 39,
    "start_time": "2022-12-30T12:39:12.840Z"
   },
   {
    "duration": 7,
    "start_time": "2022-12-30T12:39:12.881Z"
   },
   {
    "duration": 16,
    "start_time": "2022-12-30T12:39:12.889Z"
   },
   {
    "duration": 11,
    "start_time": "2022-12-30T12:39:12.907Z"
   },
   {
    "duration": 12,
    "start_time": "2022-12-30T12:39:12.920Z"
   },
   {
    "duration": 12,
    "start_time": "2022-12-30T12:39:12.933Z"
   },
   {
    "duration": 38,
    "start_time": "2022-12-30T12:39:12.947Z"
   },
   {
    "duration": 19,
    "start_time": "2022-12-30T12:39:12.987Z"
   },
   {
    "duration": 28,
    "start_time": "2022-12-30T12:39:13.008Z"
   },
   {
    "duration": 6,
    "start_time": "2022-12-30T12:39:13.037Z"
   },
   {
    "duration": 4,
    "start_time": "2022-12-30T12:39:13.044Z"
   },
   {
    "duration": 56,
    "start_time": "2022-12-30T12:39:13.049Z"
   },
   {
    "duration": 4,
    "start_time": "2022-12-30T12:39:13.106Z"
   },
   {
    "duration": 15,
    "start_time": "2022-12-30T12:39:13.112Z"
   },
   {
    "duration": 8,
    "start_time": "2022-12-30T12:39:13.129Z"
   },
   {
    "duration": 11,
    "start_time": "2022-12-30T12:39:13.138Z"
   },
   {
    "duration": 30,
    "start_time": "2022-12-30T12:39:13.150Z"
   },
   {
    "duration": 7,
    "start_time": "2022-12-30T12:39:13.183Z"
   },
   {
    "duration": 6,
    "start_time": "2022-12-30T12:39:13.192Z"
   },
   {
    "duration": 16,
    "start_time": "2022-12-30T12:39:13.199Z"
   },
   {
    "duration": 8,
    "start_time": "2022-12-30T12:39:13.217Z"
   },
   {
    "duration": 8,
    "start_time": "2022-12-30T12:39:13.226Z"
   },
   {
    "duration": 183,
    "start_time": "2022-12-30T12:39:13.236Z"
   },
   {
    "duration": 11,
    "start_time": "2022-12-30T12:39:13.421Z"
   },
   {
    "duration": 113,
    "start_time": "2022-12-30T12:39:13.434Z"
   },
   {
    "duration": 0,
    "start_time": "2022-12-30T12:39:13.550Z"
   },
   {
    "duration": 0,
    "start_time": "2022-12-30T12:39:13.551Z"
   },
   {
    "duration": 0,
    "start_time": "2022-12-30T12:39:13.553Z"
   },
   {
    "duration": 0,
    "start_time": "2022-12-30T12:39:13.554Z"
   },
   {
    "duration": 0,
    "start_time": "2022-12-30T12:39:13.555Z"
   },
   {
    "duration": 0,
    "start_time": "2022-12-30T12:39:13.556Z"
   },
   {
    "duration": 0,
    "start_time": "2022-12-30T12:39:13.557Z"
   },
   {
    "duration": 0,
    "start_time": "2022-12-30T12:39:13.558Z"
   },
   {
    "duration": 0,
    "start_time": "2022-12-30T12:39:13.559Z"
   },
   {
    "duration": 0,
    "start_time": "2022-12-30T12:39:13.560Z"
   },
   {
    "duration": 0,
    "start_time": "2022-12-30T12:39:13.561Z"
   },
   {
    "duration": 0,
    "start_time": "2022-12-30T12:39:13.562Z"
   },
   {
    "duration": 0,
    "start_time": "2022-12-30T12:39:13.564Z"
   },
   {
    "duration": 0,
    "start_time": "2022-12-30T12:39:13.565Z"
   },
   {
    "duration": 0,
    "start_time": "2022-12-30T12:39:13.566Z"
   },
   {
    "duration": 0,
    "start_time": "2022-12-30T12:39:13.567Z"
   },
   {
    "duration": 0,
    "start_time": "2022-12-30T12:39:13.568Z"
   },
   {
    "duration": 0,
    "start_time": "2022-12-30T12:39:13.569Z"
   },
   {
    "duration": 0,
    "start_time": "2022-12-30T12:39:13.571Z"
   },
   {
    "duration": 0,
    "start_time": "2022-12-30T12:39:13.571Z"
   },
   {
    "duration": 0,
    "start_time": "2022-12-30T12:39:13.572Z"
   },
   {
    "duration": 0,
    "start_time": "2022-12-30T12:39:13.574Z"
   },
   {
    "duration": 0,
    "start_time": "2022-12-30T12:39:13.575Z"
   },
   {
    "duration": 0,
    "start_time": "2022-12-30T12:39:13.576Z"
   },
   {
    "duration": 0,
    "start_time": "2022-12-30T12:39:13.577Z"
   },
   {
    "duration": 0,
    "start_time": "2022-12-30T12:39:13.578Z"
   },
   {
    "duration": 0,
    "start_time": "2022-12-30T12:39:13.579Z"
   },
   {
    "duration": 0,
    "start_time": "2022-12-30T12:39:13.580Z"
   },
   {
    "duration": 0,
    "start_time": "2022-12-30T12:39:13.581Z"
   },
   {
    "duration": 0,
    "start_time": "2022-12-30T12:39:13.582Z"
   },
   {
    "duration": 0,
    "start_time": "2022-12-30T12:39:13.583Z"
   },
   {
    "duration": 0,
    "start_time": "2022-12-30T12:39:13.585Z"
   },
   {
    "duration": 0,
    "start_time": "2022-12-30T12:39:13.585Z"
   },
   {
    "duration": 0,
    "start_time": "2022-12-30T12:39:13.587Z"
   },
   {
    "duration": 0,
    "start_time": "2022-12-30T12:39:13.588Z"
   },
   {
    "duration": 0,
    "start_time": "2022-12-30T12:39:13.589Z"
   },
   {
    "duration": 0,
    "start_time": "2022-12-30T12:39:13.590Z"
   },
   {
    "duration": 0,
    "start_time": "2022-12-30T12:39:13.591Z"
   },
   {
    "duration": 0,
    "start_time": "2022-12-30T12:39:13.592Z"
   },
   {
    "duration": 0,
    "start_time": "2022-12-30T12:39:13.593Z"
   },
   {
    "duration": 0,
    "start_time": "2022-12-30T12:39:13.594Z"
   },
   {
    "duration": 0,
    "start_time": "2022-12-30T12:39:13.595Z"
   },
   {
    "duration": 0,
    "start_time": "2022-12-30T12:39:13.596Z"
   },
   {
    "duration": 0,
    "start_time": "2022-12-30T12:39:13.597Z"
   },
   {
    "duration": 0,
    "start_time": "2022-12-30T12:39:13.598Z"
   },
   {
    "duration": 0,
    "start_time": "2022-12-30T12:39:13.599Z"
   },
   {
    "duration": 0,
    "start_time": "2022-12-30T12:39:13.600Z"
   },
   {
    "duration": 0,
    "start_time": "2022-12-30T12:39:13.602Z"
   },
   {
    "duration": 0,
    "start_time": "2022-12-30T12:39:13.603Z"
   },
   {
    "duration": 0,
    "start_time": "2022-12-30T12:39:13.604Z"
   },
   {
    "duration": 0,
    "start_time": "2022-12-30T12:39:13.605Z"
   },
   {
    "duration": 39,
    "start_time": "2022-12-30T12:39:53.328Z"
   },
   {
    "duration": 111,
    "start_time": "2022-12-30T12:39:53.369Z"
   },
   {
    "duration": 120,
    "start_time": "2022-12-30T12:39:53.481Z"
   },
   {
    "duration": 130,
    "start_time": "2022-12-30T12:39:53.603Z"
   },
   {
    "duration": 141,
    "start_time": "2022-12-30T12:39:53.735Z"
   },
   {
    "duration": 152,
    "start_time": "2022-12-30T12:39:53.878Z"
   },
   {
    "duration": 225,
    "start_time": "2022-12-30T12:39:54.032Z"
   },
   {
    "duration": 97,
    "start_time": "2022-12-30T12:39:54.259Z"
   },
   {
    "duration": 94,
    "start_time": "2022-12-30T12:39:54.358Z"
   },
   {
    "duration": 108,
    "start_time": "2022-12-30T12:39:54.455Z"
   },
   {
    "duration": 94,
    "start_time": "2022-12-30T12:39:54.564Z"
   },
   {
    "duration": 91,
    "start_time": "2022-12-30T12:39:54.659Z"
   },
   {
    "duration": 116,
    "start_time": "2022-12-30T12:39:54.752Z"
   },
   {
    "duration": 116,
    "start_time": "2022-12-30T12:39:54.877Z"
   },
   {
    "duration": 102,
    "start_time": "2022-12-30T12:39:54.994Z"
   },
   {
    "duration": 107,
    "start_time": "2022-12-30T12:39:55.098Z"
   },
   {
    "duration": 8,
    "start_time": "2022-12-30T12:39:55.206Z"
   },
   {
    "duration": 39,
    "start_time": "2022-12-30T12:39:55.215Z"
   },
   {
    "duration": 41,
    "start_time": "2022-12-30T12:39:55.256Z"
   },
   {
    "duration": 14,
    "start_time": "2022-12-30T12:39:55.298Z"
   },
   {
    "duration": 30,
    "start_time": "2022-12-30T12:39:55.313Z"
   },
   {
    "duration": 17,
    "start_time": "2022-12-30T12:39:55.345Z"
   },
   {
    "duration": 21,
    "start_time": "2022-12-30T12:39:55.363Z"
   },
   {
    "duration": 203,
    "start_time": "2022-12-30T12:39:55.386Z"
   },
   {
    "duration": 188,
    "start_time": "2022-12-30T12:39:55.591Z"
   },
   {
    "duration": 240,
    "start_time": "2022-12-30T12:39:55.780Z"
   },
   {
    "duration": 32,
    "start_time": "2022-12-30T12:39:56.021Z"
   },
   {
    "duration": 22,
    "start_time": "2022-12-30T12:39:56.057Z"
   },
   {
    "duration": 17,
    "start_time": "2022-12-30T12:39:56.081Z"
   },
   {
    "duration": 31,
    "start_time": "2022-12-30T12:39:56.099Z"
   },
   {
    "duration": 31,
    "start_time": "2022-12-30T12:39:56.132Z"
   },
   {
    "duration": 30,
    "start_time": "2022-12-30T12:39:56.164Z"
   },
   {
    "duration": 389,
    "start_time": "2022-12-30T12:39:56.196Z"
   },
   {
    "duration": 526,
    "start_time": "2022-12-30T12:39:56.587Z"
   },
   {
    "duration": 570,
    "start_time": "2022-12-30T12:39:57.114Z"
   },
   {
    "duration": 6,
    "start_time": "2022-12-30T12:39:57.685Z"
   },
   {
    "duration": 38,
    "start_time": "2022-12-30T12:39:57.693Z"
   },
   {
    "duration": 46,
    "start_time": "2022-12-30T12:39:57.733Z"
   },
   {
    "duration": 22,
    "start_time": "2022-12-30T12:39:57.781Z"
   },
   {
    "duration": 26,
    "start_time": "2022-12-30T12:39:57.805Z"
   },
   {
    "duration": 46,
    "start_time": "2022-12-30T12:39:57.833Z"
   },
   {
    "duration": 3,
    "start_time": "2022-12-30T12:39:57.881Z"
   },
   {
    "duration": 26,
    "start_time": "2022-12-30T12:39:57.886Z"
   },
   {
    "duration": 10,
    "start_time": "2022-12-30T12:39:57.914Z"
   },
   {
    "duration": 88,
    "start_time": "2022-12-30T12:39:57.926Z"
   },
   {
    "duration": 13,
    "start_time": "2022-12-30T12:39:58.016Z"
   },
   {
    "duration": 280,
    "start_time": "2022-12-30T12:39:58.030Z"
   },
   {
    "duration": 7,
    "start_time": "2022-12-30T12:39:58.311Z"
   },
   {
    "duration": 28,
    "start_time": "2022-12-30T12:39:58.320Z"
   },
   {
    "duration": 209,
    "start_time": "2022-12-30T12:39:58.350Z"
   },
   {
    "duration": 2079,
    "start_time": "2022-12-30T12:39:58.561Z"
   },
   {
    "duration": 10,
    "start_time": "2022-12-30T12:40:09.353Z"
   },
   {
    "duration": 7,
    "start_time": "2022-12-30T12:40:39.353Z"
   }
  ],
  "celltoolbar": "Необработанный формат ячейки",
  "colab": {
   "name": "final_project_4.ipynb",
   "provenance": []
  },
  "hide_input": false,
  "kernelspec": {
   "display_name": "Python 3 (ipykernel)",
   "language": "python",
   "name": "python3"
  },
  "language_info": {
   "codemirror_mode": {
    "name": "ipython",
    "version": 3
   },
   "file_extension": ".py",
   "mimetype": "text/x-python",
   "name": "python",
   "nbconvert_exporter": "python",
   "pygments_lexer": "ipython3",
   "version": "3.9.7"
  },
  "toc": {
   "base_numbering": 1,
   "nav_menu": {
    "height": "188px",
    "width": "404px"
   },
   "number_sections": true,
   "sideBar": true,
   "skip_h1_title": true,
   "title_cell": "Содержание",
   "title_sidebar": "Contents",
   "toc_cell": true,
   "toc_position": {
    "height": "calc(100% - 180px)",
    "left": "10px",
    "top": "150px",
    "width": "278.825px"
   },
   "toc_section_display": true,
   "toc_window_display": true
  },
  "toc-autonumbering": true,
  "toc-showmarkdowntxt": false,
  "toc-showtags": false
 },
 "nbformat": 4,
 "nbformat_minor": 4
}
